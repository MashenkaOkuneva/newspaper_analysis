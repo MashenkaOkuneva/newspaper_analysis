{
 "cells": [
  {
   "cell_type": "markdown",
   "id": "bf7cd540",
   "metadata": {},
   "source": [
    "This notebook is designed to identify articles from the validation set, as well as to evaluate the effectiveness of the filtering step by retaining only sentences that contain at least one term related to business cycle conditions.\n",
    "\n",
    "---"
   ]
  },
  {
   "cell_type": "markdown",
   "id": "c589e4a1",
   "metadata": {},
   "source": [
    "First, we'll pre-process the entire dataset and then identify the articles from the validation set."
   ]
  },
  {
   "cell_type": "code",
   "execution_count": 1,
   "id": "d7e032ee",
   "metadata": {},
   "outputs": [
    {
     "name": "stdout",
     "output_type": "stream",
     "text": [
      "0:01:01.414936\n",
      "0:00:08.329245\n"
     ]
    }
   ],
   "source": [
    "import numpy as np\n",
    "import os\n",
    "import multiprocessing as mp \n",
    "from datetime import datetime\n",
    "from functools import partial\n",
    "import keep_economy_related_sentences\n",
    "import re\n",
    "import remove_words_without_embeddings\n",
    "import csv\n",
    "from string import punctuation\n",
    "from collections import Counter\n",
    "\n",
    "# Open and read articles from the 'articles.txt' file \n",
    "with open('MediaTenor_data/articles.txt', 'r', encoding = 'utf-8') as f:\n",
    "    articles = f.read()\n",
    "\n",
    "# Open and read labels from the 'labels_binary.txt' file    \n",
    "with open('MediaTenor_data/labels_binary.txt', 'r', encoding = 'utf-8') as f:\n",
    "    labels = f.read()\n",
    "    \n",
    "NUM_CORE = 60 # set the number of cores to use\n",
    "\n",
    "# Set the path variable to point to the 'word_embeddings' directory.\n",
    "path = os.getcwd().replace('\\\\sentiment', '') + '\\\\word_embeddings'\n",
    "\n",
    "# Load words related to 'Wirtschaft' and 'Konjunktur'\n",
    "konjunktur_words = keep_economy_related_sentences.load_words(path + '\\\\konjunktur_synonyms.txt')\n",
    "wirtschaft_words = keep_economy_related_sentences.load_words(path + '\\\\wirtschaft_synonyms.txt')\n",
    "\n",
    "# Combine the two lists\n",
    "economy_related_words = konjunktur_words + wirtschaft_words\n",
    "\n",
    "startTime = datetime.now() \n",
    "\n",
    "if __name__ == \"__main__\":\n",
    "    pool = mp.Pool(NUM_CORE)\n",
    "    inputs = zip(articles.split('\\n'), [economy_related_words]*len(articles.split('\\n')))\n",
    "    economy_related_sentences = pool.starmap(keep_economy_related_sentences.keep_economy_related_sentences, inputs) \n",
    "    pool.close()\n",
    "    pool.join()\n",
    "    \n",
    "print(datetime.now()-startTime)\n",
    "\n",
    "# Initialize an empty string to store the segments of articles related to economy\n",
    "articles = ''\n",
    "\n",
    "for article in economy_related_sentences:\n",
    "    articles = articles + article + ' \\n'\n",
    "    \n",
    "def remove_multiple_spaces(text):\n",
    "    \"\"\"\n",
    "    This function removes multiple spaces in a string. \n",
    "    It uses a regular expression to match 2 or more spaces and replaces them with a single space.\n",
    "    \"\"\"\n",
    "    text = re.sub(r'\\s{2,}', ' ', text)\n",
    "    return text\n",
    "\n",
    "def remove_short_words(text):\n",
    "    \"\"\"\n",
    "    This function removes words of length 1 from a string.\n",
    "    \"\"\"\n",
    "    text = ' '.join([word for word in text.split() if len(word) > 1])\n",
    "    return text\n",
    "\n",
    "def remove_metadata(text, meta_list):\n",
    "    \"\"\"\n",
    "    This function removes metadata from a text.\n",
    "    Metadata is a list of phrases. If any of these phrases are found in the text,\n",
    "    everything from the phrase and onwards is cut off.\n",
    "    \"\"\"\n",
    "    for phrase in meta_list:\n",
    "        if phrase in text:\n",
    "            text = text.split('dokument', 1)[0]\n",
    "    return text\n",
    "\n",
    "# List of metadata phrases\n",
    "metadata_phrases = ['dokument bihann', 'dokument bid', 'dokument welt', 'dokument bberbr', 'dokument focus']\n",
    "\n",
    "# Convert articles to lowercase\n",
    "articles = articles.lower()\n",
    "\n",
    "# Remove URLs\n",
    "articles = re.sub(r'https\\S+|http\\S+|www.\\S+', '', articles)\n",
    "\n",
    "# Remove punctuation\n",
    "articles = articles.replace('.', ' ').replace('-', ' ').replace('/', ' ')\n",
    "articles = ''.join([c for c in articles if c not in punctuation and c not in ['»', '«']])\n",
    "\n",
    "# Remove non-alphabetic characters from the text\n",
    "articles = ''.join([c for c in articles if (c.isalpha() or c in [' ', '\\n'])])\n",
    "\n",
    "# Split articles by new lines\n",
    "articles_split = articles.split('\\n')\n",
    "\n",
    "# Remove multiple spaces, short words, and metadata\n",
    "articles_split = list(map(remove_multiple_spaces, articles_split))\n",
    "articles_split = list(map(remove_short_words, articles_split))\n",
    "articles_split = list(map(lambda text: remove_metadata(text, metadata_phrases), articles_split))\n",
    "\n",
    "# Load list of words that do not have embeddings\n",
    "with open('words_without_pretrained_vector.csv', newline='', encoding='utf-8-sig') as f:\n",
    "    reader = csv.reader(f)\n",
    "    words_without_embeddings = [word for sublist in reader for word in sublist]\n",
    "\n",
    "# Remove words that do not have embeddings\n",
    "startTime = datetime.now() \n",
    "\n",
    "if __name__ == \"__main__\":\n",
    "    pool = mp.Pool(NUM_CORE)\n",
    "    articles_split = pool.starmap(remove_words_without_embeddings.remove_words_without_embeddings, [(text, words_without_embeddings) for text in articles_split]) \n",
    "    pool.close()\n",
    "    pool.join()\n",
    "    \n",
    "print(datetime.now()-startTime)\n",
    "\n",
    "# Join all articles into a single string\n",
    "all_text = ' '.join(articles_split)\n",
    "\n",
    "# Create a list of all words in the MediaTenor data\n",
    "words = all_text.split()\n",
    "\n",
    "# Count the occurrences of each word in the articles\n",
    "word_counts = Counter(words)\n",
    "\n",
    "# Sort words by their count, in descending order\n",
    "sorted_vocab = sorted(word_counts, key=word_counts.get, reverse=True)\n",
    "\n",
    "# Create a dictionary that maps each word to a unique integer\n",
    "# Reserved 0 for padding and 1 for unknown words\n",
    "vocab_to_int = {word: idx for idx, word in enumerate(sorted_vocab, 2)}\n",
    "vocab_to_int['<pad>'] = 0\n",
    "vocab_to_int['<unk>'] = 1\n",
    "\n",
    "# Convert each article to a list of integers (tokens)\n",
    "articles_ints = [[vocab_to_int[word] for word in article.split()] for article in articles_split]\n",
    "\n",
    "# Get the indices of articles which have more than 20 tokens\n",
    "valid_article_indices = [idx for idx, article in enumerate(articles_ints) if len(article) > 20]\n",
    "\n",
    "split_idx = 1920\n",
    "validation_indices = valid_article_indices[split_idx:split_idx+256]"
   ]
  },
  {
   "cell_type": "markdown",
   "id": "5f83c5d0",
   "metadata": {},
   "source": [
    "Now, we're ready to assess how well our filtering step works by comparing the original articles with their filtered versions. The filtering retains only sentences that contain at least one term related to business cycle conditions. This allows us to verify that our method is accurately focusing on the relevant parts of the text."
   ]
  },
  {
   "cell_type": "code",
   "execution_count": 2,
   "id": "69f5cd3b",
   "metadata": {},
   "outputs": [],
   "source": [
    "# Open and read articles from the 'articles.txt' file \n",
    "with open('MediaTenor_data/articles.txt', 'r', encoding = 'utf-8') as f:\n",
    "    articles = f.read().split('\\n')  # Splitting into a list of articles\n",
    "\n",
    "# Open and read labels from the 'labels_binary.txt' file    \n",
    "with open('MediaTenor_data/labels_binary.txt', 'r', encoding = 'utf-8') as f:\n",
    "    labels = f.read().split('\\n')  # Splitting into a list of labels\n",
    "    \n",
    "# Filter articles and labels for the validation set\n",
    "validation_articles = [articles[i] for i in validation_indices]\n",
    "validation_labels = [labels[i] for i in validation_indices]"
   ]
  },
  {
   "cell_type": "code",
   "execution_count": 3,
   "id": "bfba4160",
   "metadata": {},
   "outputs": [],
   "source": [
    "from IPython.display import display, HTML\n",
    "\n",
    "def highlight_economy_words(text, words):\n",
    "    def replace(match):\n",
    "        return f\"<span style='color:blue'>{match.group(0)}</span>\"\n",
    "    \n",
    "    for word in words:\n",
    "        # Pattern to match the whole word followed by common punctuation, case-insensitively,\n",
    "        # but not preceded by a hyphen (-).\n",
    "        pattern = r'(?<!-)\\b' + re.escape(word) + r'\\b(?=[.,;!?\\):]|\\s|$)'\n",
    "        text = re.sub(pattern, replace, text, flags=re.IGNORECASE)\n",
    "    \n",
    "    return text"
   ]
  },
  {
   "cell_type": "code",
   "execution_count": 4,
   "id": "0f49e428",
   "metadata": {},
   "outputs": [
    {
     "name": "stdout",
     "output_type": "stream",
     "text": [
      "Der Internationale Währungsfonds (IWF) reduzierte Mitte Oktober seine Wachstumsprognose für die drittgrößte Volkswirtschaft der Welt. Japan, das Land der aufgehenden Sonne, werde 2012 nur um 2,2 Prozent und 2013 nur um 1,2 Prozent wachsen - Sonnenuntergang. Wachstum? Welches Wachstum? Das fragen sich inzwischen nicht nur die IWF-Forscher. Im dritten Quartal erlitt Nippons Wirtschaft den stärksten Rückschlag seit der Erdbebenkatastrophe im März 2011. Zwischen Juli und September schrumpfte das Bruttoinlandsprodukt (BIP) - die Summe aller im Inland erstellten Güter und Dienstleistungen - im Jahresvergleich um 3,5 Prozent. Es droht die fünfte Rezession in 15 Jahren. \"Die Situation ist äußerst ernst\", warnt Wirtschaftsminister Seiji Maehara. Japans Export, der zuletzt um fast 19 Prozent einbrach, leidet unter der Aufwertung des Yen, der schwächelnden Weltwirtschaft - aber auch unter dem Streit um die Senkaku-Inselgruppe im Ostchinesischen Meer. Ryutaro Kawano, Chefvolkswirt bei BNP Paribas: \"Das schlechte japanisch-chinesische Verhältnis schwächt die japanische Wirtschaft.\" Beispiel Nissan: Im September verlor der Autobauer in China 35 Prozent Umsatz, im Oktober sogar 41 Prozent. Unterm Strich rechnet Nissan nur noch mit 3,1 Milliarden Euro Gewinn - ein Fünftel weniger als erwartet. Die Binnennachfrage ist keine Hilfe: In der alternden japanischen Gesellschaft horten Senioren lieber ihre Ersparnisse, als sie auszugeben - und die jüngeren Einwohner verdienen noch zu wenig, um fleißig shoppen zu gehen. Zu allem Überfluss hat Japan, das jahrzehntelang mit tollen Erfindungen und ausgeklügelten Produktionstechniken konkurrierende Volkswirtschaften auf Abstand hielt, neuerdings ein Management- und Erfinderproblem. Kazuo Inamori, 80, rügt heutige Firmenchefs für ein \"Klima des Mittelmaßes\", in dem \"keine bahnbrechenden Ideen mehr auf den Markt\" kommen (s. Interview S. 108). Während Apple, Samsung und Lenovo mit smarten Geräte gute Gewinne einfahren, geht Japans Elektronikindustrie die Luft aus. Fernsehbauer Sharp ist zwar der größte Hersteller von Flüssigkristall-Bildschirmen im Land, hat aber das boomende Geschäft mit Smartphones und Tablets verschlafen. Zum 100. Firmenjubiläum droht sogar die Pleite. Gemischtwarenladen Panasonic, der von Zahnbürsten über Reiskocher und Laptops fast alles produziert, verbuchte allein im vergangenen Quartal sieben Milliarden Euro Verlust. Sony verlor acht Jahre hintereinander mit TV-Geräten Geld. Die ersten US-Hedgefonds wetten bereits auf eine weitere Verschlechterung der Finanzlage bei Panasonic, Sony, Nippon Paper und Kobe Steel. Zusätzliche Verunsicherung schafft die Lage der Staatsfinanzen. Japans Staatsschulden sind mehr als doppelt so hoch wie die gesamte Wirtschaftsleistung (BIP). \"Sogar Griechenland steht besser da als wir\", warnt Mitsumaru Kumagi, Chefvolkswirt des Daiwa-Instituts. Eine Verdoppelung der Mehrwertsteuer von fünf auf zehn Prozent in zwei Schritten von 2014 an soll mehr Geld in die Staatskasse spülen. Da private Konsumenten und Firmen Käufe vorziehen werden, könnte dies 2013 die Nachfrage beleben und das BIP um 1,9 Prozent wachsen lassen, schätzt Citigroup. Dafür droht dann 2014 der Absturz. Als die Regierung 1997 die Mehrwertsteuer anhob, folgten fast zwei Jahre Rezession. Gut möglich, dass der IWF seine Wachstumsprognose für Japan bald schon wieder anpassen muss.\n"
     ]
    }
   ],
   "source": [
    "index_explore = 56\n",
    "article_to_explore = validation_articles[index_explore]\n",
    "print(article_to_explore)\n",
    "label_to_explore = validation_labels[index_explore]\n",
    "economy_related_sentences_example = keep_economy_related_sentences.keep_economy_related_sentences(validation_articles[index_explore], economy_related_words)"
   ]
  },
  {
   "cell_type": "code",
   "execution_count": 5,
   "id": "109f6616",
   "metadata": {},
   "outputs": [
    {
     "data": {
      "text/html": [
       "<h3>Original Article:</h3><p>Der Internationale Währungsfonds (IWF) reduzierte Mitte Oktober seine <span style='color:blue'>Wachstumsprognose</span> für die drittgrößte <span style='color:blue'>Volkswirtschaft</span> der Welt. Japan, das Land der aufgehenden Sonne, werde 2012 nur um 2,2 Prozent und 2013 nur um 1,2 Prozent wachsen - Sonnenuntergang. Wachstum? Welches Wachstum? Das fragen sich inzwischen nicht nur die IWF-Forscher. Im dritten Quartal erlitt Nippons <span style='color:blue'>Wirtschaft</span> den stärksten Rückschlag seit der Erdbebenkatastrophe im März 2011. Zwischen Juli und September schrumpfte das <span style='color:blue'>Bruttoinlandsprodukt</span> (<span style='color:blue'>BIP</span>) - die Summe aller im Inland erstellten Güter und Dienstleistungen - im Jahresvergleich um 3,5 Prozent. Es droht die fünfte Rezession in 15 Jahren. \"Die Situation ist äußerst ernst\", warnt Wirtschaftsminister Seiji Maehara. Japans Export, der zuletzt um fast 19 Prozent einbrach, leidet unter der <span style='color:blue'>Aufwertung</span> des Yen, der schwächelnden <span style='color:blue'>Weltwirtschaft</span> - aber auch unter dem Streit um die Senkaku-Inselgruppe im Ostchinesischen Meer. Ryutaro Kawano, Chefvolkswirt bei BNP Paribas: \"Das schlechte japanisch-chinesische Verhältnis schwächt die japanische <span style='color:blue'>Wirtschaft</span>.\" Beispiel Nissan: Im September verlor der Autobauer in China 35 Prozent Umsatz, im Oktober sogar 41 Prozent. Unterm Strich rechnet Nissan nur noch mit 3,1 Milliarden Euro Gewinn - ein Fünftel weniger als erwartet. Die <span style='color:blue'>Binnennachfrage</span> ist keine Hilfe: In der alternden japanischen Gesellschaft horten Senioren lieber ihre Ersparnisse, als sie auszugeben - und die jüngeren Einwohner verdienen noch zu wenig, um fleißig shoppen zu gehen. Zu allem Überfluss hat Japan, das jahrzehntelang mit tollen Erfindungen und ausgeklügelten Produktionstechniken konkurrierende Volkswirtschaften auf Abstand hielt, neuerdings ein Management- und Erfinderproblem. Kazuo Inamori, 80, rügt heutige Firmenchefs für ein \"Klima des Mittelmaßes\", in dem \"keine bahnbrechenden Ideen mehr auf den Markt\" kommen (s. Interview S. 108). Während Apple, Samsung und Lenovo mit smarten Geräte gute Gewinne einfahren, geht Japans Elektronikindustrie die Luft aus. Fernsehbauer Sharp ist zwar der größte Hersteller von Flüssigkristall-Bildschirmen im Land, hat aber das boomende Geschäft mit Smartphones und Tablets verschlafen. Zum 100. Firmenjubiläum droht sogar die Pleite. Gemischtwarenladen Panasonic, der von Zahnbürsten über Reiskocher und Laptops fast alles produziert, verbuchte allein im vergangenen Quartal sieben Milliarden Euro Verlust. Sony verlor acht Jahre hintereinander mit TV-Geräten Geld. Die ersten US-Hedgefonds wetten bereits auf eine weitere <span style='color:blue'>Verschlechterung</span> der Finanzlage bei Panasonic, Sony, Nippon Paper und Kobe Steel. Zusätzliche Verunsicherung schafft die Lage der <span style='color:blue'>Staatsfinanzen</span>. Japans Staatsschulden sind mehr als doppelt so hoch wie die gesamte <span style='color:blue'>Wirtschaftsleistung</span> (<span style='color:blue'>BIP</span>). \"Sogar Griechenland steht besser da als wir\", warnt Mitsumaru Kumagi, Chefvolkswirt des Daiwa-Instituts. Eine Verdoppelung der Mehrwertsteuer von fünf auf zehn Prozent in zwei Schritten von 2014 an soll mehr Geld in die Staatskasse spülen. Da private Konsumenten und Firmen Käufe vorziehen werden, könnte dies 2013 die Nachfrage beleben und das <span style='color:blue'>BIP</span> um 1,9 Prozent wachsen lassen, schätzt Citigroup. Dafür droht dann 2014 der Absturz. Als die Regierung 1997 die Mehrwertsteuer anhob, folgten fast zwei Jahre Rezession. Gut möglich, dass der IWF seine <span style='color:blue'>Wachstumsprognose</span> für Japan bald schon wieder anpassen muss.</p>"
      ],
      "text/plain": [
       "<IPython.core.display.HTML object>"
      ]
     },
     "metadata": {},
     "output_type": "display_data"
    }
   ],
   "source": [
    "# Display original article\n",
    "display(HTML(f\"<h3>Original Article:</h3><p>{highlight_economy_words(article_to_explore, economy_related_words)}</p>\"))"
   ]
  },
  {
   "cell_type": "code",
   "execution_count": 6,
   "id": "32e33ad6",
   "metadata": {},
   "outputs": [
    {
     "data": {
      "text/html": [
       "<h3>Label:</h3><p>negative</p>"
      ],
      "text/plain": [
       "<IPython.core.display.HTML object>"
      ]
     },
     "metadata": {},
     "output_type": "display_data"
    },
    {
     "data": {
      "text/html": [
       "<h3>Transformed Article (Economy-related sentences):</h3><p>Der Internationale Währungsfonds (IWF) reduzierte Mitte Oktober seine <span style='color:blue'>Wachstumsprognose</span> für die drittgrößte <span style='color:blue'>Volkswirtschaft</span> der Welt. Im dritten Quartal erlitt Nippons <span style='color:blue'>Wirtschaft</span> den stärksten Rückschlag seit der Erdbebenkatastrophe im März 2011. Zwischen Juli und September schrumpfte das <span style='color:blue'>Bruttoinlandsprodukt</span> (<span style='color:blue'>BIP</span>) - die Summe aller im Inland erstellten Güter und Dienstleistungen - im Jahresvergleich um 3,5 Prozent. Japans Export, der zuletzt um fast 19 Prozent einbrach, leidet unter der <span style='color:blue'>Aufwertung</span> des Yen, der schwächelnden <span style='color:blue'>Weltwirtschaft</span> - aber auch unter dem Streit um die Senkaku-Inselgruppe im Ostchinesischen Meer. Ryutaro Kawano, Chefvolkswirt bei BNP Paribas: \"Das schlechte japanisch-chinesische Verhältnis schwächt die japanische <span style='color:blue'>Wirtschaft</span>.\" Die <span style='color:blue'>Binnennachfrage</span> ist keine Hilfe: In der alternden japanischen Gesellschaft horten Senioren lieber ihre Ersparnisse, als sie auszugeben - und die jüngeren Einwohner verdienen noch zu wenig, um fleißig shoppen zu gehen. Die ersten US-Hedgefonds wetten bereits auf eine weitere <span style='color:blue'>Verschlechterung</span> der Finanzlage bei Panasonic, Sony, Nippon Paper und Kobe Steel. Zusätzliche Verunsicherung schafft die Lage der <span style='color:blue'>Staatsfinanzen</span>. Japans Staatsschulden sind mehr als doppelt so hoch wie die gesamte <span style='color:blue'>Wirtschaftsleistung</span> (<span style='color:blue'>BIP</span>). Da private Konsumenten und Firmen Käufe vorziehen werden, könnte dies 2013 die Nachfrage beleben und das <span style='color:blue'>BIP</span> um 1,9 Prozent wachsen lassen, schätzt Citigroup. Gut möglich, dass der IWF seine <span style='color:blue'>Wachstumsprognose</span> für Japan bald schon wieder anpassen muss.</p>"
      ],
      "text/plain": [
       "<IPython.core.display.HTML object>"
      ]
     },
     "metadata": {},
     "output_type": "display_data"
    }
   ],
   "source": [
    "# Display label and transformed text with highlights\n",
    "display(HTML(f\"<h3>Label:</h3><p>{label_to_explore}</p>\"))\n",
    "display(HTML(f\"<h3>Transformed Article (Economy-related sentences):</h3><p>{highlight_economy_words(economy_related_sentences_example, economy_related_words)}</p>\"))"
   ]
  }
 ],
 "metadata": {
  "kernelspec": {
   "display_name": "py3_env_gpu",
   "language": "python",
   "name": "py3_env_gpu"
  },
  "language_info": {
   "codemirror_mode": {
    "name": "ipython",
    "version": 3
   },
   "file_extension": ".py",
   "mimetype": "text/x-python",
   "name": "python",
   "nbconvert_exporter": "python",
   "pygments_lexer": "ipython3",
   "version": "3.8.15"
  }
 },
 "nbformat": 4,
 "nbformat_minor": 5
}
