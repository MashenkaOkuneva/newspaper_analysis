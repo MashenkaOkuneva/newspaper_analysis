{
 "cells": [
  {
   "cell_type": "markdown",
   "id": "74fed1c5",
   "metadata": {},
   "source": [
    "This notebook is designed to identify and save the indices of articles from the training set, as well as to evaluate the effectiveness of the filtering step by retaining only sentences that contain at least one term related to business cycle conditions.\n",
    "\n",
    "---"
   ]
  },
  {
   "cell_type": "markdown",
   "id": "4e452399",
   "metadata": {},
   "source": [
    "First, we'll pre-process the entire dataset and then identify the articles from the training set."
   ]
  },
  {
   "cell_type": "code",
   "execution_count": 1,
   "id": "20f29743",
   "metadata": {},
   "outputs": [
    {
     "name": "stdout",
     "output_type": "stream",
     "text": [
      "0:00:54.174750\n",
      "0:00:08.691316\n"
     ]
    }
   ],
   "source": [
    "import numpy as np\n",
    "import os\n",
    "import multiprocessing as mp \n",
    "from datetime import datetime\n",
    "from functools import partial\n",
    "import keep_economy_related_sentences\n",
    "import re\n",
    "import remove_words_without_embeddings\n",
    "import csv\n",
    "from string import punctuation\n",
    "from collections import Counter\n",
    "\n",
    "# Open and read articles from the 'articles.txt' file \n",
    "with open('MediaTenor_data/articles.txt', 'r', encoding = 'utf-8') as f:\n",
    "    articles = f.read()\n",
    "\n",
    "# Open and read labels from the 'labels_binary.txt' file    \n",
    "with open('MediaTenor_data/labels_binary.txt', 'r', encoding = 'utf-8') as f:\n",
    "    labels = f.read()\n",
    "    \n",
    "NUM_CORE = 60 # set the number of cores to use\n",
    "\n",
    "# Set the path variable to point to the 'word_embeddings' directory.\n",
    "path = os.getcwd().replace('\\\\sentiment', '') + '\\\\word_embeddings'\n",
    "\n",
    "# Load words related to 'Wirtschaft' and 'Konjunktur'\n",
    "konjunktur_words = keep_economy_related_sentences.load_words(path + '\\\\konjunktur_synonyms.txt')\n",
    "wirtschaft_words = keep_economy_related_sentences.load_words(path + '\\\\wirtschaft_synonyms.txt')\n",
    "\n",
    "# Combine the two lists\n",
    "economy_related_words = konjunktur_words + wirtschaft_words\n",
    "\n",
    "startTime = datetime.now() \n",
    "\n",
    "if __name__ == \"__main__\":\n",
    "    pool = mp.Pool(NUM_CORE)\n",
    "    inputs = zip(articles.split('\\n'), [economy_related_words]*len(articles.split('\\n')))\n",
    "    economy_related_sentences = pool.starmap(keep_economy_related_sentences.keep_economy_related_sentences, inputs) \n",
    "    pool.close()\n",
    "    pool.join()\n",
    "    \n",
    "print(datetime.now()-startTime)\n",
    "\n",
    "# Initialize an empty string to store the segments of articles related to economy\n",
    "articles = ''\n",
    "\n",
    "for article in economy_related_sentences:\n",
    "    articles = articles + article + ' \\n'\n",
    "    \n",
    "def remove_multiple_spaces(text):\n",
    "    \"\"\"\n",
    "    This function removes multiple spaces in a string. \n",
    "    It uses a regular expression to match 2 or more spaces and replaces them with a single space.\n",
    "    \"\"\"\n",
    "    text = re.sub(r'\\s{2,}', ' ', text)\n",
    "    return text\n",
    "\n",
    "def remove_short_words(text):\n",
    "    \"\"\"\n",
    "    This function removes words of length 1 from a string.\n",
    "    \"\"\"\n",
    "    text = ' '.join([word for word in text.split() if len(word) > 1])\n",
    "    return text\n",
    "\n",
    "def remove_metadata(text, meta_list):\n",
    "    \"\"\"\n",
    "    This function removes metadata from a text.\n",
    "    Metadata is a list of phrases. If any of these phrases are found in the text,\n",
    "    everything from the phrase and onwards is cut off.\n",
    "    \"\"\"\n",
    "    for phrase in meta_list:\n",
    "        if phrase in text:\n",
    "            text = text.split('dokument', 1)[0]\n",
    "    return text\n",
    "\n",
    "# List of metadata phrases\n",
    "metadata_phrases = ['dokument bihann', 'dokument bid', 'dokument welt', 'dokument bberbr', 'dokument focus']\n",
    "\n",
    "# Convert articles to lowercase\n",
    "articles = articles.lower()\n",
    "\n",
    "# Remove URLs\n",
    "articles = re.sub(r'https\\S+|http\\S+|www.\\S+', '', articles)\n",
    "\n",
    "# Remove punctuation\n",
    "articles = articles.replace('.', ' ').replace('-', ' ').replace('/', ' ')\n",
    "articles = ''.join([c for c in articles if c not in punctuation and c not in ['»', '«']])\n",
    "\n",
    "# Remove non-alphabetic characters from the text\n",
    "articles = ''.join([c for c in articles if (c.isalpha() or c in [' ', '\\n'])])\n",
    "\n",
    "# Split articles by new lines\n",
    "articles_split = articles.split('\\n')\n",
    "\n",
    "# Remove multiple spaces, short words, and metadata\n",
    "articles_split = list(map(remove_multiple_spaces, articles_split))\n",
    "articles_split = list(map(remove_short_words, articles_split))\n",
    "articles_split = list(map(lambda text: remove_metadata(text, metadata_phrases), articles_split))\n",
    "\n",
    "# Load list of words that do not have embeddings\n",
    "with open('words_without_pretrained_vector.csv', newline='', encoding='utf-8-sig') as f:\n",
    "    reader = csv.reader(f)\n",
    "    words_without_embeddings = [word for sublist in reader for word in sublist]\n",
    "\n",
    "# Remove words that do not have embeddings\n",
    "startTime = datetime.now() \n",
    "\n",
    "if __name__ == \"__main__\":\n",
    "    pool = mp.Pool(NUM_CORE)\n",
    "    articles_split = pool.starmap(remove_words_without_embeddings.remove_words_without_embeddings, [(text, words_without_embeddings) for text in articles_split]) \n",
    "    pool.close()\n",
    "    pool.join()\n",
    "    \n",
    "print(datetime.now()-startTime)\n",
    "\n",
    "# Join all articles into a single string\n",
    "all_text = ' '.join(articles_split)\n",
    "\n",
    "# Create a list of all words in the MediaTenor data\n",
    "words = all_text.split()\n",
    "\n",
    "# Count the occurrences of each word in the articles\n",
    "word_counts = Counter(words)\n",
    "\n",
    "# Sort words by their count, in descending order\n",
    "sorted_vocab = sorted(word_counts, key=word_counts.get, reverse=True)\n",
    "\n",
    "# Create a dictionary that maps each word to a unique integer\n",
    "# Reserved 0 for padding and 1 for unknown words\n",
    "vocab_to_int = {word: idx for idx, word in enumerate(sorted_vocab, 2)}\n",
    "vocab_to_int['<pad>'] = 0\n",
    "vocab_to_int['<unk>'] = 1\n",
    "\n",
    "# Convert each article to a list of integers (tokens)\n",
    "articles_ints = [[vocab_to_int[word] for word in article.split()] for article in articles_split]\n",
    "\n",
    "# Get the indices of articles which have more than 20 tokens\n",
    "valid_article_indices = [idx for idx, article in enumerate(articles_ints) if len(article) > 20]\n",
    "\n",
    "split_idx = 1920\n",
    "train_indices = valid_article_indices[:split_idx]\n",
    "\n",
    "# Save the train indices to a CSV file\n",
    "with open('train_indices.csv', 'w', newline='') as f:\n",
    "    writer = csv.writer(f)\n",
    "    writer.writerow(train_indices)"
   ]
  },
  {
   "cell_type": "markdown",
   "id": "98b2d4e4",
   "metadata": {},
   "source": [
    "Now, we're ready to assess how well our filtering step works by comparing the original articles with their filtered versions. The filtering retains only sentences that contain at least one term related to business cycle conditions. This allows us to verify that our method is accurately focusing on the relevant parts of the text."
   ]
  },
  {
   "cell_type": "code",
   "execution_count": 2,
   "id": "943a6bae",
   "metadata": {},
   "outputs": [],
   "source": [
    "# Open and read articles from the 'articles.txt' file \n",
    "with open('MediaTenor_data/articles.txt', 'r', encoding = 'utf-8') as f:\n",
    "    articles = f.read().split('\\n')  # Splitting into a list of articles\n",
    "\n",
    "# Open and read labels from the 'labels_binary.txt' file    \n",
    "with open('MediaTenor_data/labels_binary.txt', 'r', encoding = 'utf-8') as f:\n",
    "    labels = f.read().split('\\n')  # Splitting into a list of labels\n",
    "    \n",
    "# Filter articles and labels for the training set\n",
    "train_articles = [articles[i] for i in train_indices]\n",
    "train_labels = [labels[i] for i in train_indices]"
   ]
  },
  {
   "cell_type": "code",
   "execution_count": 3,
   "id": "9aba197a",
   "metadata": {},
   "outputs": [],
   "source": [
    "from IPython.display import display, HTML\n",
    "\n",
    "def highlight_economy_words(text, words):\n",
    "    def replace(match):\n",
    "        return f\"<span style='color:blue'>{match.group(0)}</span>\"\n",
    "    \n",
    "    for word in words:\n",
    "        # Pattern to match the whole word followed by common punctuation, case-insensitively,\n",
    "        # but not preceded by a hyphen (-).\n",
    "        pattern = r'(?<!-)\\b' + re.escape(word) + r'\\b(?=[.,;!?\\):]|\\s|$)'\n",
    "        text = re.sub(pattern, replace, text, flags=re.IGNORECASE)\n",
    "    \n",
    "    return text"
   ]
  },
  {
   "cell_type": "code",
   "execution_count": 4,
   "id": "62e81187",
   "metadata": {},
   "outputs": [
    {
     "name": "stdout",
     "output_type": "stream",
     "text": [
      "Berlin - 2017 verspricht ein sonniges Jahr für die deutsche Wirtschaft zu werden.  Volkswirte rechnen mit einer stabilen Aufwärtsentwicklung. Dafür sprechen die Erholung der Weltkonjunktur und die verbesserten Exportchancen für die Industrie. Auch globale Risiken durch den Brexit hätten sich abgeschwächt, betonen Volkswirte deutscher Großbanken.  \"Die Konjunktur läuft immer besser, die Unternehmen werden immer optimistischer. Was sich derzeit bei der Konjunktur zeigt, geht über unsere Erwartungen hinaus\", sagt Allianz-Volkswirt Rolf Schneider.  Optimistisch zeigt sich auch DZ-Bank-Ökonom Michael Holstein, der für 2017 mit einem Wachstum der deutschen Wirtschaft von 1,7 Prozent rechnet. Für den Commerzbank-Konjunkturexperten Eckart Tuchtfeld kommt hinzu, dass inzwischen in vielen Chefetagen die Sorge vor einer Abschottung des US-Marktes eine untergeordnete Rolle spiele. \n"
     ]
    }
   ],
   "source": [
    "index_explore = 350\n",
    "article_to_explore = train_articles[index_explore]\n",
    "print(article_to_explore)\n",
    "label_to_explore = train_labels[index_explore]\n",
    "economy_related_sentences_example = keep_economy_related_sentences.keep_economy_related_sentences(train_articles[index_explore], economy_related_words)"
   ]
  },
  {
   "cell_type": "code",
   "execution_count": 5,
   "id": "170efea1",
   "metadata": {},
   "outputs": [
    {
     "data": {
      "text/html": [
       "<h3>Original Article:</h3><p>Berlin - 2017 verspricht ein sonniges Jahr für die deutsche <span style='color:blue'>Wirtschaft</span> zu werden.  Volkswirte rechnen mit einer stabilen Aufwärtsentwicklung. Dafür sprechen die Erholung der Weltkonjunktur und die verbesserten <span style='color:blue'>Exportchancen</span> für die <span style='color:blue'>Industrie</span>. Auch globale Risiken durch den Brexit hätten sich abgeschwächt, betonen Volkswirte deutscher Großbanken.  \"Die <span style='color:blue'>Konjunktur</span> läuft immer besser, die Unternehmen werden immer optimistischer. Was sich derzeit bei der <span style='color:blue'>Konjunktur</span> zeigt, geht über unsere Erwartungen hinaus\", sagt Allianz-Volkswirt Rolf Schneider.  Optimistisch zeigt sich auch DZ-Bank-Ökonom Michael Holstein, der für 2017 mit einem Wachstum der deutschen <span style='color:blue'>Wirtschaft</span> von 1,7 Prozent rechnet. Für den Commerzbank-Konjunkturexperten Eckart Tuchtfeld kommt hinzu, dass inzwischen in vielen Chefetagen die Sorge vor einer Abschottung des US-Marktes eine untergeordnete Rolle spiele. </p>"
      ],
      "text/plain": [
       "<IPython.core.display.HTML object>"
      ]
     },
     "metadata": {},
     "output_type": "display_data"
    }
   ],
   "source": [
    "# Display original article\n",
    "display(HTML(f\"<h3>Original Article:</h3><p>{highlight_economy_words(article_to_explore, economy_related_words)}</p>\"))"
   ]
  },
  {
   "cell_type": "code",
   "execution_count": 6,
   "id": "ba7fc1b4",
   "metadata": {},
   "outputs": [
    {
     "data": {
      "text/html": [
       "<h3>Label:</h3><p>positive</p>"
      ],
      "text/plain": [
       "<IPython.core.display.HTML object>"
      ]
     },
     "metadata": {},
     "output_type": "display_data"
    },
    {
     "data": {
      "text/html": [
       "<h3>Transformed Article (Economy-related sentences):</h3><p>Berlin - 2017 verspricht ein sonniges Jahr für die deutsche <span style='color:blue'>Wirtschaft</span> zu werden. Dafür sprechen die Erholung der Weltkonjunktur und die verbesserten <span style='color:blue'>Exportchancen</span> für die <span style='color:blue'>Industrie</span>. \"Die <span style='color:blue'>Konjunktur</span> läuft immer besser, die Unternehmen werden immer optimistischer. Was sich derzeit bei der <span style='color:blue'>Konjunktur</span> zeigt, geht über unsere Erwartungen hinaus\", sagt Allianz-Volkswirt Rolf Schneider. Optimistisch zeigt sich auch DZ-Bank-Ökonom Michael Holstein, der für 2017 mit einem Wachstum der deutschen <span style='color:blue'>Wirtschaft</span> von 1,7 Prozent rechnet.</p>"
      ],
      "text/plain": [
       "<IPython.core.display.HTML object>"
      ]
     },
     "metadata": {},
     "output_type": "display_data"
    }
   ],
   "source": [
    "# Display label and transformed text with highlights\n",
    "display(HTML(f\"<h3>Label:</h3><p>{label_to_explore}</p>\"))\n",
    "display(HTML(f\"<h3>Transformed Article (Economy-related sentences):</h3><p>{highlight_economy_words(economy_related_sentences_example, economy_related_words)}</p>\"))"
   ]
  }
 ],
 "metadata": {
  "kernelspec": {
   "display_name": "py3_env_gpu",
   "language": "python",
   "name": "py3_env_gpu"
  },
  "language_info": {
   "codemirror_mode": {
    "name": "ipython",
    "version": 3
   },
   "file_extension": ".py",
   "mimetype": "text/x-python",
   "name": "python",
   "nbconvert_exporter": "python",
   "pygments_lexer": "ipython3",
   "version": "3.8.15"
  }
 },
 "nbformat": 4,
 "nbformat_minor": 5
}
