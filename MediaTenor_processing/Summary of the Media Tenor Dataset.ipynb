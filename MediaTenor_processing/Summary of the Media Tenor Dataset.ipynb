{
 "cells": [
  {
   "cell_type": "markdown",
   "metadata": {},
   "source": [
    "We acquired our training set for sentiment analysis from Media Tenor International, a Swiss-based media analysis institute. Specifically, we received an Excel file containing details such as the article's publication date, source, title, sentiment topic (e.g., sentiment towards business cycle conditions), the number of annotators who evaluated each article as negative, neutral, or positive, and the total number of annotators per article. \n",
    "\n",
    "In this notebook, we analyze the Media Tenor dataset to produce its summary and descriptive statistics. \n",
    "\n",
    "---"
   ]
  },
  {
   "cell_type": "markdown",
   "metadata": {},
   "source": [
    "The original Media Tenor dataset includes 16,874 annotated articles. However, 295 of these articles had empty titles, making it impossible to locate them in LexisNexis and Factiva. Consequently, we removed these entries, resulting in a dataset of 16,579 annotated articles."
   ]
  },
  {
   "cell_type": "code",
   "execution_count": 1,
   "metadata": {},
   "outputs": [
    {
     "name": "stdout",
     "output_type": "stream",
     "text": [
      "Number of articles with empty titles: 295\n",
      "Number of annotations in the Media Tenor dataset: 16579\n"
     ]
    }
   ],
   "source": [
    "import pandas as pd\n",
    "\n",
    "# Open the file acquired from Media Tenor\n",
    "sentiment_data = pd.read_csv('Daten_Wirtschaftliche_Lage.csv', encoding = 'utf-8', sep=';')\n",
    "\n",
    "# Calculate the number of annotated articles with empty titles\n",
    "num_empty_titles = sentiment_data['title'].isnull().sum()\n",
    "\n",
    "# Print the number of articles with empty titles\n",
    "print(f\"Number of articles with empty titles: {num_empty_titles}\")\n",
    "\n",
    "# Remove articles with empty titles since they cannot be matched\n",
    "sentiment_data = sentiment_data[sentiment_data['title'].notnull()]\n",
    "\n",
    "# Reset the index of the DataFrame\n",
    "sentiment_data.reset_index(drop=True, inplace=True)\n",
    "\n",
    "# Print the number of annotations in the Media Tenor dataset\n",
    "num_annotations = len(sentiment_data)\n",
    "print(f\"Number of annotations in the Media Tenor dataset: {num_annotations}\")"
   ]
  },
  {
   "cell_type": "code",
   "execution_count": 2,
   "metadata": {},
   "outputs": [
    {
     "data": {
      "text/html": [
       "<div>\n",
       "<style scoped>\n",
       "    .dataframe tbody tr th:only-of-type {\n",
       "        vertical-align: middle;\n",
       "    }\n",
       "\n",
       "    .dataframe tbody tr th {\n",
       "        vertical-align: top;\n",
       "    }\n",
       "\n",
       "    .dataframe thead th {\n",
       "        text-align: right;\n",
       "    }\n",
       "</style>\n",
       "<table border=\"1\" class=\"dataframe\">\n",
       "  <thead>\n",
       "    <tr style=\"text-align: right;\">\n",
       "      <th></th>\n",
       "      <th>date</th>\n",
       "      <th>month</th>\n",
       "      <th>medium</th>\n",
       "      <th>title</th>\n",
       "      <th>topicgroup</th>\n",
       "      <th>negative</th>\n",
       "      <th>no_clear_tone</th>\n",
       "      <th>positive</th>\n",
       "      <th>Number_of_reports</th>\n",
       "      <th>AverageRating</th>\n",
       "    </tr>\n",
       "  </thead>\n",
       "  <tbody>\n",
       "    <tr>\n",
       "      <th>0</th>\n",
       "      <td>01.01.2014</td>\n",
       "      <td>201401</td>\n",
       "      <td>WamS</td>\n",
       "      <td>Koalition</td>\n",
       "      <td>Konjunktur</td>\n",
       "      <td>0</td>\n",
       "      <td>1</td>\n",
       "      <td>0</td>\n",
       "      <td>1</td>\n",
       "      <td>0</td>\n",
       "    </tr>\n",
       "    <tr>\n",
       "      <th>1</th>\n",
       "      <td>01.01.2017</td>\n",
       "      <td>201701</td>\n",
       "      <td>FAS</td>\n",
       "      <td>Habt bloß keine Angst vor China !</td>\n",
       "      <td>Internationale Wirtschaft</td>\n",
       "      <td>0</td>\n",
       "      <td>0</td>\n",
       "      <td>1</td>\n",
       "      <td>1</td>\n",
       "      <td>100</td>\n",
       "    </tr>\n",
       "    <tr>\n",
       "      <th>2</th>\n",
       "      <td>01.01.2017</td>\n",
       "      <td>201701</td>\n",
       "      <td>BamS</td>\n",
       "      <td>Wir leben in einer Zeit der Wohlstands-Halluzi...</td>\n",
       "      <td>Konjunktur</td>\n",
       "      <td>0</td>\n",
       "      <td>0</td>\n",
       "      <td>1</td>\n",
       "      <td>1</td>\n",
       "      <td>100</td>\n",
       "    </tr>\n",
       "    <tr>\n",
       "      <th>3</th>\n",
       "      <td>01.02.2015</td>\n",
       "      <td>201502</td>\n",
       "      <td>WamS</td>\n",
       "      <td>Teheran ruft</td>\n",
       "      <td>Wettbewerbsfähigkeit/Nachfrage</td>\n",
       "      <td>1</td>\n",
       "      <td>3</td>\n",
       "      <td>0</td>\n",
       "      <td>4</td>\n",
       "      <td>-25</td>\n",
       "    </tr>\n",
       "    <tr>\n",
       "      <th>4</th>\n",
       "      <td>01.01.2017</td>\n",
       "      <td>201701</td>\n",
       "      <td>BamS</td>\n",
       "      <td>Geht es und wirklich so gut, wie es uns Merkel...</td>\n",
       "      <td>Internationale Wirtschaft</td>\n",
       "      <td>0</td>\n",
       "      <td>1</td>\n",
       "      <td>0</td>\n",
       "      <td>1</td>\n",
       "      <td>0</td>\n",
       "    </tr>\n",
       "  </tbody>\n",
       "</table>\n",
       "</div>"
      ],
      "text/plain": [
       "         date   month medium  \\\n",
       "0  01.01.2014  201401   WamS   \n",
       "1  01.01.2017  201701    FAS   \n",
       "2  01.01.2017  201701   BamS   \n",
       "3  01.02.2015  201502   WamS   \n",
       "4  01.01.2017  201701   BamS   \n",
       "\n",
       "                                               title  \\\n",
       "0                                          Koalition   \n",
       "1                  Habt bloß keine Angst vor China !   \n",
       "2  Wir leben in einer Zeit der Wohlstands-Halluzi...   \n",
       "3                                       Teheran ruft   \n",
       "4  Geht es und wirklich so gut, wie es uns Merkel...   \n",
       "\n",
       "                       topicgroup  negative  no_clear_tone  positive  \\\n",
       "0                      Konjunktur         0              1         0   \n",
       "1       Internationale Wirtschaft         0              0         1   \n",
       "2                      Konjunktur         0              0         1   \n",
       "3  Wettbewerbsfähigkeit/Nachfrage         1              3         0   \n",
       "4       Internationale Wirtschaft         0              1         0   \n",
       "\n",
       "   Number_of_reports AverageRating  \n",
       "0                  1             0  \n",
       "1                  1           100  \n",
       "2                  1           100  \n",
       "3                  4           -25  \n",
       "4                  1             0  "
      ]
     },
     "execution_count": 2,
     "metadata": {},
     "output_type": "execute_result"
    }
   ],
   "source": [
    "sentiment_data.head()"
   ]
  },
  {
   "cell_type": "markdown",
   "metadata": {},
   "source": [
    "We define the sentiment of an article based on the number of annotators who assessed it as negative, having no clear tone, or positive. The sentiment is determined using a majority vote approach. If no agreement between annotators is reached, we remove the annotation from the dataset."
   ]
  },
  {
   "cell_type": "code",
   "execution_count": 3,
   "metadata": {},
   "outputs": [],
   "source": [
    "def year(row):\n",
    "    '''\n",
    "    Extract the year from the 'date' column.\n",
    "    '''\n",
    "    # Split the date string by '.' and take the third part, then convert it to an integer\n",
    "    return int(row['date'].split('.')[2])\n",
    "\n",
    "def month(row):\n",
    "    '''\n",
    "    Extract the month from the 'date' column.\n",
    "    '''\n",
    "    # Split the date string by '.' and take the second part, then convert it to an integer\n",
    "    return int(row['date'].split('.')[1])\n",
    "\n",
    "# Apply the 'year' function to each row of the DataFrame and create a new 'year' column\n",
    "# The 'axis=1' parameter indicates that the function is applied to each row\n",
    "sentiment_data['year'] = sentiment_data.apply(lambda row: year(row), axis=1)\n",
    "\n",
    "# Apply the 'month' function to each row of the DataFrame and create a new 'month' column\n",
    "# The 'axis=1' parameter indicates that the function is applied to each row\n",
    "sentiment_data['month'] = sentiment_data.apply(lambda row: month(row), axis=1)"
   ]
  },
  {
   "cell_type": "code",
   "execution_count": 4,
   "metadata": {},
   "outputs": [
    {
     "name": "stdout",
     "output_type": "stream",
     "text": [
      "Number of annotations in the Media Tenor dataset: 15831\n"
     ]
    }
   ],
   "source": [
    "def sentiment(row):\n",
    "    '''\n",
    "    Determine the sentiment of an article based on the majority vote of annotators.\n",
    "    '''\n",
    "    # Check if 'negative' has the majority vote\n",
    "    if (row['negative'] > row['no_clear_tone']) & (row['negative'] > row['positive']):\n",
    "        return -1\n",
    "    # Check if 'positive' has the majority vote\n",
    "    if (row['positive'] > row['negative']) & (row['positive'] > row['no_clear_tone']):\n",
    "        return 1\n",
    "    # Check if 'no_clear_tone' has the majority vote\n",
    "    if (row['no_clear_tone'] > row['negative']) & (row['no_clear_tone'] > row['positive']):\n",
    "        return 0\n",
    "    # If no agreement between annotators, return NaN\n",
    "    return float('NaN')\n",
    "\n",
    "# Apply the 'sentiment' function to each row of the DataFrame and create a new 'sentiment' column\n",
    "sentiment_data['sentiment'] = sentiment_data.apply(lambda row: sentiment(row), axis=1)\n",
    "\n",
    "# Remove articles where there is no annotator agreement (i.e., sentiment is NaN)\n",
    "sentiment_data = sentiment_data[sentiment_data['sentiment'].notnull()]\n",
    "\n",
    "# Print the number of annotations in the Media Tenor dataset\n",
    "num_annotations = len(sentiment_data)\n",
    "print(f\"Number of annotations in the Media Tenor dataset: {num_annotations}\")"
   ]
  },
  {
   "cell_type": "code",
   "execution_count": 5,
   "metadata": {},
   "outputs": [],
   "source": [
    "def positive_sentiment(row):\n",
    "    '''\n",
    "    Indicate whether an article has a positive sentiment.\n",
    "    '''\n",
    "    if row['sentiment'] == 1:\n",
    "        return 1\n",
    "    else:\n",
    "        return 0\n",
    "\n",
    "def negative_sentiment(row):\n",
    "    '''\n",
    "    Indicate whether an article has a negative sentiment.\n",
    "    '''\n",
    "    if row['sentiment'] == -1:\n",
    "        return 1\n",
    "    else:\n",
    "        return 0\n",
    "\n",
    "# Apply the 'positive_sentiment' function to each row of the DataFrame and create a new 'pos' column\n",
    "sentiment_data['pos'] = sentiment_data.apply(lambda row: positive_sentiment(row), axis=1)\n",
    "\n",
    "# Apply the 'negative_sentiment' function to each row of the DataFrame and create a new 'neg' column\n",
    "sentiment_data['neg'] = sentiment_data.apply(lambda row: negative_sentiment(row), axis=1)"
   ]
  },
  {
   "cell_type": "markdown",
   "metadata": {},
   "source": [
    "The dataset includes annotations for 58 topics. The top five topics by number of annotations are: Business Cycle Conditions with 4,109 annotations, Fiscal Policy with 2,641 annotations, Labour Market with 2,390 annotations, International Economy with 1,118 annotations, and Monetary Policy with 1,110 annotations."
   ]
  },
  {
   "cell_type": "code",
   "execution_count": 6,
   "metadata": {},
   "outputs": [
    {
     "name": "stdout",
     "output_type": "stream",
     "text": [
      "Counter({'Konjunktur': 4109, 'Haushaltspolitik': 2641, 'Arbeitsmarkt': 2390, 'Internationale Wirtschaft': 1118, 'Währungspolitik/EURO/Geldpolitik': 1110, 'Wirtschaftspolitik': 872, 'Steuerpolitik': 834, 'Wirtschaftsstandort': 801, 'Wettbewerbsfähigkeit/Nachfrage': 734, 'Märkte': 199, 'EU': 111, 'Krankheiten': 81, 'Technik, Wissenschaft': 76, 'Arbeitskosten': 71, 'Sozialpolitik': 70, 'Werte': 54, 'Minderheiten': 45, 'Innere Sicherheit/Kriminalität': 41, 'Personalpolitik': 39, 'Verkehrspolitik': 38, 'Umweltpolitik, Klima, Umweltschutz': 37, 'Rentenpolitik': 32, 'Deutsche Einheit': 25, 'Bildung': 25, 'Verbraucherschutz': 23, 'Gesundheitspolitik': 22, 'Innenpolitik': 18, 'Entwicklungshilfe': 17, 'Regulierung/politische Stellungnahmen': 15, 'Fossile Energie': 15, 'Geschichte allgemein': 15, 'Militär': 13, 'Tourismus': 13, 'Parteipolitik': 12, 'Internationale Konflikte': 12, 'Strategie (Unternehmen)': 10, 'Wohnungsbau': 9, 'Energiepolitik': 9, 'Frauen/Familie/Homosexuelle': 8, 'Unfälle, Katastrophen': 8, 'Sozialhilfe': 8, 'Gesellschaft': 7, 'Außenpolitik': 7, 'Sport': 6, 'Wahlen': 6, 'Alternvative Energie': 6, 'NS-Geschichte': 4, 'Krieg': 3, 'Lage der Branche': 3, 'Medienpolitik': 1, 'Kultur': 1, 'Konsum-/Geschäftsklima': 1, 'Rechtspolitik/Justiz': 1, 'Management (Unternehmen)': 1, 'Religion': 1, 'DDR-Geschichte': 1, 'PR/Image/Skandale': 1, 'Geschichte (Unternehmen/Institutionen)': 1})\n",
      "Number of unique topics in the dataset: 58\n"
     ]
    }
   ],
   "source": [
    "import collections\n",
    "\n",
    "# Count the number of annotations for each topic in the 'topicgroup' column\n",
    "counter = collections.Counter(sentiment_data['topicgroup'])\n",
    "\n",
    "# Print the count of annotations for each topic\n",
    "print(counter)\n",
    "\n",
    "num_unique_topics = len(counter)\n",
    "print(f\"Number of unique topics in the dataset: {num_unique_topics}\")"
   ]
  },
  {
   "cell_type": "markdown",
   "metadata": {},
   "source": [
    "The annotated articles in the dataset come from several sources. The distribution of annotations by source is as follows: Spiegel with 4,205 annotations, BILD with 4,122 annotations, Focus with 2,818 annotations, WamS with 1,485 annotations, Capital with 1,411 annotations, FAS with 1,048 annotations, BamS with 718 annotations, and Manager Magazin only with 24 annotations."
   ]
  },
  {
   "cell_type": "code",
   "execution_count": 7,
   "metadata": {},
   "outputs": [
    {
     "name": "stdout",
     "output_type": "stream",
     "text": [
      "Counter({'Spiegel': 4205, 'BILD': 4122, 'Focus': 2818, 'WamS': 1485, 'Capital': 1411, 'FAS': 1048, 'BamS': 718, 'Manager Magazin': 24})\n"
     ]
    }
   ],
   "source": [
    "# Count the number of annotations for each source in the 'medium' column\n",
    "counter = collections.Counter(sentiment_data['medium'])\n",
    "\n",
    "# Print the count of annotations for each source\n",
    "print(counter)"
   ]
  },
  {
   "cell_type": "markdown",
   "metadata": {},
   "source": [
    "The same article can be annotated multiple times towards different topics. Therefore, the number of unique articles in the dataset is less than the total number of annotations, which is 15,831. Specifically, there are 12,857 unique articles in the dataset. This means that 1,916 articles were annotated at least twice towards different topics."
   ]
  },
  {
   "cell_type": "code",
   "execution_count": 8,
   "metadata": {},
   "outputs": [
    {
     "name": "stdout",
     "output_type": "stream",
     "text": [
      "Number of unique articles annotated in the dataset: 12857\n"
     ]
    }
   ],
   "source": [
    "# Drop duplicate articles based on the 'title' column\n",
    "# This is to calculate how many unique articles are annotated in the corpus\n",
    "# The 'keep' parameter is set to 'first' to keep the first occurrence of each duplicate\n",
    "unique_articles = sentiment_data.drop_duplicates(['title'], keep='first')\n",
    "\n",
    "# Calculate the number of unique articles\n",
    "num_unique_articles = len(unique_articles)\n",
    "\n",
    "# Print the number of unique articles\n",
    "print(f\"Number of unique articles annotated in the dataset: {num_unique_articles}\")"
   ]
  },
  {
   "cell_type": "code",
   "execution_count": 9,
   "metadata": {},
   "outputs": [
    {
     "name": "stdout",
     "output_type": "stream",
     "text": [
      "Number of titles annotated at least twice: 1916\n"
     ]
    }
   ],
   "source": [
    "# Identify duplicated titles\n",
    "duplicated_titles = sentiment_data['title'].duplicated(keep=False)\n",
    "\n",
    "# Filter the DataFrame to get only rows with duplicated titles\n",
    "duplicated_articles = sentiment_data[duplicated_titles]\n",
    "\n",
    "# Get the unique duplicated titles\n",
    "unique_duplicated_titles = duplicated_articles['title'].unique()\n",
    "\n",
    "# Calculate the number of unique duplicated titles\n",
    "num_duplicated_titles = len(unique_duplicated_titles)\n",
    "\n",
    "# Print the number of titles that are met more than once\n",
    "print(f\"Number of titles annotated at least twice: {num_duplicated_titles}\")"
   ]
  },
  {
   "cell_type": "markdown",
   "metadata": {},
   "source": [
    "For example, the article titled \"Habt bloß keine Angst vor China!\" has a positive sentiment towards both International Economy and Economic Policy."
   ]
  },
  {
   "cell_type": "code",
   "execution_count": 10,
   "metadata": {},
   "outputs": [
    {
     "data": {
      "text/html": [
       "<div>\n",
       "<style scoped>\n",
       "    .dataframe tbody tr th:only-of-type {\n",
       "        vertical-align: middle;\n",
       "    }\n",
       "\n",
       "    .dataframe tbody tr th {\n",
       "        vertical-align: top;\n",
       "    }\n",
       "\n",
       "    .dataframe thead th {\n",
       "        text-align: right;\n",
       "    }\n",
       "</style>\n",
       "<table border=\"1\" class=\"dataframe\">\n",
       "  <thead>\n",
       "    <tr style=\"text-align: right;\">\n",
       "      <th></th>\n",
       "      <th>date</th>\n",
       "      <th>month</th>\n",
       "      <th>medium</th>\n",
       "      <th>title</th>\n",
       "      <th>topicgroup</th>\n",
       "      <th>negative</th>\n",
       "      <th>no_clear_tone</th>\n",
       "      <th>positive</th>\n",
       "      <th>Number_of_reports</th>\n",
       "      <th>AverageRating</th>\n",
       "      <th>year</th>\n",
       "      <th>sentiment</th>\n",
       "      <th>pos</th>\n",
       "      <th>neg</th>\n",
       "    </tr>\n",
       "  </thead>\n",
       "  <tbody>\n",
       "    <tr>\n",
       "      <th>1</th>\n",
       "      <td>01.01.2017</td>\n",
       "      <td>1</td>\n",
       "      <td>FAS</td>\n",
       "      <td>Habt bloß keine Angst vor China !</td>\n",
       "      <td>Internationale Wirtschaft</td>\n",
       "      <td>0</td>\n",
       "      <td>0</td>\n",
       "      <td>1</td>\n",
       "      <td>1</td>\n",
       "      <td>100</td>\n",
       "      <td>2017</td>\n",
       "      <td>1.0</td>\n",
       "      <td>1</td>\n",
       "      <td>0</td>\n",
       "    </tr>\n",
       "    <tr>\n",
       "      <th>6</th>\n",
       "      <td>01.01.2017</td>\n",
       "      <td>1</td>\n",
       "      <td>FAS</td>\n",
       "      <td>Habt bloß keine Angst vor China !</td>\n",
       "      <td>Wirtschaftspolitik</td>\n",
       "      <td>0</td>\n",
       "      <td>0</td>\n",
       "      <td>1</td>\n",
       "      <td>1</td>\n",
       "      <td>100</td>\n",
       "      <td>2017</td>\n",
       "      <td>1.0</td>\n",
       "      <td>1</td>\n",
       "      <td>0</td>\n",
       "    </tr>\n",
       "  </tbody>\n",
       "</table>\n",
       "</div>"
      ],
      "text/plain": [
       "         date  month medium                              title  \\\n",
       "1  01.01.2017      1    FAS  Habt bloß keine Angst vor China !   \n",
       "6  01.01.2017      1    FAS  Habt bloß keine Angst vor China !   \n",
       "\n",
       "                  topicgroup  negative  no_clear_tone  positive  \\\n",
       "1  Internationale Wirtschaft         0              0         1   \n",
       "6         Wirtschaftspolitik         0              0         1   \n",
       "\n",
       "   Number_of_reports AverageRating  year  sentiment  pos  neg  \n",
       "1                  1           100  2017        1.0    1    0  \n",
       "6                  1           100  2017        1.0    1    0  "
      ]
     },
     "execution_count": 10,
     "metadata": {},
     "output_type": "execute_result"
    }
   ],
   "source": [
    "# Select one example of a duplicated title\n",
    "example_title = unique_duplicated_titles[0]\n",
    "\n",
    "# Filter the DataFrame to show only rows with the example duplicated title\n",
    "example_duplicated_articles = sentiment_data[sentiment_data['title'] == example_title]\n",
    "\n",
    "# Display annotations for the same article\n",
    "example_duplicated_articles"
   ]
  },
  {
   "cell_type": "markdown",
   "metadata": {},
   "source": [
    "In our project, we focus on sentiment towards business cycle conditions, the topic with the highest number of annotations and significant importance for economic forecasting. Next, we construct monthly sentiment indices based on Media Tenor's annotations for business cycle conditions and labour market topics. We aim to show that aspect-based sentiment analysis is important because, although these sentiment indices are correlated, they are not identical. There are periods where their behaviors diverge significantly. The labour market topic is chosen for its substantial representation in the dataset and its relevance to macroeconomic forecasting.\n",
    "\n",
    "A significant advantage of using the Media Tenor dataset is that the articles were annotated by professional coders. In cases where the sentiment was unclear, multiple annotators reviewed the article. For instance, with articles related to business cycle conditions, most were annotated by a single person (3,371 annotations). However, in 295 cases, two people were involved; in 202 cases, three people annotated the article; and there was even one instance where 26 people provided their annotations. This level of thorough annotation requires considerable resources."
   ]
  },
  {
   "cell_type": "code",
   "execution_count": 11,
   "metadata": {},
   "outputs": [
    {
     "name": "stdout",
     "output_type": "stream",
     "text": [
      "Counter({1: 3371, 2: 295, 3: 202, 4: 101, 5: 52, 6: 33, 7: 13, 8: 11, 10: 7, 9: 5, 11: 4, 16: 4, 15: 3, 12: 3, 13: 2, 18: 1, 26: 1})\n"
     ]
    }
   ],
   "source": [
    "# Filter the DataFrame for articles in the 'Konjunktur' topic group, excluding the year 2002\n",
    "konjunktur = sentiment_data[(sentiment_data['topicgroup'] == 'Konjunktur') & (sentiment_data['year'] != 2002)]\n",
    "\n",
    "# Sort the data in chronological order by year and month\n",
    "konjunktur = konjunktur.sort_values(['year', 'month'], ascending=[True, True])\n",
    "\n",
    "# Reset the index of the DataFrame\n",
    "konjunktur.reset_index(drop=True, inplace=True)\n",
    "\n",
    "# Calculate how many articles are annotated by 1, 2, 3, etc., annotators using the 'Number_of_reports' column\n",
    "counter = collections.Counter(konjunktur['Number_of_reports'])\n",
    "\n",
    "# Print the count of articles by number of annotators\n",
    "print(counter)"
   ]
  },
  {
   "cell_type": "code",
   "execution_count": 12,
   "metadata": {},
   "outputs": [
    {
     "data": {
      "text/html": [
       "<div>\n",
       "<style scoped>\n",
       "    .dataframe tbody tr th:only-of-type {\n",
       "        vertical-align: middle;\n",
       "    }\n",
       "\n",
       "    .dataframe tbody tr th {\n",
       "        vertical-align: top;\n",
       "    }\n",
       "\n",
       "    .dataframe thead th {\n",
       "        text-align: right;\n",
       "    }\n",
       "</style>\n",
       "<table border=\"1\" class=\"dataframe\">\n",
       "  <thead>\n",
       "    <tr style=\"text-align: right;\">\n",
       "      <th></th>\n",
       "      <th>date</th>\n",
       "      <th>month</th>\n",
       "      <th>medium</th>\n",
       "      <th>title</th>\n",
       "      <th>topicgroup</th>\n",
       "      <th>negative</th>\n",
       "      <th>no_clear_tone</th>\n",
       "      <th>positive</th>\n",
       "      <th>Number_of_reports</th>\n",
       "      <th>AverageRating</th>\n",
       "      <th>year</th>\n",
       "      <th>sentiment</th>\n",
       "      <th>pos</th>\n",
       "      <th>neg</th>\n",
       "    </tr>\n",
       "  </thead>\n",
       "  <tbody>\n",
       "    <tr>\n",
       "      <th>0</th>\n",
       "      <td>03.01.2011</td>\n",
       "      <td>1</td>\n",
       "      <td>Focus</td>\n",
       "      <td>7 Aktien- &amp; Fonds-Trends</td>\n",
       "      <td>Konjunktur</td>\n",
       "      <td>0</td>\n",
       "      <td>0</td>\n",
       "      <td>9</td>\n",
       "      <td>9</td>\n",
       "      <td>100</td>\n",
       "      <td>2011</td>\n",
       "      <td>1.0</td>\n",
       "      <td>1</td>\n",
       "      <td>0</td>\n",
       "    </tr>\n",
       "    <tr>\n",
       "      <th>1</th>\n",
       "      <td>17.01.2011</td>\n",
       "      <td>1</td>\n",
       "      <td>Focus</td>\n",
       "      <td>Frisches Geld für Aktionäre</td>\n",
       "      <td>Konjunktur</td>\n",
       "      <td>0</td>\n",
       "      <td>0</td>\n",
       "      <td>1</td>\n",
       "      <td>1</td>\n",
       "      <td>100</td>\n",
       "      <td>2011</td>\n",
       "      <td>1.0</td>\n",
       "      <td>1</td>\n",
       "      <td>0</td>\n",
       "    </tr>\n",
       "    <tr>\n",
       "      <th>2</th>\n",
       "      <td>21.01.2011</td>\n",
       "      <td>1</td>\n",
       "      <td>Manager Magazin</td>\n",
       "      <td>keine 5 Zeilen</td>\n",
       "      <td>Konjunktur</td>\n",
       "      <td>0</td>\n",
       "      <td>1</td>\n",
       "      <td>0</td>\n",
       "      <td>1</td>\n",
       "      <td>0</td>\n",
       "      <td>2011</td>\n",
       "      <td>0.0</td>\n",
       "      <td>0</td>\n",
       "      <td>0</td>\n",
       "    </tr>\n",
       "    <tr>\n",
       "      <th>3</th>\n",
       "      <td>07.02.2011</td>\n",
       "      <td>2</td>\n",
       "      <td>Focus</td>\n",
       "      <td>Das Inflationsgefühl täuscht nicht</td>\n",
       "      <td>Konjunktur</td>\n",
       "      <td>0</td>\n",
       "      <td>2</td>\n",
       "      <td>0</td>\n",
       "      <td>2</td>\n",
       "      <td>0</td>\n",
       "      <td>2011</td>\n",
       "      <td>0.0</td>\n",
       "      <td>0</td>\n",
       "      <td>0</td>\n",
       "    </tr>\n",
       "    <tr>\n",
       "      <th>4</th>\n",
       "      <td>14.02.2011</td>\n",
       "      <td>2</td>\n",
       "      <td>Spiegel</td>\n",
       "      <td>keine 5 Zeilen</td>\n",
       "      <td>Konjunktur</td>\n",
       "      <td>0</td>\n",
       "      <td>0</td>\n",
       "      <td>1</td>\n",
       "      <td>1</td>\n",
       "      <td>100</td>\n",
       "      <td>2011</td>\n",
       "      <td>1.0</td>\n",
       "      <td>1</td>\n",
       "      <td>0</td>\n",
       "    </tr>\n",
       "  </tbody>\n",
       "</table>\n",
       "</div>"
      ],
      "text/plain": [
       "         date  month           medium                               title  \\\n",
       "0  03.01.2011      1            Focus            7 Aktien- & Fonds-Trends   \n",
       "1  17.01.2011      1            Focus         Frisches Geld für Aktionäre   \n",
       "2  21.01.2011      1  Manager Magazin                      keine 5 Zeilen   \n",
       "3  07.02.2011      2            Focus  Das Inflationsgefühl täuscht nicht   \n",
       "4  14.02.2011      2          Spiegel                      keine 5 Zeilen   \n",
       "\n",
       "   topicgroup  negative  no_clear_tone  positive  Number_of_reports  \\\n",
       "0  Konjunktur         0              0         9                  9   \n",
       "1  Konjunktur         0              0         1                  1   \n",
       "2  Konjunktur         0              1         0                  1   \n",
       "3  Konjunktur         0              2         0                  2   \n",
       "4  Konjunktur         0              0         1                  1   \n",
       "\n",
       "  AverageRating  year  sentiment  pos  neg  \n",
       "0           100  2011        1.0    1    0  \n",
       "1           100  2011        1.0    1    0  \n",
       "2             0  2011        0.0    0    0  \n",
       "3             0  2011        0.0    0    0  \n",
       "4           100  2011        1.0    1    0  "
      ]
     },
     "execution_count": 12,
     "metadata": {},
     "output_type": "execute_result"
    }
   ],
   "source": [
    "# Display the resulting DataFrame\n",
    "konjunktur.head()"
   ]
  },
  {
   "cell_type": "markdown",
   "metadata": {},
   "source": [
    "The sentiment annotations towards business cycle conditions come from various sources: 1,020 annotations from Spiegel, 875 from BILD, 730 from Focus, 488 from WamS, 411 from Capital, 392 from FAS, 176 from BamS, and 16 from Manager Magazin."
   ]
  },
  {
   "cell_type": "code",
   "execution_count": 13,
   "metadata": {},
   "outputs": [
    {
     "name": "stdout",
     "output_type": "stream",
     "text": [
      "Counter({'Spiegel': 1020, 'BILD': 875, 'Focus': 730, 'WamS': 488, 'Capital': 411, 'FAS': 392, 'BamS': 176, 'Manager Magazin': 16})\n"
     ]
    }
   ],
   "source": [
    "# Count the number of annotations for each source in the 'medium' column\n",
    "counter = collections.Counter(konjunktur['medium'])\n",
    "\n",
    "# Print the count of annotations for each source\n",
    "print(counter)"
   ]
  },
  {
   "cell_type": "markdown",
   "metadata": {},
   "source": [
    "The average number of sentiment annotations towards business cycle conditions is 36.35 per month."
   ]
  },
  {
   "cell_type": "code",
   "execution_count": 14,
   "metadata": {},
   "outputs": [
    {
     "name": "stdout",
     "output_type": "stream",
     "text": [
      "Average number of annotations towards business cycle conditions per month: 36.35\n"
     ]
    }
   ],
   "source": [
    "# Group by year and month to count the number of annotations per month\n",
    "monthly_annotations = konjunktur.groupby(['year', 'month']).size()\n",
    "\n",
    "# Calculate the average number of annotations per month\n",
    "average_annotations_per_month = monthly_annotations.mean()\n",
    "\n",
    "# Print the result\n",
    "print(f\"Average number of annotations towards business cycle conditions per month: {average_annotations_per_month:.2f}\")"
   ]
  },
  {
   "cell_type": "code",
   "execution_count": 15,
   "metadata": {},
   "outputs": [
    {
     "name": "stdout",
     "output_type": "stream",
     "text": [
      "Counter({1: 2210, 2: 70, 3: 46, 4: 22, 5: 12, 7: 4, 6: 4, 11: 2, 16: 2, 8: 2, 29: 2, 9: 2, 17: 1, 24: 1, 19: 1, 21: 1, 10: 1, 33: 1, 14: 1, 23: 1, 13: 1, 27: 1, 18: 1, 12: 1})\n"
     ]
    }
   ],
   "source": [
    "# Filter the DataFrame for articles in the 'Arbeitsmarkt' ('Labour Market') topic group\n",
    "lm = sentiment_data[sentiment_data['topicgroup'] == 'Arbeitsmarkt']\n",
    "\n",
    "# Sort the data in chronological order by year and month\n",
    "lm = lm.sort_values(['year', 'month'], ascending=[True, True])\n",
    "\n",
    "# Reset the index of the DataFrame\n",
    "lm.reset_index(drop=True, inplace=True)\n",
    "\n",
    "# Calculate how many articles are annotated by 1, 2, 3, etc., annotators using the 'Number_of_reports' column\n",
    "counter = collections.Counter(lm['Number_of_reports'])\n",
    "\n",
    "# Print the count of articles by number of annotators\n",
    "print(counter)"
   ]
  },
  {
   "cell_type": "code",
   "execution_count": 16,
   "metadata": {},
   "outputs": [
    {
     "data": {
      "text/html": [
       "<div>\n",
       "<style scoped>\n",
       "    .dataframe tbody tr th:only-of-type {\n",
       "        vertical-align: middle;\n",
       "    }\n",
       "\n",
       "    .dataframe tbody tr th {\n",
       "        vertical-align: top;\n",
       "    }\n",
       "\n",
       "    .dataframe thead th {\n",
       "        text-align: right;\n",
       "    }\n",
       "</style>\n",
       "<table border=\"1\" class=\"dataframe\">\n",
       "  <thead>\n",
       "    <tr style=\"text-align: right;\">\n",
       "      <th></th>\n",
       "      <th>date</th>\n",
       "      <th>month</th>\n",
       "      <th>medium</th>\n",
       "      <th>title</th>\n",
       "      <th>topicgroup</th>\n",
       "      <th>negative</th>\n",
       "      <th>no_clear_tone</th>\n",
       "      <th>positive</th>\n",
       "      <th>Number_of_reports</th>\n",
       "      <th>AverageRating</th>\n",
       "      <th>year</th>\n",
       "      <th>sentiment</th>\n",
       "      <th>pos</th>\n",
       "      <th>neg</th>\n",
       "    </tr>\n",
       "  </thead>\n",
       "  <tbody>\n",
       "    <tr>\n",
       "      <th>0</th>\n",
       "      <td>16.04.2011</td>\n",
       "      <td>4</td>\n",
       "      <td>Focus</td>\n",
       "      <td>schupelius, gunnar</td>\n",
       "      <td>Arbeitsmarkt</td>\n",
       "      <td>0</td>\n",
       "      <td>1</td>\n",
       "      <td>0</td>\n",
       "      <td>1</td>\n",
       "      <td>0</td>\n",
       "      <td>2011</td>\n",
       "      <td>0.0</td>\n",
       "      <td>0</td>\n",
       "      <td>0</td>\n",
       "    </tr>\n",
       "    <tr>\n",
       "      <th>1</th>\n",
       "      <td>16.05.2011</td>\n",
       "      <td>5</td>\n",
       "      <td>Focus</td>\n",
       "      <td>keine 5 Zeilen</td>\n",
       "      <td>Arbeitsmarkt</td>\n",
       "      <td>0</td>\n",
       "      <td>1</td>\n",
       "      <td>0</td>\n",
       "      <td>1</td>\n",
       "      <td>0</td>\n",
       "      <td>2011</td>\n",
       "      <td>0.0</td>\n",
       "      <td>0</td>\n",
       "      <td>0</td>\n",
       "    </tr>\n",
       "    <tr>\n",
       "      <th>2</th>\n",
       "      <td>01.07.2011</td>\n",
       "      <td>7</td>\n",
       "      <td>BILD</td>\n",
       "      <td>Job-Boom geht weiter!</td>\n",
       "      <td>Arbeitsmarkt</td>\n",
       "      <td>0</td>\n",
       "      <td>0</td>\n",
       "      <td>1</td>\n",
       "      <td>1</td>\n",
       "      <td>100</td>\n",
       "      <td>2011</td>\n",
       "      <td>1.0</td>\n",
       "      <td>1</td>\n",
       "      <td>0</td>\n",
       "    </tr>\n",
       "    <tr>\n",
       "      <th>3</th>\n",
       "      <td>04.07.2011</td>\n",
       "      <td>7</td>\n",
       "      <td>Focus</td>\n",
       "      <td>Montag ist Zeugnistag</td>\n",
       "      <td>Arbeitsmarkt</td>\n",
       "      <td>1</td>\n",
       "      <td>0</td>\n",
       "      <td>0</td>\n",
       "      <td>1</td>\n",
       "      <td>-100</td>\n",
       "      <td>2011</td>\n",
       "      <td>-1.0</td>\n",
       "      <td>0</td>\n",
       "      <td>1</td>\n",
       "    </tr>\n",
       "    <tr>\n",
       "      <th>4</th>\n",
       "      <td>04.07.2011</td>\n",
       "      <td>7</td>\n",
       "      <td>Focus</td>\n",
       "      <td>Lichtblicke für Saab Werker</td>\n",
       "      <td>Arbeitsmarkt</td>\n",
       "      <td>0</td>\n",
       "      <td>0</td>\n",
       "      <td>1</td>\n",
       "      <td>1</td>\n",
       "      <td>100</td>\n",
       "      <td>2011</td>\n",
       "      <td>1.0</td>\n",
       "      <td>1</td>\n",
       "      <td>0</td>\n",
       "    </tr>\n",
       "  </tbody>\n",
       "</table>\n",
       "</div>"
      ],
      "text/plain": [
       "         date  month medium                        title    topicgroup  \\\n",
       "0  16.04.2011      4  Focus           schupelius, gunnar  Arbeitsmarkt   \n",
       "1  16.05.2011      5  Focus               keine 5 Zeilen  Arbeitsmarkt   \n",
       "2  01.07.2011      7   BILD        Job-Boom geht weiter!  Arbeitsmarkt   \n",
       "3  04.07.2011      7  Focus        Montag ist Zeugnistag  Arbeitsmarkt   \n",
       "4  04.07.2011      7  Focus  Lichtblicke für Saab Werker  Arbeitsmarkt   \n",
       "\n",
       "   negative  no_clear_tone  positive  Number_of_reports AverageRating  year  \\\n",
       "0         0              1         0                  1             0  2011   \n",
       "1         0              1         0                  1             0  2011   \n",
       "2         0              0         1                  1           100  2011   \n",
       "3         1              0         0                  1          -100  2011   \n",
       "4         0              0         1                  1           100  2011   \n",
       "\n",
       "   sentiment  pos  neg  \n",
       "0        0.0    0    0  \n",
       "1        0.0    0    0  \n",
       "2        1.0    1    0  \n",
       "3       -1.0    0    1  \n",
       "4        1.0    1    0  "
      ]
     },
     "execution_count": 16,
     "metadata": {},
     "output_type": "execute_result"
    }
   ],
   "source": [
    "# Display the resulting DataFrame\n",
    "lm.head()"
   ]
  },
  {
   "cell_type": "markdown",
   "metadata": {},
   "source": [
    "The sentiment annotations towards labour market come from various sources: 887 annotations from BILD, 599 from Spiegel, 356 from Focus, 209 from WamS, 135 from Capital, 108 from FAS, and 96 from BamS."
   ]
  },
  {
   "cell_type": "code",
   "execution_count": 17,
   "metadata": {},
   "outputs": [
    {
     "name": "stdout",
     "output_type": "stream",
     "text": [
      "Counter({'BILD': 887, 'Spiegel': 599, 'Focus': 356, 'WamS': 209, 'Capital': 135, 'FAS': 108, 'BamS': 96})\n"
     ]
    }
   ],
   "source": [
    "# Count the number of annotations for each source in the 'medium' column\n",
    "counter = collections.Counter(lm['medium'])\n",
    "\n",
    "# Print the count of annotations for each source\n",
    "print(counter)"
   ]
  },
  {
   "cell_type": "markdown",
   "metadata": {},
   "source": [
    "The average number of sentiment annotations towards labour market is 21.93 per month."
   ]
  },
  {
   "cell_type": "code",
   "execution_count": 18,
   "metadata": {},
   "outputs": [
    {
     "name": "stdout",
     "output_type": "stream",
     "text": [
      "Average number of annotations towards labour market per month: 21.93\n"
     ]
    }
   ],
   "source": [
    "# Group by year and month to count the number of annotations per month\n",
    "monthly_annotations_lm = lm.groupby(['year', 'month']).size()\n",
    "\n",
    "# Calculate the average number of annotations per month\n",
    "average_annotations_per_month_lm = monthly_annotations_lm.mean()\n",
    "\n",
    "# Print the result\n",
    "print(f\"Average number of annotations towards labour market per month: {average_annotations_per_month_lm:.2f}\")"
   ]
  },
  {
   "cell_type": "code",
   "execution_count": 19,
   "metadata": {},
   "outputs": [],
   "source": [
    "def sentiment_index(period, data, topic_name):\n",
    "    \n",
    "    \"\"\"\n",
    "    Calculate the sentiment index for a specific topic over different time periods.\n",
    "\n",
    "    Parameters:\n",
    "    period (str): The period over which to group the data (e.g., 'month').\n",
    "    data (DataFrame): The DataFrame containing sentiment annotations for a specific topic, \n",
    "    including 'year', 'pos', 'neg', and the specified period column.\n",
    "    topic_name (str): The name of the topic for which the sentiment index is being calculated. \n",
    "    This will be used in the output file name.\n",
    "\n",
    "    Returns:\n",
    "    DataFrame: A DataFrame containing the 'year' and 'sentiment_index' for each period.\n",
    "    \"\"\"\n",
    "        \n",
    "    years = list(range(2011, 2021))\n",
    "    numerator_list = []\n",
    "    denominator_list = []\n",
    "    year_list = []\n",
    "    period_list = []\n",
    "\n",
    "    # Loop through each year and calculate the numerator and denominator\n",
    "    for year in years:\n",
    "        data_group = data[data.year == year].groupby(period)\n",
    "        numerator = data_group['pos'].sum() - data_group['neg'].sum()\n",
    "        denominator = data_group.size()\n",
    "        \n",
    "        numerator_list.append(numerator)\n",
    "        denominator_list.append(denominator)\n",
    "        year_list.extend([year] * len(numerator))\n",
    "        period_list.extend(data_group.groups.keys())\n",
    "\n",
    "    # Combine results into a DataFrame\n",
    "    sentiment_index_df = pd.DataFrame({\n",
    "        'year': year_list,\n",
    "        period: period_list,\n",
    "        'sentiment_index_numerator': pd.concat(numerator_list),\n",
    "        'sentiment_index_denominator': pd.concat(denominator_list)\n",
    "    })\n",
    "    \n",
    "    # Calculate the sentiment index\n",
    "    sentiment_index_df['sentiment_index'] = sentiment_index_df['sentiment_index_numerator'] / sentiment_index_df['sentiment_index_denominator']\n",
    "    \n",
    "    # Save sentiment index to Excel file\n",
    "    file_name = f'{topic_name}_{period}.xlsx'\n",
    "    sentiment_index_df.to_excel(file_name, index=False)\n",
    "    \n",
    "    return sentiment_index_df[['year', 'sentiment_index']]"
   ]
  },
  {
   "cell_type": "code",
   "execution_count": 20,
   "metadata": {},
   "outputs": [],
   "source": [
    "import pandas as pd\n",
    "\n",
    "# Open the file acquired from Media Tenor\n",
    "sentiment_data = pd.read_csv('Daten_Wirtschaftliche_Lage.csv', encoding = 'utf-8', sep=';')\n",
    "\n",
    "# Remove articles with empty titles since they cannot be matched\n",
    "sentiment_data = sentiment_data[sentiment_data['title'].notnull()]"
   ]
  },
  {
   "cell_type": "markdown",
   "metadata": {},
   "source": [
    "In the picture, we can observe distinct periods where the sentiment towards business cycle conditions and the labour market diverge. For instance, in 2016, there is a significant drop in sentiment towards business cycle conditions, whereas the sentiment towards the labour market remains stable."
   ]
  },
  {
   "cell_type": "code",
   "execution_count": 21,
   "metadata": {},
   "outputs": [
    {
     "name": "stderr",
     "output_type": "stream",
     "text": [
      "The PostScript backend does not support transparency; partially transparent artists will be rendered opaque.\n"
     ]
    },
    {
     "data": {
      "image/png": "[encoded data removed]",
      "text/plain": [
       "<Figure size 1000x600 with 1 Axes>"
      ]
     },
     "metadata": {},
     "output_type": "display_data"
    }
   ],
   "source": [
    "# Calculate sentiment indices towards business cycle conditions and labour market\n",
    "konjunktur_sentiment = sentiment_index('month', konjunktur, 'konjunktur').reset_index()\n",
    "labour_market_sentiment = sentiment_index('month', lm, 'lm').reset_index()\n",
    "\n",
    "# Merge the 'konjunktur_sentiment' and 'labour_market_sentiment' DataFrames on the 'month' and 'year' columns using a left join\n",
    "merged_sentiment = pd.merge(konjunktur_sentiment, labour_market_sentiment, how='left', on=['month', 'year'])\n",
    "\n",
    "def ym(row):\n",
    "    '''\n",
    "    Convert year and month to a datetime object representing the first day of the month.\n",
    "    '''\n",
    "    if row['month'] <= 9:\n",
    "        return pd.to_datetime(str(int(row['year'])) + '-' + '0' + str(int(row['month'])) + '-' + '01')\n",
    "    else:\n",
    "        return pd.to_datetime(str(int(row['year'])) + '-' + str(int(row['month'])) + '-' + '01')\n",
    "\n",
    "# Apply the 'ym' function to create a new 'date' column\n",
    "# The 'date' column represents the first day of the month for the specified 'year' and 'month' in each row\n",
    "merged_sentiment['date'] = merged_sentiment.apply(lambda row: ym(row), axis=1)\n",
    "\n",
    "# Rename columns for better readability\n",
    "merged_sentiment = merged_sentiment.rename(columns={'sentiment_index_x': 'business cycle conditions', 'sentiment_index_y': 'labour market'})\n",
    "\n",
    "# Create a new DataFrame with selected columns and set 'date' as the index\n",
    "final_sentiment = merged_sentiment[['date', 'business cycle conditions', 'labour market']].set_index('date')\n",
    "\n",
    "# Find the index of the last NaN value in the 'labour market' column\n",
    "last_nan_index = final_sentiment['labour market'].isna().cumsum().idxmax()\n",
    "\n",
    "# Filter the DataFrame to start from the first non-NaN value after the last NaN\n",
    "final_sentiment_filtered = final_sentiment.loc[last_nan_index:].dropna(subset=['labour market'])\n",
    "\n",
    "# Plot the sentiment indices\n",
    "import matplotlib.dates as mdates\n",
    "import matplotlib.pyplot as plt\n",
    "fig, ax = plt.subplots(figsize=(10, 6))\n",
    "# Set the major formatter for the x-axis to display dates in 'MM-YYYY' format\n",
    "ax.xaxis.set_major_formatter(mdates.DateFormatter('%m-%Y'))\n",
    "# Plot the business cycle conditions sentiment against the date\n",
    "ax.plot(final_sentiment.index, final_sentiment['business cycle conditions'], label='Business Cycle Conditions Sentiment')\n",
    "# Plot the labour market sentiment against the date\n",
    "ax.plot(final_sentiment_filtered.index, final_sentiment_filtered['labour market'], label='Labor Market Sentiment')\n",
    "ax.legend()\n",
    "# Save the plot\n",
    "plt.savefig('konjunktur_lm.eps', format='eps')\n",
    "plt.savefig('konjunktur_lm.png', format='png')\n",
    "plt.show()"
   ]
  },
  {
   "cell_type": "code",
   "execution_count": 22,
   "metadata": {},
   "outputs": [
    {
     "name": "stdout",
     "output_type": "stream",
     "text": [
      "Correlation between sentiment towards business cycle conditions and labour market: 0.34\n"
     ]
    }
   ],
   "source": [
    "correlation = final_sentiment_filtered['business cycle conditions'].corr(final_sentiment_filtered['labour market'])\n",
    "print(f\"Correlation between sentiment towards business cycle conditions and labour market: {correlation:.2f}\")"
   ]
  },
  {
   "cell_type": "markdown",
   "metadata": {},
   "source": [
    "We also provide smoothed sentiment indices using a 6-month backward rolling mean. These smoothed series reduce short-term fluctuations, making it easier to identify and analyze periods of divergence between the two sentiment measures."
   ]
  },
  {
   "cell_type": "code",
   "execution_count": 23,
   "metadata": {},
   "outputs": [
    {
     "name": "stderr",
     "output_type": "stream",
     "text": [
      "The PostScript backend does not support transparency; partially transparent artists will be rendered opaque.\n"
     ]
    },
    {
     "data": {
      "image/png": "[encoded data removed]",
      "text/plain": [
       "<Figure size 1000x600 with 1 Axes>"
      ]
     },
     "metadata": {},
     "output_type": "display_data"
    }
   ],
   "source": [
    "# Apply 6-month backward rolling mean to smooth the sentiment indices\n",
    "final_sentiment['business cycle conditions smoothed'] = final_sentiment['business cycle conditions'].rolling(window=6).mean()\n",
    "final_sentiment_filtered['labour market smoothed'] = final_sentiment_filtered['labour market'].rolling(window=6).mean()\n",
    "\n",
    "# Plot the smoothed sentiment indices\n",
    "fig, ax = plt.subplots(figsize=(10, 6))\n",
    "ax.xaxis.set_major_formatter(mdates.DateFormatter('%m-%Y'))\n",
    "\n",
    "# Plot smoothed business cycle conditions sentiment\n",
    "ax.plot(final_sentiment.index, final_sentiment['business cycle conditions smoothed'], \n",
    "        label='Business Cycle Conditions Sentiment')\n",
    "\n",
    "# Plot smoothed labour market sentiment\n",
    "ax.plot(final_sentiment_filtered.index, final_sentiment_filtered['labour market smoothed'], \n",
    "        label='Labor Market Sentiment')\n",
    "\n",
    "ax.legend()\n",
    "plt.tight_layout()\n",
    "\n",
    "# Save the plot\n",
    "plt.savefig('konjunktur_lm_smoothed.eps', format='eps')\n",
    "plt.savefig('konjunktur_lm_smoothed.png', format='png')\n",
    "plt.show()"
   ]
  },
  {
   "cell_type": "code",
   "execution_count": 24,
   "metadata": {},
   "outputs": [
    {
     "name": "stdout",
     "output_type": "stream",
     "text": [
      "Correlation between smoothed sentiment towards business cycle conditions and labour market: 0.39\n"
     ]
    }
   ],
   "source": [
    "# Apply 6-month backward rolling mean to smooth business cycle conditions sentiment\n",
    "final_sentiment_filtered['business cycle conditions smoothed'] = final_sentiment_filtered['business cycle conditions'].rolling(window=6).mean()\n",
    "\n",
    "# Calculate correlation between the smoothed series\n",
    "correlation_smoothed = final_sentiment_filtered['business cycle conditions smoothed'].corr(\n",
    "    final_sentiment_filtered['labour market smoothed']\n",
    ")\n",
    "\n",
    "# Print the correlation\n",
    "print(f\"Correlation between smoothed sentiment towards business cycle conditions and labour market: {correlation_smoothed:.2f}\")"
   ]
  },
  {
   "cell_type": "markdown",
   "metadata": {},
   "source": [
    "Additionally, we want to show that 165 articles were annotated towards both business cycle conditions and the labour market. Among them, about half of the articles had non-matching sentiment towards these two topics, emphasizing the importance of aspect-based sentiment analysis."
   ]
  },
  {
   "cell_type": "code",
   "execution_count": 25,
   "metadata": {},
   "outputs": [
    {
     "data": {
      "text/html": [
       "<div>\n",
       "<style scoped>\n",
       "    .dataframe tbody tr th:only-of-type {\n",
       "        vertical-align: middle;\n",
       "    }\n",
       "\n",
       "    .dataframe tbody tr th {\n",
       "        vertical-align: top;\n",
       "    }\n",
       "\n",
       "    .dataframe thead th {\n",
       "        text-align: right;\n",
       "    }\n",
       "</style>\n",
       "<table border=\"1\" class=\"dataframe\">\n",
       "  <thead>\n",
       "    <tr style=\"text-align: right;\">\n",
       "      <th></th>\n",
       "      <th>date</th>\n",
       "      <th>medium</th>\n",
       "      <th>title</th>\n",
       "      <th>sentiment_business_cycle</th>\n",
       "      <th>sentiment_labour_market</th>\n",
       "    </tr>\n",
       "  </thead>\n",
       "  <tbody>\n",
       "    <tr>\n",
       "      <th>0</th>\n",
       "      <td>18.08.2011</td>\n",
       "      <td>Capital</td>\n",
       "      <td>Die Zäsur</td>\n",
       "      <td>0.0</td>\n",
       "      <td>0.0</td>\n",
       "    </tr>\n",
       "    <tr>\n",
       "      <th>1</th>\n",
       "      <td>22.08.2011</td>\n",
       "      <td>Focus</td>\n",
       "      <td>Börse fürchtet Rückkehr</td>\n",
       "      <td>0.0</td>\n",
       "      <td>-1.0</td>\n",
       "    </tr>\n",
       "    <tr>\n",
       "      <th>2</th>\n",
       "      <td>05.12.2011</td>\n",
       "      <td>Focus</td>\n",
       "      <td>Globale Gefahren</td>\n",
       "      <td>1.0</td>\n",
       "      <td>1.0</td>\n",
       "    </tr>\n",
       "    <tr>\n",
       "      <th>3</th>\n",
       "      <td>18.02.2012</td>\n",
       "      <td>Focus</td>\n",
       "      <td>Mehr Jobs, mehr Kauflust</td>\n",
       "      <td>1.0</td>\n",
       "      <td>1.0</td>\n",
       "    </tr>\n",
       "    <tr>\n",
       "      <th>4</th>\n",
       "      <td>27.02.2012</td>\n",
       "      <td>Focus</td>\n",
       "      <td>Was die Krise kostet</td>\n",
       "      <td>-1.0</td>\n",
       "      <td>-1.0</td>\n",
       "    </tr>\n",
       "  </tbody>\n",
       "</table>\n",
       "</div>"
      ],
      "text/plain": [
       "         date   medium                     title  sentiment_business_cycle  \\\n",
       "0  18.08.2011  Capital                 Die Zäsur                       0.0   \n",
       "1  22.08.2011    Focus   Börse fürchtet Rückkehr                       0.0   \n",
       "2  05.12.2011    Focus          Globale Gefahren                       1.0   \n",
       "3  18.02.2012    Focus  Mehr Jobs, mehr Kauflust                       1.0   \n",
       "4  27.02.2012    Focus      Was die Krise kostet                      -1.0   \n",
       "\n",
       "   sentiment_labour_market  \n",
       "0                      0.0  \n",
       "1                     -1.0  \n",
       "2                      1.0  \n",
       "3                      1.0  \n",
       "4                     -1.0  "
      ]
     },
     "execution_count": 25,
     "metadata": {},
     "output_type": "execute_result"
    }
   ],
   "source": [
    "# Merge the DataFrames on 'title' and 'date' using an inner join\n",
    "data_match = pd.merge(konjunktur, lm, how='inner', on=['title', 'date'], suffixes=('_business_cycle', '_labour_market'))\n",
    "\n",
    "# Select and rename the relevant columns\n",
    "data_match = data_match[['date', 'medium_business_cycle', 'title', 'sentiment_business_cycle', 'sentiment_labour_market']]\n",
    "data_match = data_match.rename(columns={'medium_business_cycle': 'medium'})\n",
    "\n",
    "# Display the first few rows of the merged DataFrame\n",
    "data_match.head()"
   ]
  },
  {
   "cell_type": "code",
   "execution_count": 26,
   "metadata": {},
   "outputs": [
    {
     "name": "stdout",
     "output_type": "stream",
     "text": [
      "Total articles annotated towards both business cycle conditions and labour market: 165\n",
      "Articles with non-matching sentiments: 80\n",
      "Articles with negative sentiment towards business cycle conditions and positive sentiment towards labour market: 14\n"
     ]
    }
   ],
   "source": [
    "# Calculate the number of articles with matching and non-matching sentiments\n",
    "total_articles = len(data_match)\n",
    "non_matching_sentiments = len(data_match[data_match['sentiment_business_cycle'] != data_match['sentiment_labour_market']])\n",
    "\n",
    "# Filter for articles with specific sentiment differences\n",
    "negative_business_cycle_positive_labour_market = data_match[\n",
    "    (data_match['sentiment_business_cycle'] == -1) & (data_match['sentiment_labour_market'] == 1)\n",
    "]\n",
    "\n",
    "# Display the results\n",
    "print(f\"Total articles annotated towards both business cycle conditions and labour market: {total_articles}\")\n",
    "print(f\"Articles with non-matching sentiments: {non_matching_sentiments}\")\n",
    "print(f\"Articles with negative sentiment towards business cycle conditions and positive sentiment towards labour market: {len(negative_business_cycle_positive_labour_market)}\")"
   ]
  },
  {
   "cell_type": "code",
   "execution_count": 27,
   "metadata": {},
   "outputs": [
    {
     "name": "stdout",
     "output_type": "stream",
     "text": [
      "Example articles with non-matching sentiments:\n"
     ]
    },
    {
     "data": {
      "text/html": [
       "<div>\n",
       "<style scoped>\n",
       "    .dataframe tbody tr th:only-of-type {\n",
       "        vertical-align: middle;\n",
       "    }\n",
       "\n",
       "    .dataframe tbody tr th {\n",
       "        vertical-align: top;\n",
       "    }\n",
       "\n",
       "    .dataframe thead th {\n",
       "        text-align: right;\n",
       "    }\n",
       "</style>\n",
       "<table border=\"1\" class=\"dataframe\">\n",
       "  <thead>\n",
       "    <tr style=\"text-align: right;\">\n",
       "      <th></th>\n",
       "      <th>date</th>\n",
       "      <th>title</th>\n",
       "      <th>medium</th>\n",
       "      <th>sentiment_business_cycle</th>\n",
       "      <th>sentiment_labour_market</th>\n",
       "    </tr>\n",
       "  </thead>\n",
       "  <tbody>\n",
       "    <tr>\n",
       "      <th>1</th>\n",
       "      <td>22.08.2011</td>\n",
       "      <td>Börse fürchtet Rückkehr</td>\n",
       "      <td>Focus</td>\n",
       "      <td>0.0</td>\n",
       "      <td>-1.0</td>\n",
       "    </tr>\n",
       "    <tr>\n",
       "      <th>7</th>\n",
       "      <td>18.07.2012</td>\n",
       "      <td>Droht eine neue Kündigungswelle?</td>\n",
       "      <td>BILD</td>\n",
       "      <td>-1.0</td>\n",
       "      <td>0.0</td>\n",
       "    </tr>\n",
       "    <tr>\n",
       "      <th>8</th>\n",
       "      <td>19.07.2012</td>\n",
       "      <td>Wir dürfen keine Märchen erzählen</td>\n",
       "      <td>Capital</td>\n",
       "      <td>-1.0</td>\n",
       "      <td>0.0</td>\n",
       "    </tr>\n",
       "    <tr>\n",
       "      <th>9</th>\n",
       "      <td>05.08.2012</td>\n",
       "      <td>Wo bleiben sie denn?</td>\n",
       "      <td>FAS</td>\n",
       "      <td>0.0</td>\n",
       "      <td>-1.0</td>\n",
       "    </tr>\n",
       "    <tr>\n",
       "      <th>10</th>\n",
       "      <td>16.08.2012</td>\n",
       "      <td>Zeit stolz zu sein</td>\n",
       "      <td>BILD</td>\n",
       "      <td>-1.0</td>\n",
       "      <td>1.0</td>\n",
       "    </tr>\n",
       "  </tbody>\n",
       "</table>\n",
       "</div>"
      ],
      "text/plain": [
       "          date                              title   medium  \\\n",
       "1   22.08.2011            Börse fürchtet Rückkehr    Focus   \n",
       "7   18.07.2012   Droht eine neue Kündigungswelle?     BILD   \n",
       "8   19.07.2012  Wir dürfen keine Märchen erzählen  Capital   \n",
       "9   05.08.2012               Wo bleiben sie denn?      FAS   \n",
       "10  16.08.2012                 Zeit stolz zu sein     BILD   \n",
       "\n",
       "    sentiment_business_cycle  sentiment_labour_market  \n",
       "1                        0.0                     -1.0  \n",
       "7                       -1.0                      0.0  \n",
       "8                       -1.0                      0.0  \n",
       "9                        0.0                     -1.0  \n",
       "10                      -1.0                      1.0  "
      ]
     },
     "execution_count": 27,
     "metadata": {},
     "output_type": "execute_result"
    }
   ],
   "source": [
    "# Create a DataFrame to display the examples\n",
    "example_articles = data_match[\n",
    "    data_match['sentiment_business_cycle'] != data_match['sentiment_labour_market']\n",
    "][['date', 'title', 'medium', 'sentiment_business_cycle', 'sentiment_labour_market']]\n",
    "\n",
    "# Display the example articles DataFrame\n",
    "print(\"Example articles with non-matching sentiments:\")\n",
    "example_articles.head()"
   ]
  },
  {
   "cell_type": "code",
   "execution_count": 28,
   "metadata": {},
   "outputs": [
    {
     "name": "stdout",
     "output_type": "stream",
     "text": [
      "Example articles with negative sentiment towards business cycle and positive sentiment towards labour market:\n"
     ]
    },
    {
     "data": {
      "text/html": [
       "<div>\n",
       "<style scoped>\n",
       "    .dataframe tbody tr th:only-of-type {\n",
       "        vertical-align: middle;\n",
       "    }\n",
       "\n",
       "    .dataframe tbody tr th {\n",
       "        vertical-align: top;\n",
       "    }\n",
       "\n",
       "    .dataframe thead th {\n",
       "        text-align: right;\n",
       "    }\n",
       "</style>\n",
       "<table border=\"1\" class=\"dataframe\">\n",
       "  <thead>\n",
       "    <tr style=\"text-align: right;\">\n",
       "      <th></th>\n",
       "      <th>date</th>\n",
       "      <th>title</th>\n",
       "      <th>medium</th>\n",
       "      <th>sentiment_business_cycle</th>\n",
       "      <th>sentiment_labour_market</th>\n",
       "    </tr>\n",
       "  </thead>\n",
       "  <tbody>\n",
       "    <tr>\n",
       "      <th>10</th>\n",
       "      <td>16.08.2012</td>\n",
       "      <td>Zeit stolz zu sein</td>\n",
       "      <td>BILD</td>\n",
       "      <td>-1.0</td>\n",
       "      <td>1.0</td>\n",
       "    </tr>\n",
       "    <tr>\n",
       "      <th>20</th>\n",
       "      <td>05.12.2012</td>\n",
       "      <td>Wir sind die erfolgreichste Regierung seit der...</td>\n",
       "      <td>BILD</td>\n",
       "      <td>-1.0</td>\n",
       "      <td>1.0</td>\n",
       "    </tr>\n",
       "    <tr>\n",
       "      <th>30</th>\n",
       "      <td>19.05.2013</td>\n",
       "      <td>Herr Flassbeck irrt</td>\n",
       "      <td>FAS</td>\n",
       "      <td>-1.0</td>\n",
       "      <td>1.0</td>\n",
       "    </tr>\n",
       "    <tr>\n",
       "      <th>41</th>\n",
       "      <td>27.01.2014</td>\n",
       "      <td>Deutschland ist der Goldstandard</td>\n",
       "      <td>Spiegel</td>\n",
       "      <td>-1.0</td>\n",
       "      <td>1.0</td>\n",
       "    </tr>\n",
       "    <tr>\n",
       "      <th>57</th>\n",
       "      <td>02.06.2014</td>\n",
       "      <td>Besser als Einheimische</td>\n",
       "      <td>Spiegel</td>\n",
       "      <td>-1.0</td>\n",
       "      <td>1.0</td>\n",
       "    </tr>\n",
       "  </tbody>\n",
       "</table>\n",
       "</div>"
      ],
      "text/plain": [
       "          date                                              title   medium  \\\n",
       "10  16.08.2012                                 Zeit stolz zu sein     BILD   \n",
       "20  05.12.2012  Wir sind die erfolgreichste Regierung seit der...     BILD   \n",
       "30  19.05.2013                                Herr Flassbeck irrt      FAS   \n",
       "41  27.01.2014                   Deutschland ist der Goldstandard  Spiegel   \n",
       "57  02.06.2014                            Besser als Einheimische  Spiegel   \n",
       "\n",
       "    sentiment_business_cycle  sentiment_labour_market  \n",
       "10                      -1.0                      1.0  \n",
       "20                      -1.0                      1.0  \n",
       "30                      -1.0                      1.0  \n",
       "41                      -1.0                      1.0  \n",
       "57                      -1.0                      1.0  "
      ]
     },
     "execution_count": 28,
     "metadata": {},
     "output_type": "execute_result"
    }
   ],
   "source": [
    "# Create a DataFrame to display the specific examples where sentiment towards business cycle is negative and towards labour market is positive\n",
    "specific_example_articles = negative_business_cycle_positive_labour_market[['date', 'title', 'medium', 'sentiment_business_cycle', 'sentiment_labour_market']]\n",
    "\n",
    "# Display the specific example articles DataFrame\n",
    "print(\"Example articles with negative sentiment towards business cycle and positive sentiment towards labour market:\")\n",
    "specific_example_articles.head()"
   ]
  }
 ],
 "metadata": {
  "kernelspec": {
   "display_name": "py3_env_gpu",
   "language": "python",
   "name": "py3_env_gpu"
  },
  "language_info": {
   "codemirror_mode": {
    "name": "ipython",
    "version": 3
   },
   "file_extension": ".py",
   "mimetype": "text/x-python",
   "name": "python",
   "nbconvert_exporter": "python",
   "pygments_lexer": "ipython3",
   "version": "3.8.15"
  }
 },
 "nbformat": 4,
 "nbformat_minor": 4
}
