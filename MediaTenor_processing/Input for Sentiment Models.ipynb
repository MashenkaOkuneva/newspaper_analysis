{
 "cells": [
  {
   "cell_type": "markdown",
   "id": "241c5a86",
   "metadata": {},
   "source": [
    "In this notebook, we use the full texts of articles from BamS, BILD, Spiegel, Focus, Capital, and WamS, along with their sentiment labels, to prepare the input for sentiment models. The steps involved in this process are as follows:\n",
    "\n",
    "1. **Combining Articles**: We combine all the articles from the different sources into a single DataFrame.\n",
    "2. **Randomizing Sequence**: We randomize the sequence of articles.\n",
    "3. **Creating Binary Sentiment Labels**: We create binary sentiment labels for the articles.\n",
    "4. **Saving Data**: We save the article texts and their corresponding binary sentiment labels to separate text files."
   ]
  },
  {
   "cell_type": "code",
   "execution_count": 1,
   "id": "afe34ee6",
   "metadata": {},
   "outputs": [],
   "source": [
    "import pandas as pd\n",
    "import numpy as np\n",
    "import random\n",
    "import os\n",
    "\n",
    "# Read Data from CSV Files\n",
    "bams_bild = pd.read_csv('bams_bild.csv', encoding='utf-8', sep=';')\n",
    "spiegel = pd.read_csv('spiegel.csv', encoding='utf-8', sep=';')\n",
    "focus = pd.read_csv('focus.csv', encoding='utf-8', sep=';')\n",
    "capital = pd.read_csv('capital.csv', encoding='utf-8', sep=';')\n",
    "wams = pd.read_csv('wams.csv', encoding='utf-8', sep=';')\n",
    "\n",
    "# Combine Data into a Single DataFrame\n",
    "media_tenor = pd.concat([bams_bild, spiegel, focus, capital, wams], sort=False).reset_index(drop=True)\n",
    "\n",
    "# Save the DataFrame to a CSV file\n",
    "media_tenor.to_csv('media_tenor.csv', encoding='utf-8-sig', sep=';')\n",
    "\n",
    "# Randomize the Sequence of Articles\n",
    "random.seed(1)\n",
    "media_tenor = media_tenor.sample(frac=1).reset_index(drop=True)\n",
    "\n",
    "# Create Binary Sentiment Labels\n",
    "def sentiment_binary(row):\n",
    "    \n",
    "    '''Define function to create binary sentiment labels'''\n",
    "    \n",
    "    if row['sentiment'] in [1.0, 0.0]:\n",
    "        return 'positive'\n",
    "    elif row['sentiment'] == -1.0:\n",
    "        return 'negative'\n",
    "\n",
    "# Apply the 'sentiment' function to create a new sentiment column\n",
    "media_tenor['binary_sentiment'] = media_tenor.apply(lambda row: sentiment_binary(row), axis=1)\n",
    "\n",
    "# Save the Data to Files\n",
    "# Extract text and binary sentiment labels\n",
    "data = media_tenor[['text', 'binary_sentiment']]\n",
    "\n",
    "# Define the output directory\n",
    "output_dir = os.path.join(os.getcwd(), '..', 'sentiment', 'MediaTenor_data')\n",
    "\n",
    "# Save the article texts\n",
    "np.savetxt(os.path.join(output_dir, 'articles.txt'), data.text.values, fmt='%s', encoding='utf-8')\n",
    "\n",
    "# Save the binary sentiment labels\n",
    "np.savetxt(os.path.join(output_dir, 'labels_binary.txt'), data.binary_sentiment.values, fmt='%s', encoding='utf-8')"
   ]
  },
  {
   "cell_type": "markdown",
   "id": "da34ec9f",
   "metadata": {},
   "source": [
    "The following code calculates simple descriptive statistics for the final dataset, specifically focusing on the sentiment distribution in terms of counts and percentages. "
   ]
  },
  {
   "cell_type": "code",
   "execution_count": 2,
   "id": "6f96a649",
   "metadata": {},
   "outputs": [
    {
     "data": {
      "text/html": [
       "<div>\n",
       "<style scoped>\n",
       "    .dataframe tbody tr th:only-of-type {\n",
       "        vertical-align: middle;\n",
       "    }\n",
       "\n",
       "    .dataframe tbody tr th {\n",
       "        vertical-align: top;\n",
       "    }\n",
       "\n",
       "    .dataframe thead th {\n",
       "        text-align: right;\n",
       "    }\n",
       "</style>\n",
       "<table border=\"1\" class=\"dataframe\">\n",
       "  <thead>\n",
       "    <tr style=\"text-align: right;\">\n",
       "      <th></th>\n",
       "      <th>Sentiment</th>\n",
       "      <th>Count</th>\n",
       "      <th>Percentage</th>\n",
       "    </tr>\n",
       "  </thead>\n",
       "  <tbody>\n",
       "    <tr>\n",
       "      <th>0</th>\n",
       "      <td>-1.0</td>\n",
       "      <td>1604</td>\n",
       "      <td>48.813147</td>\n",
       "    </tr>\n",
       "    <tr>\n",
       "      <th>1</th>\n",
       "      <td>1.0</td>\n",
       "      <td>992</td>\n",
       "      <td>30.188679</td>\n",
       "    </tr>\n",
       "    <tr>\n",
       "      <th>2</th>\n",
       "      <td>0.0</td>\n",
       "      <td>690</td>\n",
       "      <td>20.998174</td>\n",
       "    </tr>\n",
       "  </tbody>\n",
       "</table>\n",
       "</div>"
      ],
      "text/plain": [
       "   Sentiment  Count  Percentage\n",
       "0       -1.0   1604   48.813147\n",
       "1        1.0    992   30.188679\n",
       "2        0.0    690   20.998174"
      ]
     },
     "execution_count": 2,
     "metadata": {},
     "output_type": "execute_result"
    }
   ],
   "source": [
    "# Calculate counts and percentages\n",
    "sentiment_counts = media_tenor['sentiment'].value_counts()\n",
    "sentiment_percentages = media_tenor['sentiment'].value_counts(normalize=True) * 100\n",
    "\n",
    "# Create a DataFrame with counts and percentages\n",
    "sentiment_stats = pd.DataFrame({\n",
    "    'Count': sentiment_counts,\n",
    "    'Percentage': sentiment_percentages\n",
    "})\n",
    "\n",
    "# Reset index to have sentiment as a column\n",
    "sentiment_stats = sentiment_stats.reset_index().rename(columns={'index': 'Sentiment'})\n",
    "\n",
    "sentiment_stats"
   ]
  }
 ],
 "metadata": {
  "kernelspec": {
   "display_name": "Python 3",
   "language": "python",
   "name": "python3"
  },
  "language_info": {
   "codemirror_mode": {
    "name": "ipython",
    "version": 3
   },
   "file_extension": ".py",
   "mimetype": "text/x-python",
   "name": "python",
   "nbconvert_exporter": "python",
   "pygments_lexer": "ipython3",
   "version": "3.8.15"
  }
 },
 "nbformat": 4,
 "nbformat_minor": 5
}
