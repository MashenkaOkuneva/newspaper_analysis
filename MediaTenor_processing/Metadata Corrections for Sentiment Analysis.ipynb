{
 "cells": [
  {
   "cell_type": "markdown",
   "id": "904971f2",
   "metadata": {},
   "source": [
    "We acquired our training set for sentiment analysis from Media Tenor International, a Swiss-based media analysis institute. Specifically, we received an Excel file containing details such as the article's publication date, source, title, sentiment topic (e.g., sentiment towards business cycle conditions), the number of annotators who evaluated each article as negative, neutral, or positive, and the total number of annotators per article. We used this metadata to download the full texts of articles from LexisNexis and Factiva.\n",
    "\n",
    "During this process, we identified orthographic mistakes and slight variations in article titles, as well as discrepancies in publication dates. We corrected these issues in the Excel file to ensure accurate matching between the downloaded articles and the metadata, addressing errors from the original annotations.\n",
    "\n",
    "In this notebook, we demonstrate the modifications made to the titles and publication dates in the Excel file to ensure they match their counterparts from the downloaded articles."
   ]
  },
  {
   "cell_type": "code",
   "execution_count": 1,
   "id": "7463d20d",
   "metadata": {},
   "outputs": [],
   "source": [
    "import pandas as pd\n",
    "\n",
    "# Load the Excel files as dataframes\n",
    "corrected_data = pd.read_excel('Daten_Wirtschaftliche_Lage.xlsx')\n",
    "original_data = pd.read_excel('Daten_Wirtschaftliche_Lage_original.xlsx')"
   ]
  },
  {
   "cell_type": "markdown",
   "id": "f2c60a71",
   "metadata": {},
   "source": [
    "We isolated rows in `corrected_data` where titles or dates were modified, specifically filtering for articles under the 'Konjunktur' sentiment topic with non-empty titles. The resulting dataset, `differences`, highlights the corrections, allowing for direct comparison with the original data to identify the exact changes."
   ]
  },
  {
   "cell_type": "code",
   "execution_count": 2,
   "id": "c9a24159",
   "metadata": {},
   "outputs": [],
   "source": [
    "# Identify rows in corrected_data where at least one column differs from original_data\n",
    "differences = corrected_data[~(corrected_data == original_data).all(axis=1)]\n",
    "\n",
    "# Further filter the differences to include only those rows where 'topicgroup' is 'Konjunktur' and 'title' is not null\n",
    "differences = differences[(differences.topicgroup == 'Konjunktur') & (differences.title.notnull())]"
   ]
  },
  {
   "cell_type": "markdown",
   "id": "d071d31d",
   "metadata": {},
   "source": [
    "In this example, we adjusted the title from \"Erdogans Attacke auf unsere Einwanderungspolitik\" to \"Erdogans Attacke auf unsere Einwanderungsrepublik\" within the corrected dataset. This change was essential to match the article successfully, as it was published under the corrected title on the same day and by the same newspaper."
   ]
  },
  {
   "cell_type": "code",
   "execution_count": 3,
   "id": "135b2755",
   "metadata": {},
   "outputs": [
    {
     "data": {
      "text/plain": [
       "date                                                        01.06.2014\n",
       "month                                                           201406\n",
       "medium                                                            WamS\n",
       "title                Erdogans Attacke auf unsere Einwanderungsrepublik\n",
       "topicgroup                                                  Konjunktur\n",
       "negative                                                             0\n",
       "no_clear_tone                                                        0\n",
       "positive                                                             1\n",
       "Number_of_reports                                                    1\n",
       "AverageRating                                                    100.0\n",
       "Name: 129, dtype: object"
      ]
     },
     "execution_count": 3,
     "metadata": {},
     "output_type": "execute_result"
    }
   ],
   "source": [
    "corrected_data.iloc[differences.index[0]]"
   ]
  },
  {
   "cell_type": "code",
   "execution_count": 4,
   "id": "e94d2f74",
   "metadata": {},
   "outputs": [
    {
     "data": {
      "text/plain": [
       "date                                                       01.06.2014\n",
       "month                                                          201406\n",
       "medium                                                           WamS\n",
       "title                Erdogans Attacke auf unsere Einwanderungspolitik\n",
       "topicgroup                                                 Konjunktur\n",
       "negative                                                            0\n",
       "no_clear_tone                                                       0\n",
       "positive                                                            1\n",
       "Number_of_reports                                                   1\n",
       "AverageRating                                                   100.0\n",
       "Name: 129, dtype: object"
      ]
     },
     "execution_count": 4,
     "metadata": {},
     "output_type": "execute_result"
    }
   ],
   "source": [
    "original_data.iloc[differences.index[0]]"
   ]
  },
  {
   "cell_type": "markdown",
   "id": "b542bb33",
   "metadata": {},
   "source": [
    "In total, 228 changes were implemented."
   ]
  },
  {
   "cell_type": "code",
   "execution_count": 5,
   "id": "264fbc76",
   "metadata": {},
   "outputs": [
    {
     "data": {
      "text/plain": [
       "228"
      ]
     },
     "execution_count": 5,
     "metadata": {},
     "output_type": "execute_result"
    }
   ],
   "source": [
    "len(differences)"
   ]
  }
 ],
 "metadata": {
  "kernelspec": {
   "display_name": "Python 3",
   "language": "python",
   "name": "python3"
  },
  "language_info": {
   "codemirror_mode": {
    "name": "ipython",
    "version": 3
   },
   "file_extension": ".py",
   "mimetype": "text/x-python",
   "name": "python",
   "nbconvert_exporter": "python",
   "pygments_lexer": "ipython3",
   "version": "3.8.15"
  }
 },
 "nbformat": 4,
 "nbformat_minor": 5
}
