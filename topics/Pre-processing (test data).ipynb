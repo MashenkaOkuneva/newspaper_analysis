{
 "cells": [
  {
   "cell_type": "markdown",
   "metadata": {},
   "source": [
    "In this notebook, we're pre-processing the test portion of our dataset for topic modeling. We've split the preparation of train and test datasets into two separate notebooks so we can run them at the same time on different cores, making the process faster. First, we'll load the datasets from Handelsblatt, SZ, Welt, and dpa."
   ]
  },
  {
   "cell_type": "code",
   "execution_count": 1,
   "metadata": {},
   "outputs": [
    {
     "name": "stdout",
     "output_type": "stream",
     "text": [
      "3336299\n"
     ]
    },
    {
     "data": {
      "text/html": [
       "<div>\n",
       "<style scoped>\n",
       "    .dataframe tbody tr th:only-of-type {\n",
       "        vertical-align: middle;\n",
       "    }\n",
       "\n",
       "    .dataframe tbody tr th {\n",
       "        vertical-align: top;\n",
       "    }\n",
       "\n",
       "    .dataframe thead th {\n",
       "        text-align: right;\n",
       "    }\n",
       "</style>\n",
       "<table border=\"1\" class=\"dataframe\">\n",
       "  <thead>\n",
       "    <tr style=\"text-align: right;\">\n",
       "      <th></th>\n",
       "      <th>texts</th>\n",
       "      <th>day</th>\n",
       "      <th>month</th>\n",
       "      <th>year</th>\n",
       "    </tr>\n",
       "  </thead>\n",
       "  <tbody>\n",
       "    <tr>\n",
       "      <th>0</th>\n",
       "      <td>Schalck: Milliardenkredit sicherte Zahlungsfäh...</td>\n",
       "      <td>1</td>\n",
       "      <td>1</td>\n",
       "      <td>1991</td>\n",
       "    </tr>\n",
       "    <tr>\n",
       "      <th>1</th>\n",
       "      <td>Welajati: Iran bleibt bei einem Krieg am Golf ...</td>\n",
       "      <td>1</td>\n",
       "      <td>1</td>\n",
       "      <td>1991</td>\n",
       "    </tr>\n",
       "    <tr>\n",
       "      <th>2</th>\n",
       "      <td>Bush will offenbar seinen Außenminister erneut...</td>\n",
       "      <td>1</td>\n",
       "      <td>1</td>\n",
       "      <td>1991</td>\n",
       "    </tr>\n",
       "    <tr>\n",
       "      <th>3</th>\n",
       "      <td>Sperrfrist 1. Januar 1000 HBV fordert umfassen...</td>\n",
       "      <td>1</td>\n",
       "      <td>1</td>\n",
       "      <td>1991</td>\n",
       "    </tr>\n",
       "    <tr>\n",
       "      <th>4</th>\n",
       "      <td>Schamir weist Nahost-Äußerungen des neuen EG-P...</td>\n",
       "      <td>1</td>\n",
       "      <td>1</td>\n",
       "      <td>1991</td>\n",
       "    </tr>\n",
       "  </tbody>\n",
       "</table>\n",
       "</div>"
      ],
      "text/plain": [
       "                                               texts  day  month  year\n",
       "0  Schalck: Milliardenkredit sicherte Zahlungsfäh...    1      1  1991\n",
       "1  Welajati: Iran bleibt bei einem Krieg am Golf ...    1      1  1991\n",
       "2  Bush will offenbar seinen Außenminister erneut...    1      1  1991\n",
       "3  Sperrfrist 1. Januar 1000 HBV fordert umfassen...    1      1  1991\n",
       "4  Schamir weist Nahost-Äußerungen des neuen EG-P...    1      1  1991"
      ]
     },
     "execution_count": 1,
     "metadata": {},
     "output_type": "execute_result"
    }
   ],
   "source": [
    "import os\n",
    "import pandas as pd\n",
    "from ast import literal_eval\n",
    "from datetime import datetime\n",
    "startTime = datetime.now()\n",
    "\n",
    "# Set the path variable to point to the 'newspaper_data_processing' directory.\n",
    "path = os.getcwd().replace('\\\\newspaper_analysis\\\\topics', '\\\\newspaper_data_processing')\n",
    "\n",
    "# Load pre-processed 'dpa' dataset from a CSV file.\n",
    "dpa = pd.read_csv(path + '\\\\dpa\\\\' + 'dpa_prepro_final.csv', encoding = 'utf-8', sep=';', index_col = 0,  keep_default_na=False,\n",
    "                   dtype = {'rubrics': 'str', \n",
    "                            'source': 'str',\n",
    "                            'keywords': 'str',\n",
    "                            'title': 'str',\n",
    "                            'city': 'str',\n",
    "                            'genre': 'str',\n",
    "                            'wordcount': 'str'},\n",
    "                  converters = {'paragraphs': literal_eval})\n",
    "\n",
    "# Keep only the article texts and their respective publication dates.\n",
    "dpa = dpa[['texts', 'day', 'month', 'year']]\n",
    "\n",
    "# Load pre-processed 'SZ' dataset from a CSV file.\n",
    "sz = pd.read_csv(path + '\\\\SZ\\\\' + 'sz_prepro_final.csv', encoding = 'utf-8-sig', sep=';', index_col = 0, dtype = {'newspaper': 'str',\n",
    "                                                                                                 'newspaper_2': 'str',\n",
    "                                                                                                 'quelle_texts': 'str',\n",
    "                                                                                                 'page': 'str',\n",
    "                                                                                                 'rubrics': 'str'})\n",
    "sz.page = sz.page.fillna('')\n",
    "sz.newspaper = sz.newspaper.fillna('')\n",
    "sz.newspaper_2 = sz.newspaper_2.fillna('')\n",
    "sz.rubrics = sz.rubrics.fillna('')\n",
    "sz.quelle_texts = sz.quelle_texts.fillna('')\n",
    "\n",
    "# Keep only the article texts and their respective publication dates.\n",
    "sz = sz[['texts', 'day', 'month', 'year']]\n",
    "\n",
    "# Load pre-processed 'Handelsblatt' dataset from a CSV file.\n",
    "hb = pd.read_csv(path + '\\\\Handelsblatt\\\\' + 'hb_prepro_final.csv', encoding = 'utf-8-sig', sep=';', index_col = 0, dtype = {'kicker': 'str',\n",
    "                                                                                                 'page': 'str',\n",
    "                                                                                                 'series_title': 'str',\n",
    "                                                                                                 'rubrics': 'str'})\n",
    "hb.page = hb.page.fillna('')\n",
    "hb.series_title = hb.series_title.fillna('')\n",
    "hb.kicker = hb.kicker.fillna('')\n",
    "hb.rubrics = hb.rubrics.fillna('')\n",
    "\n",
    "# Keep only the article texts and their respective publication dates.\n",
    "hb = hb[['texts', 'day', 'month', 'year']]\n",
    "\n",
    "# Load pre-processed 'Welt' dataset from a CSV file.\n",
    "welt = pd.read_csv(path + '\\\\Welt\\\\' + 'welt_prepro_final.csv', encoding = 'utf-8-sig', sep=';', index_col = 0, dtype = {'newspaper': 'str',\n",
    "                                                                                                 'rubrics': 'str',\n",
    "                                                                                                 'title': 'str'})\n",
    "welt.title = welt.title.fillna('')\n",
    "welt.rubrics = welt.rubrics.fillna('')\n",
    "\n",
    "# Keep only the article texts and their respective publication dates.\n",
    "welt = welt[['texts', 'day', 'month', 'year']]\n",
    "\n",
    "# Concatenate the 'dpa', 'sz', 'hb', and 'welt' DataFrames into a single DataFrame 'data'.\n",
    "data = pd.concat([dpa, sz, hb, welt])\n",
    "\n",
    "# The number of articles in the final dataset.\n",
    "print(len(data))\n",
    "\n",
    "# Sort the data in chronological order.\n",
    "data = data.sort_values(['year', 'month', 'day'], ascending=[True, True, True])\n",
    "# Reset the index of the DataFrame\n",
    "data.reset_index(inplace=True, drop=True)\n",
    "data.head()"
   ]
  },
  {
   "cell_type": "markdown",
   "metadata": {},
   "source": [
    "Next, we import sentiment scores, previously computed using an LSTM model for each article in the corpus."
   ]
  },
  {
   "cell_type": "code",
   "execution_count": 2,
   "metadata": {},
   "outputs": [],
   "source": [
    "import csv\n",
    "import codecs\n",
    "\n",
    "# Set the path variable to point to the 'sentiment' directory.\n",
    "path = os.getcwd().replace('\\\\topics', '') + '\\\\sentiment'\n",
    "\n",
    "with codecs.open(path + \"\\\\scores_lstm.csv\", \"r\", encoding='utf-8-sig') as f:\n",
    "    reader = csv.reader(f)\n",
    "    scores = [None if row[0] == '' else float(row[0]) for row in reader]"
   ]
  },
  {
   "cell_type": "markdown",
   "metadata": {},
   "source": [
    "We add sentiment scores as a new column to the `data` DataFrame and discard any rows with missing sentiment scores."
   ]
  },
  {
   "cell_type": "code",
   "execution_count": 3,
   "metadata": {},
   "outputs": [],
   "source": [
    "# Add the sentiment scores as a new column in the data DataFrame\n",
    "data['scores'] = scores\n",
    "\n",
    "# Remove any rows in the DataFrame where a sentiment score is missing (NaN). In this context, \n",
    "# NaN corresponds to the model's inability to predict sentiment for certain \n",
    "# articles due to formatting issues or because the article is too short (less than 20 tokens).\n",
    "data = data.dropna(subset=['scores'])\n",
    "\n",
    "# Reset the index of the DataFrame\n",
    "data.reset_index(inplace=True, drop=True)"
   ]
  },
  {
   "cell_type": "markdown",
   "metadata": {},
   "source": [
    "In this project, our test dataset consists of articles published from 2010 onward. The motivation behind this decision is our objective of generating an out-of-sample forecast of GDP growth for the years 2010 to 2018. By assigning articles published in 2010 and later to the test set, we ensure our model's forecasts are based only on information available up to 2009, thereby preserving the integrity of our out-of-sample predictions."
   ]
  },
  {
   "cell_type": "code",
   "execution_count": 4,
   "metadata": {},
   "outputs": [],
   "source": [
    "# Filter the dataset to include only articles published after 2010.\n",
    "data = data[data.year >= 2010]"
   ]
  },
  {
   "cell_type": "markdown",
   "metadata": {},
   "source": [
    "To pre-process the data for topic modeling, we use the `RawDocs` class from Stephen Hansen's [`topic-modelling-tools`](https://www.dropbox.com/s/gxkqgjwc50qjtg5/topic-modelling-tools-with_gsl.zip?dl=0). We adapt the pre-processing steps to meet the specific requirements of our current project. \n",
    "\n",
    "Here's what we do:\n",
    "\n",
    "1. We create single terms out of two-word (and three-word) collocations. This involves combining the words in each collocation into a single term, using an underscore. This can help the model to understand and use the combined meaning of the collocations better, rather than treating each word individually. Nonetheless, to alleviate computational load, we limit our focus to the 2,000 most frequent two-word collocations and the 1,000 most frequent three-word collocations.\n",
    "\n",
    "2. We convert all upper-case to lower-case letters.\n",
    "\n",
    "3. We remove all apostrophes.\n",
    "\n",
    "4. We tokenize a text. A token is the technical name for a sequence of characters that we want to treat as a group."
   ]
  },
  {
   "cell_type": "code",
   "execution_count": 5,
   "metadata": {},
   "outputs": [],
   "source": [
    "import topicmodels\n",
    "docsobj = topicmodels.RawDocs(data.texts)"
   ]
  },
  {
   "cell_type": "markdown",
   "metadata": {},
   "source": [
    "5. We remove non-alphabetic characters (including numbers, punctuation, and currency symbols) and single-character words. However, we retain words that include an underscore, as these represent collocations."
   ]
  },
  {
   "cell_type": "code",
   "execution_count": 6,
   "metadata": {},
   "outputs": [
    {
     "name": "stdout",
     "output_type": "stream",
     "text": [
      "[u'zusammenfassung', u'spanien', u'\\xfcbernimmt', u'von', u'schweden', u'eu', u'vorsitz', u'madrid', u'spanien', u'hat', u'als', u'nachfolger', u'schwedens', u'zum', u'jahreswechsel', u'f\\xfcr', u'sechs', u'monate', u'die', u'ratspr\\xe4sidentschaft', u'der', u'europ\\xe4ischen_union', u'\\xfcbernommen', u'der', u'spanische', u'eu', u'vorsitz', u'ist', u'der', u'erste', u'nach', u'dem', u'inkrafttreten', u'des', u'lissabon', u'reformvertrages', u'und', u'leitet', u'damit', u'eine', u'neue_\\xe4ra', u'ein', u'die', u'f\\xfchrungsrolle', u'kommt', u'dem', u'neuen', u'st\\xe4ndigen', u'ratspr\\xe4sidenten', u'herman', u'van', u'rompuy', u'zu', u'er', u'wird', u'auch', u'die', u'eu', u'gipfel', u'leiten', u'madrid', u'werde', u'sich', u'zur\\xfccknehmen', u'und', u'dem', u'belgier', u'den', u'vortritt', u'lassen', u'sagte', u'der', u'spanische_regierungschef', u'und', u'turnusm\\xe4\\xdfige', u'eu', u'vorsitzende', u'jos\\xe9_luis_rodr\\xedguez_zapatero', u'zur', u'begr\\xfc\\xdfung', u'der', u'ratspr\\xe4sidentschaft', u'erstrahlten', u'in', u'der', u'nacht_zum_freitag', u'ein', u'dutzend', u'wahrzeichen', u'spaniens', u'in', u'der', u'blauen', u'farbe', u'der', u'eu', u'flagge', u'dazu', u'z\\xe4hlten', u'der', u'k\\xf6nigspalast', u'in', u'madrid', u'das', u'aqu\\xe4dukt', u'von', u'segovia', u'der', u'herkules', u'turm', u'in', u'la', u'coru\\xf1a', u'oder', u'das', u'bellver', u'schloss', u'in', u'palma', u'de', u'mallorca', u'im', u'mittelpunkt', u'des', u'spanischen', u'eu', u'vorsitzes', u'unter', u'dem', u'motto', u'innovation', u'f\\xfcr', u'europa', u'wird', u'die', u'verabschiedung', u'einer', u'strategie', u'f\\xfcr', u'einen', u'wirtschaftsaufschwung', u'bis', u'stehen', u'bereits', u'f\\xfcr', u'februar', u'ist', u'dazu', u'ein', u'sondergipfel', u'geplant', u'au\\xdferdem', u'will', u'madrid', u'die', u'beziehungen', u'der', u'eu', u'zu', u'den', u'usa', u'zu', u'lateinamerika', u'zu', u'den', u'mittelmeeranrainern', u'und', u'zu', u'anderen', u'drittstaaten', u'verst\\xe4rken', u'die', u'polizei', u'bef\\xfcrchtet', u'w\\xe4hrend', u'der', u'ratspr\\xe4sidentschaft', u'anschl\\xe4ge', u'der', u'baskischen', u'untergrundorganisation_eta', u'die', u'terrorwarnstufe', u'wurde', u'deshalb', u'erh\\xf6ht']\n"
     ]
    }
   ],
   "source": [
    "docsobj.token_clean(1)\n",
    "print docsobj.tokens[0]"
   ]
  },
  {
   "cell_type": "markdown",
   "metadata": {},
   "source": [
    "6. We remove stop words. Stop words are a set of very frequently used words that do not convey meaning by themselves, like ‘aber’, ‘alle’, ‘allem’. "
   ]
  },
  {
   "cell_type": "code",
   "execution_count": 7,
   "metadata": {},
   "outputs": [
    {
     "name": "stdout",
     "output_type": "stream",
     "text": [
      "[u'zusammenfassung', u'spanien', u'\\xfcbernimmt', u'schweden', u'eu', u'vorsitz', u'madrid', u'spanien', u'nachfolger', u'schwedens', u'jahreswechsel', u'sechs', u'monate', u'ratspr\\xe4sidentschaft', u'europ\\xe4ischen_union', u'\\xfcbernommen', u'spanische', u'eu', u'vorsitz', u'erste', u'inkrafttreten', u'lissabon', u'reformvertrages', u'leitet', u'neue_\\xe4ra', u'f\\xfchrungsrolle', u'kommt', u'neuen', u'st\\xe4ndigen', u'ratspr\\xe4sidenten', u'herman', u'van', u'rompuy', u'eu', u'gipfel', u'leiten', u'madrid', u'zur\\xfccknehmen', u'belgier', u'vortritt', u'lassen', u'sagte', u'spanische_regierungschef', u'turnusm\\xe4\\xdfige', u'eu', u'vorsitzende', u'jos\\xe9_luis_rodr\\xedguez_zapatero', u'begr\\xfc\\xdfung', u'ratspr\\xe4sidentschaft', u'erstrahlten', u'nacht_zum_freitag', u'dutzend', u'wahrzeichen', u'spaniens', u'blauen', u'farbe', u'eu', u'flagge', u'z\\xe4hlten', u'k\\xf6nigspalast', u'madrid', u'aqu\\xe4dukt', u'segovia', u'herkules', u'turm', u'la', u'coru\\xf1a', u'bellver', u'schloss', u'palma', u'de', u'mallorca', u'mittelpunkt', u'spanischen', u'eu', u'vorsitzes', u'motto', u'innovation', u'europa', u'verabschiedung', u'strategie', u'wirtschaftsaufschwung', u'stehen', u'bereits', u'februar', u'sondergipfel', u'geplant', u'au\\xdferdem', u'madrid', u'beziehungen', u'eu', u'usa', u'lateinamerika', u'mittelmeeranrainern', u'drittstaaten', u'verst\\xe4rken', u'polizei', u'bef\\xfcrchtet', u'ratspr\\xe4sidentschaft', u'anschl\\xe4ge', u'baskischen', u'untergrundorganisation_eta', u'terrorwarnstufe', u'wurde', u'deshalb', u'erh\\xf6ht']\n"
     ]
    }
   ],
   "source": [
    "docsobj.stopword_remove(\"tokens\")\n",
    "print docsobj.tokens[0]"
   ]
  },
  {
   "cell_type": "markdown",
   "metadata": {},
   "source": [
    "7. We remove common German first names and surnames. The former are retrieved from [Script](https://script.byu.edu/german-handwriting/tools/given-names) and [beliebte-vornamen.de](https://www.beliebte-vornamen.de/). We get the list of surnames from [Digital Dictionary of Surnames in Germany](http://www.namenforschung.net/en/dfd/dictionary/list-of-all-published-entries/).\n",
    "\n",
    "The rationale behind this step is to prevent the creation of topics where names or surnames become the most probable words. Topics dominated by names or surnames do not provide valuable insights for our research objectives. Furthermore, the removal of common names and surnames is a standard practice in text processing within the field of topic modeling."
   ]
  },
  {
   "cell_type": "code",
   "execution_count": 8,
   "metadata": {},
   "outputs": [
    {
     "name": "stdout",
     "output_type": "stream",
     "text": [
      "[u'zusammenfassung', u'spanien', u'\\xfcbernimmt', u'schweden', u'eu', u'vorsitz', u'madrid', u'spanien', u'nachfolger', u'schwedens', u'jahreswechsel', u'sechs', u'monate', u'ratspr\\xe4sidentschaft', u'europ\\xe4ischen_union', u'\\xfcbernommen', u'spanische', u'eu', u'vorsitz', u'erste', u'inkrafttreten', u'lissabon', u'reformvertrages', u'leitet', u'neue_\\xe4ra', u'f\\xfchrungsrolle', u'kommt', u'neuen', u'st\\xe4ndigen', u'ratspr\\xe4sidenten', u'rompuy', u'eu', u'gipfel', u'leiten', u'madrid', u'zur\\xfccknehmen', u'belgier', u'vortritt', u'lassen', u'sagte', u'spanische_regierungschef', u'turnusm\\xe4\\xdfige', u'eu', u'vorsitzende', u'jos\\xe9_luis_rodr\\xedguez_zapatero', u'begr\\xfc\\xdfung', u'ratspr\\xe4sidentschaft', u'erstrahlten', u'nacht_zum_freitag', u'dutzend', u'wahrzeichen', u'spaniens', u'blauen', u'farbe', u'eu', u'flagge', u'z\\xe4hlten', u'k\\xf6nigspalast', u'madrid', u'aqu\\xe4dukt', u'segovia', u'herkules', u'turm', u'la', u'coru\\xf1a', u'bellver', u'schloss', u'palma', u'de', u'mallorca', u'mittelpunkt', u'spanischen', u'eu', u'vorsitzes', u'motto', u'innovation', u'europa', u'verabschiedung', u'strategie', u'wirtschaftsaufschwung', u'stehen', u'bereits', u'februar', u'sondergipfel', u'geplant', u'au\\xdferdem', u'madrid', u'beziehungen', u'eu', u'usa', u'lateinamerika', u'mittelmeeranrainern', u'drittstaaten', u'verst\\xe4rken', u'polizei', u'bef\\xfcrchtet', u'ratspr\\xe4sidentschaft', u'anschl\\xe4ge', u'baskischen', u'untergrundorganisation_eta', u'terrorwarnstufe', u'wurde', u'deshalb', u'erh\\xf6ht']\n"
     ]
    }
   ],
   "source": [
    "docsobj.words_remove(docsobj.names)\n",
    "print docsobj.tokens[0]"
   ]
  },
  {
   "cell_type": "markdown",
   "metadata": {},
   "source": [
    "8. We stem the tokens. Stemming is the process of reducing words that have different grammatical forms but share a common meaning to their word stem. For instance, all words ‘kategorisch’, ‘kategorische’, ‘kategorischen’ have the same stem ‘kategor’. We use a Porter Stemmer for German language which is the most popular algorithm for stemming. Details on the Porter Stemmer can be found [here](http://snowball.tartarus.org/algorithms/german/stemmer.html)."
   ]
  },
  {
   "cell_type": "code",
   "execution_count": 9,
   "metadata": {},
   "outputs": [
    {
     "name": "stdout",
     "output_type": "stream",
     "text": [
      "[u'zusammenfass', u'spani', u'ubernimmt', u'schwed', u'eu', u'vorsitz', u'madrid', u'spani', u'nachfolg', u'schwed', u'jahreswechsel', u'sech', u'monat', u'ratsprasidentschaft', u'europ\\xe4ischen_union', u'ubernomm', u'spanisch', u'eu', u'vorsitz', u'erst', u'inkrafttret', u'lissabon', u'reformvertrag', u'leitet', u'neue_\\xe4ra', u'fuhrungsroll', u'kommt', u'neu', u'standig', u'ratsprasident', u'rompuy', u'eu', u'gipfel', u'leit', u'madrid', u'zurucknehm', u'belgi', u'vortritt', u'lass', u'sagt', u'spanische_regierungschef', u'turnusmass', u'eu', u'vorsitz', u'jos\\xe9_luis_rodr\\xedguez_zapatero', u'begruss', u'ratsprasidentschaft', u'erstrahlt', u'nacht_zum_freitag', u'dutzend', u'wahrzeich', u'spani', u'blau', u'farb', u'eu', u'flagg', u'zahlt', u'konigspalast', u'madrid', u'aquadukt', u'segovia', u'herkul', u'turm', u'la', u'coru\\xf1a', u'bellv', u'schloss', u'palma', u'de', u'mallorca', u'mittelpunkt', u'spanisch', u'eu', u'vorsitz', u'motto', u'innovation', u'europa', u'verabschied', u'strategi', u'wirtschaftsaufschw', u'steh', u'bereit', u'februar', u'sondergipfel', u'geplant', u'ausserd', u'madrid', u'bezieh', u'eu', u'usa', u'lateinamerika', u'mittelmeeranrain', u'drittstaat', u'verstark', u'polizei', u'befurchtet', u'ratsprasidentschaft', u'anschlag', u'baskisch', u'untergrundorganisation_eta', u'terrorwarnstuf', u'wurd', u'deshalb', u'erhoht']\n"
     ]
    }
   ],
   "source": [
    "docsobj.stem()\n",
    "print docsobj.stems[0]"
   ]
  },
  {
   "cell_type": "markdown",
   "metadata": {},
   "source": [
    "9. To ensure that all stopwords are fully eliminated, especially after the stemming process which might have transformed some words into stopwords, we conduct an additional removal of stopwords. "
   ]
  },
  {
   "cell_type": "code",
   "execution_count": 10,
   "metadata": {},
   "outputs": [
    {
     "name": "stdout",
     "output_type": "stream",
     "text": [
      "[u'zusammenfass', u'spani', u'ubernimmt', u'schwed', u'eu', u'vorsitz', u'madrid', u'spani', u'nachfolg', u'schwed', u'jahreswechsel', u'sech', u'monat', u'ratsprasidentschaft', u'europ\\xe4ischen_union', u'ubernomm', u'spanisch', u'eu', u'vorsitz', u'erst', u'inkrafttret', u'lissabon', u'reformvertrag', u'leitet', u'neue_\\xe4ra', u'fuhrungsroll', u'kommt', u'neu', u'standig', u'ratsprasident', u'rompuy', u'eu', u'gipfel', u'leit', u'madrid', u'zurucknehm', u'belgi', u'vortritt', u'lass', u'sagt', u'spanische_regierungschef', u'turnusmass', u'eu', u'vorsitz', u'jos\\xe9_luis_rodr\\xedguez_zapatero', u'begruss', u'ratsprasidentschaft', u'erstrahlt', u'nacht_zum_freitag', u'dutzend', u'wahrzeich', u'spani', u'blau', u'farb', u'eu', u'flagg', u'zahlt', u'konigspalast', u'madrid', u'aquadukt', u'segovia', u'herkul', u'turm', u'la', u'coru\\xf1a', u'bellv', u'schloss', u'palma', u'de', u'mallorca', u'mittelpunkt', u'spanisch', u'eu', u'vorsitz', u'motto', u'innovation', u'europa', u'verabschied', u'strategi', u'wirtschaftsaufschw', u'steh', u'bereit', u'februar', u'sondergipfel', u'geplant', u'ausserd', u'madrid', u'bezieh', u'eu', u'usa', u'lateinamerika', u'mittelmeeranrain', u'drittstaat', u'verstark', u'polizei', u'befurchtet', u'ratsprasidentschaft', u'anschlag', u'baskisch', u'untergrundorganisation_eta', u'terrorwarnstuf', u'wurd', u'deshalb', u'erhoht']\n"
     ]
    }
   ],
   "source": [
    "docsobj.stopword_remove('stems')\n",
    "print docsobj.stems[0]"
   ]
  },
  {
   "cell_type": "markdown",
   "metadata": {},
   "source": [
    "10. Discard the tokens with the lowest tf-idf score. tf-idf stands for term frequency – inverse document frequency and is defined by the following formula for each token $v$:\n",
    "\n",
    "$$\\text{tf-idf}_v = \\log(1+N_v)× \\log⁡\\left(\\frac{D}{D_v}\\right)$$\n",
    "\n",
    "where\n",
    "$N_v$ – the count of the token $v$ in the corpus,\n",
    "$D_v$ – the number of documents that contain the term $v$,\n",
    "$D$ - the number of documents.\n",
    "\n",
    "This numerical statistic is lower for those tokens that appear in the documents very rarely or very frequently. Dimensionality reduction is the main goal of the step. "
   ]
  },
  {
   "cell_type": "code",
   "execution_count": 11,
   "metadata": {},
   "outputs": [
    {
     "name": "stdout",
     "output_type": "stream",
     "text": [
      "2:12:47.320000\n"
     ]
    }
   ],
   "source": [
    "docsobj.term_rank(\"stems\")\n",
    "print(datetime.now()-startTime)"
   ]
  },
  {
   "cell_type": "markdown",
   "metadata": {},
   "source": [
    "We implement a thresholding mechanism, eliminating all stems whose tf-idf score is equal to or less than the tf-idf score of the 300,000th stem. The threshold value is determined based on the analysis of the training portion of our dataset."
   ]
  },
  {
   "cell_type": "code",
   "execution_count": 12,
   "metadata": {},
   "outputs": [
    {
     "data": {
      "image/png": "[encoded data removed]",
      "text/plain": [
       "<Figure size 720x432 with 1 Axes>"
      ]
     },
     "metadata": {
      "needs_background": "light"
     },
     "output_type": "display_data"
    }
   ],
   "source": [
    "import matplotlib.pyplot as plt\n",
    "plt.figure(figsize=(10, 6))\n",
    "plt.plot([x[1] for x in docsobj.tfidf_ranking])\n",
    "plt.axvline(x=300000, color='r', linestyle='--')  # Add vertical line at index 300000\n",
    "plt.show()"
   ]
  },
  {
   "cell_type": "code",
   "execution_count": 13,
   "metadata": {},
   "outputs": [
    {
     "name": "stdout",
     "output_type": "stream",
     "text": [
      "number of unique stems = 266948\n",
      "number of total stems = 55961795\n"
     ]
    }
   ],
   "source": [
    "docsobj.rank_remove(\"tfidf\",\"stems\",docsobj.tfidf_ranking[300000][1])\n",
    "all_stems = [s for d in docsobj.stems for s in d]\n",
    "print(\"number of unique stems = %d\" % len(set(all_stems)))\n",
    "print(\"number of total stems = %d\" % len(all_stems))"
   ]
  },
  {
   "cell_type": "code",
   "execution_count": 14,
   "metadata": {},
   "outputs": [
    {
     "name": "stdout",
     "output_type": "stream",
     "text": [
      "[u'zusammenfass', u'spani', u'ubernimmt', u'schwed', u'vorsitz', u'madrid', u'spani', u'nachfolg', u'schwed', u'jahreswechsel', u'sech', u'monat', u'ratsprasidentschaft', u'europ\\xe4ischen_union', u'ubernomm', u'spanisch', u'vorsitz', u'inkrafttret', u'lissabon', u'reformvertrag', u'leitet', u'neue_\\xe4ra', u'fuhrungsroll', u'kommt', u'standig', u'ratsprasident', u'rompuy', u'gipfel', u'leit', u'madrid', u'zurucknehm', u'belgi', u'vortritt', u'lass', u'spanische_regierungschef', u'turnusmass', u'vorsitz', u'jos\\xe9_luis_rodr\\xedguez_zapatero', u'begruss', u'ratsprasidentschaft', u'erstrahlt', u'nacht_zum_freitag', u'dutzend', u'wahrzeich', u'spani', u'blau', u'farb', u'flagg', u'zahlt', u'konigspalast', u'madrid', u'segovia', u'herkul', u'turm', u'la', u'coru\\xf1a', u'schloss', u'palma', u'de', u'mallorca', u'mittelpunkt', u'spanisch', u'vorsitz', u'motto', u'innovation', u'verabschied', u'strategi', u'wirtschaftsaufschw', u'steh', u'februar', u'sondergipfel', u'geplant', u'ausserd', u'madrid', u'bezieh', u'lateinamerika', u'mittelmeeranrain', u'drittstaat', u'verstark', u'polizei', u'befurchtet', u'ratsprasidentschaft', u'anschlag', u'baskisch', u'untergrundorganisation_eta', u'terrorwarnstuf', u'deshalb', u'erhoht']\n"
     ]
    }
   ],
   "source": [
    "print docsobj.stems[0]"
   ]
  },
  {
   "cell_type": "code",
   "execution_count": 15,
   "metadata": {},
   "outputs": [],
   "source": [
    "import pickle\n",
    "\n",
    "with open('stems_for_lda_test.pkl', 'wb') as f:\n",
    "    pickle.dump(docsobj.stems, f)"
   ]
  },
  {
   "cell_type": "code",
   "execution_count": 16,
   "metadata": {},
   "outputs": [
    {
     "data": {
      "application/javascript": [
       "IPython.notebook.save_checkpoint();"
      ],
      "text/plain": [
       "<IPython.core.display.Javascript object>"
      ]
     },
     "metadata": {},
     "output_type": "display_data"
    }
   ],
   "source": [
    "from IPython.display import display, Javascript\n",
    "display(Javascript('IPython.notebook.save_checkpoint();'))"
   ]
  }
 ],
 "metadata": {
  "kernelspec": {
   "display_name": "Python 2",
   "language": "python",
   "name": "python2"
  },
  "language_info": {
   "codemirror_mode": {
    "name": "ipython",
    "version": 2
   },
   "file_extension": ".py",
   "mimetype": "text/x-python",
   "name": "python",
   "nbconvert_exporter": "python",
   "pygments_lexer": "ipython2",
   "version": "2.7.15"
  }
 },
 "nbformat": 4,
 "nbformat_minor": 4
}
