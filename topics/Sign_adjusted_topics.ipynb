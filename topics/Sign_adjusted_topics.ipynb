{
 "cells": [
  {
   "cell_type": "markdown",
   "id": "789ee08e",
   "metadata": {},
   "source": [
    "In this notebook, our goal is to generate sign-adjusted topic series. To do this, we follow a series of steps: for each day, we identify the 11 articles with the highest proportion of each topic. We then assess the sentiment of these articles to determine whether the majority express positive/no clear tone or negative sentiment. This process allows us to assign a value of +1 for a predominance of positive/no clear tone articles or -1 for a predominance of negative articles, representing the sentiment of the topic for that day. These values are then used to adjust the sign of the topic by multiplying the topic's value for that day by +1 or -1."
   ]
  },
  {
   "cell_type": "markdown",
   "id": "0a53811e",
   "metadata": {},
   "source": [
    "First, we load the datasets from Handelsblatt, SZ, Welt, and dpa."
   ]
  },
  {
   "cell_type": "code",
   "execution_count": 1,
   "id": "e731798d",
   "metadata": {},
   "outputs": [
    {
     "name": "stdout",
     "output_type": "stream",
     "text": [
      "3336299\n",
      "0:03:41.147624\n"
     ]
    }
   ],
   "source": [
    "import os\n",
    "import pandas as pd\n",
    "from ast import literal_eval\n",
    "from datetime import datetime\n",
    "startTime = datetime.now()\n",
    "\n",
    "# Set the path variable to point to the 'newspaper_data_processing' directory\n",
    "path = os.getcwd().replace('\\\\newspaper_analysis\\\\topics', '\\\\newspaper_data_processing')\n",
    "\n",
    "# Load pre-processed 'dpa' dataset from a CSV file\n",
    "dpa = pd.read_csv(path + '\\\\dpa\\\\' + 'dpa_prepro_final.csv', encoding = 'utf-8', sep=';', index_col = 0,  keep_default_na=False,\n",
    "                   dtype = {'rubrics': 'str', \n",
    "                            'source': 'str',\n",
    "                            'keywords': 'str',\n",
    "                            'title': 'str',\n",
    "                            'city': 'str',\n",
    "                            'genre': 'str',\n",
    "                            'wordcount': 'str'},\n",
    "                  converters = {'paragraphs': literal_eval})\n",
    "\n",
    "# Keep only the article texts and their respective publication dates\n",
    "dpa = dpa[['texts', 'day', 'month', 'year']]\n",
    "\n",
    "# Load pre-processed 'SZ' dataset from a CSV file\n",
    "sz = pd.read_csv(path + '\\\\SZ\\\\' + 'sz_prepro_final.csv', encoding = 'utf-8-sig', sep=';', index_col = 0, dtype = {'newspaper': 'str',\n",
    "                                                                                                 'newspaper_2': 'str',\n",
    "                                                                                                 'quelle_texts': 'str',\n",
    "                                                                                                 'page': 'str',\n",
    "                                                                                                 'rubrics': 'str'})\n",
    "sz.page = sz.page.fillna('')\n",
    "sz.newspaper = sz.newspaper.fillna('')\n",
    "sz.newspaper_2 = sz.newspaper_2.fillna('')\n",
    "sz.rubrics = sz.rubrics.fillna('')\n",
    "sz.quelle_texts = sz.quelle_texts.fillna('')\n",
    "\n",
    "# Keep only the article texts and their respective publication dates\n",
    "sz = sz[['texts', 'day', 'month', 'year']]\n",
    "\n",
    "# Load pre-processed 'Handelsblatt' dataset from a CSV file\n",
    "hb = pd.read_csv(path + '\\\\Handelsblatt\\\\' + 'hb_prepro_final.csv', encoding = 'utf-8-sig', sep=';', index_col = 0, dtype = {'kicker': 'str',\n",
    "                                                                                                 'page': 'str',\n",
    "                                                                                                 'series_title': 'str',\n",
    "                                                                                                 'rubrics': 'str'})\n",
    "hb.page = hb.page.fillna('')\n",
    "hb.series_title = hb.series_title.fillna('')\n",
    "hb.kicker = hb.kicker.fillna('')\n",
    "hb.rubrics = hb.rubrics.fillna('')\n",
    "\n",
    "# Keep only the article texts and their respective publication dates\n",
    "hb = hb[['texts', 'day', 'month', 'year']]\n",
    "\n",
    "# Load pre-processed 'Welt' dataset from a CSV file\n",
    "welt = pd.read_csv(path + '\\\\Welt\\\\' + 'welt_prepro_final.csv', encoding = 'utf-8-sig', sep=';', index_col = 0, dtype = {'newspaper': 'str',\n",
    "                                                                                                 'rubrics': 'str',\n",
    "                                                                                                 'title': 'str'})\n",
    "welt.title = welt.title.fillna('')\n",
    "welt.rubrics = welt.rubrics.fillna('')\n",
    "\n",
    "# Keep only the article texts and their respective publication dates\n",
    "welt = welt[['texts', 'day', 'month', 'year']]\n",
    "\n",
    "# Concatenate the 'dpa', 'sz', 'hb', and 'welt' DataFrames into a single DataFrame 'data'\n",
    "data = pd.concat([dpa, sz, hb, welt])\n",
    "\n",
    "# The number of articles in the final dataset\n",
    "print(len(data))\n",
    "\n",
    "# Sort the data in chronological order\n",
    "data = data.sort_values(['year', 'month', 'day'], ascending=[True, True, True])\n",
    "# Reset the index of the DataFrame\n",
    "data.reset_index(inplace=True, drop=True)\n",
    "data.head()\n",
    "\n",
    "print(datetime.now()-startTime)"
   ]
  },
  {
   "cell_type": "markdown",
   "id": "b5858419",
   "metadata": {},
   "source": [
    "Next, we import sentiment scores, previously computed using an LSTM model for each article in the corpus."
   ]
  },
  {
   "cell_type": "code",
   "execution_count": 2,
   "id": "f6ee7870",
   "metadata": {},
   "outputs": [],
   "source": [
    "import csv\n",
    "import codecs\n",
    "\n",
    "# Set the path variable to point to the 'sentiment' directory\n",
    "path = os.getcwd().replace('\\\\topics', '') + '\\\\sentiment'\n",
    "\n",
    "with codecs.open(path + \"\\\\scores_lstm.csv\", \"r\", encoding='utf-8-sig') as f:\n",
    "    reader = csv.reader(f)\n",
    "    scores = [None if row[0] == '' else float(row[0]) for row in reader]   "
   ]
  },
  {
   "cell_type": "markdown",
   "id": "78cd65d9",
   "metadata": {},
   "source": [
    "We add sentiment scores as a new column to the `data` DataFrame and discard any rows with missing sentiment scores."
   ]
  },
  {
   "cell_type": "code",
   "execution_count": 3,
   "id": "1683bb65",
   "metadata": {},
   "outputs": [],
   "source": [
    "# Add the sentiment scores as a new column in the data DataFrame\n",
    "data['scores'] = scores\n",
    "\n",
    "# Remove any rows in the DataFrame where a sentiment score is missing (NaN). In this context, \n",
    "# NaN corresponds to the model's inability to predict sentiment for certain \n",
    "# articles due to formatting issues or because the article is too short (less than 20 tokens).\n",
    "data = data.dropna(subset=['scores'])\n",
    "\n",
    "# Reset the index of the DataFrame\n",
    "data.reset_index(inplace=True, drop=True)"
   ]
  },
  {
   "cell_type": "markdown",
   "id": "d8a10cb9",
   "metadata": {},
   "source": [
    "Afterward, we are incorporating the topic distributions for each article, which were previously computed using the Latent Dirichlet Allocation (LDA) algorithm in the notebook named `Topic model estimation`. "
   ]
  },
  {
   "cell_type": "code",
   "execution_count": 4,
   "id": "269d657f",
   "metadata": {},
   "outputs": [],
   "source": [
    "# Load the article topics from a CSV file\n",
    "article_topics = pd.read_csv('article_topic.csv', encoding='utf-8', index_col=0)\n",
    "\n",
    "# Merge the `data` DataFrame with the `article_topics` DataFrame\n",
    "data = pd.concat([data, article_topics], axis=1)"
   ]
  },
  {
   "cell_type": "markdown",
   "id": "9d498018",
   "metadata": {},
   "source": [
    "We create a function, `get_daily_sentiment_sign`, which processes a subset of `data` corresponding to a single day and returns a series with the sentiment sign for each topic on that day. This function takes as input the number of articles with the highest proportion of each topic, which it uses to determine the sentiment. The function `process_chunk` ensures that the resulting series is transformed into a pandas DataFrame with the date as the index. The `calculate_sentiment_signs` function applies the sentiment sign calculation for a given number of top articles. To speed up the computation, we use multiprocessing to process each day's data in parallel. "
   ]
  },
  {
   "cell_type": "code",
   "execution_count": 5,
   "id": "a1303445",
   "metadata": {},
   "outputs": [],
   "source": [
    "import multiprocessing as mp\n",
    "from process_chunk import process_chunk\n",
    "\n",
    "# Number of cores to use\n",
    "NUM_CORE = mp.cpu_count() - 8\n",
    "\n",
    "# Convert 'year', 'month', 'day' to datetime\n",
    "data['date'] = pd.to_datetime(data[['year', 'month', 'day']])\n",
    "\n",
    "def calculate_sentiment_signs(data, n_articles):\n",
    "    \"\"\"\n",
    "    Function to calculate sentiment signs for topics based on a specified number of articles.\n",
    "    \"\"\"\n",
    "    # Group data by 'date' to ensure each day stays together\n",
    "    grouped_by_date = [group for _, group in data.groupby('date')]\n",
    "    \n",
    "    # Prepare arguments for starmap (pair each chunk with the value of n_articles)\n",
    "    args = [(chunk, n_articles) for chunk in grouped_by_date]\n",
    "    \n",
    "    if __name__ == \"__main__\":\n",
    "        # Create a multiprocessing pool\n",
    "        pool = mp.Pool(NUM_CORE)\n",
    "\n",
    "        # Process each group (one day of data) in parallel\n",
    "        results = pool.starmap(process_chunk, args)\n",
    "\n",
    "        # Concatenate the results into a single DataFrame\n",
    "        daily_sentiment_signs = pd.concat(results)\n",
    "\n",
    "        # Close and join the pool\n",
    "        pool.close()\n",
    "        pool.join()\n",
    "\n",
    "    return daily_sentiment_signs"
   ]
  },
  {
   "cell_type": "markdown",
   "id": "5621c502",
   "metadata": {},
   "source": [
    "We calculate daily sentiment signs for each topic using the top 11, 9, and 7 articles. While the final results are based on 11 articles, we also check the robustness of these results using 9 and 7 articles."
   ]
  },
  {
   "cell_type": "code",
   "execution_count": 6,
   "id": "f8ea1b2e",
   "metadata": {},
   "outputs": [
    {
     "name": "stdout",
     "output_type": "stream",
     "text": [
      "0:04:28.954358\n"
     ]
    }
   ],
   "source": [
    "startTime = datetime.now() \n",
    "\n",
    "# Generate sentiment signs for 11, 9, and 7 articles\n",
    "daily_sentiment_signs_11 = calculate_sentiment_signs(data, n_articles=11)\n",
    "daily_sentiment_signs_9 = calculate_sentiment_signs(data, n_articles=9)\n",
    "daily_sentiment_signs_7 = calculate_sentiment_signs(data, n_articles=7)\n",
    "\n",
    "print(datetime.now()-startTime)"
   ]
  },
  {
   "cell_type": "markdown",
   "id": "fb06547a",
   "metadata": {},
   "source": [
    "Now we are going to load the daily topics and adjust their signs using the DataFrame `daily_sentiment_signs_11`. The result is a dataframe where topic distributions are multiplied with the prevailing sentiment of each topic for a given day. "
   ]
  },
  {
   "cell_type": "code",
   "execution_count": 7,
   "id": "ee599b69",
   "metadata": {},
   "outputs": [],
   "source": [
    "# Load the daily topics from a CSV file\n",
    "daily_topics = pd.read_csv('daily_topics.csv', encoding='utf-8')\n",
    "\n",
    "# Convert year, month, and day into a single date column\n",
    "daily_topics['date'] = pd.to_datetime(daily_topics[['year','month','day']])\n",
    "daily_topics.drop(columns=['year', 'month', 'day'], inplace=True)\n",
    "\n",
    "# Now, set 'date' as index\n",
    "daily_topics.set_index('date', inplace=True)"
   ]
  },
  {
   "cell_type": "code",
   "execution_count": 8,
   "id": "a7314b95",
   "metadata": {},
   "outputs": [],
   "source": [
    "# Apply sentiment signs to the daily topics\n",
    "sign_adjusted_daily_topics = daily_topics.multiply(daily_sentiment_signs_11)\n",
    "\n",
    "# Save sign-adjusted topics to a CSV file\n",
    "sign_adjusted_daily_topics.to_csv('sign_adjusted_daily_topics.csv', encoding='utf-8', index=True)"
   ]
  },
  {
   "cell_type": "markdown",
   "id": "d8d9dc49",
   "metadata": {},
   "source": [
    "We iterate over each topic and generate a graph comparing the original and sign-adjusted values."
   ]
  },
  {
   "cell_type": "code",
   "execution_count": 9,
   "id": "1a9f4cd8",
   "metadata": {},
   "outputs": [
    {
     "name": "stderr",
     "output_type": "stream",
     "text": [
      "C:\\Users\\mokuneva\\AppData\\Local\\Temp\\2\\ipykernel_22784\\1024825568.py:22: RuntimeWarning: More than 20 figures have been opened. Figures created through the pyplot interface (`matplotlib.pyplot.figure`) are retained until explicitly closed and may consume too much memory. (To control this warning, see the rcParam `figure.max_open_warning`). Consider using `matplotlib.pyplot.close()`.\n",
      "  fig, ax = plt.subplots(figsize=(12,6))\n"
     ]
    },
    {
     "data": {
      "text/plain": [
       "<Figure size 1200x600 with 0 Axes>"
      ]
     },
     "metadata": {},
     "output_type": "display_data"
    },
    {
     "data": {
      "text/plain": [
       "<Figure size 1200x600 with 0 Axes>"
      ]
     },
     "metadata": {},
     "output_type": "display_data"
    },
    {
     "data": {
      "text/plain": [
       "<Figure size 1200x600 with 0 Axes>"
      ]
     },
     "metadata": {},
     "output_type": "display_data"
    },
    {
     "data": {
      "text/plain": [
       "<Figure size 1200x600 with 0 Axes>"
      ]
     },
     "metadata": {},
     "output_type": "display_data"
    },
    {
     "data": {
      "text/plain": [
       "<Figure size 1200x600 with 0 Axes>"
      ]
     },
     "metadata": {},
     "output_type": "display_data"
    },
    {
     "data": {
      "text/plain": [
       "<Figure size 1200x600 with 0 Axes>"
      ]
     },
     "metadata": {},
     "output_type": "display_data"
    },
    {
     "data": {
      "text/plain": [
       "<Figure size 1200x600 with 0 Axes>"
      ]
     },
     "metadata": {},
     "output_type": "display_data"
    },
    {
     "data": {
      "text/plain": [
       "<Figure size 1200x600 with 0 Axes>"
      ]
     },
     "metadata": {},
     "output_type": "display_data"
    },
    {
     "data": {
      "text/plain": [
       "<Figure size 1200x600 with 0 Axes>"
      ]
     },
     "metadata": {},
     "output_type": "display_data"
    },
    {
     "data": {
      "text/plain": [
       "<Figure size 1200x600 with 0 Axes>"
      ]
     },
     "metadata": {},
     "output_type": "display_data"
    },
    {
     "data": {
      "text/plain": [
       "<Figure size 1200x600 with 0 Axes>"
      ]
     },
     "metadata": {},
     "output_type": "display_data"
    },
    {
     "data": {
      "text/plain": [
       "<Figure size 1200x600 with 0 Axes>"
      ]
     },
     "metadata": {},
     "output_type": "display_data"
    },
    {
     "data": {
      "text/plain": [
       "<Figure size 1200x600 with 0 Axes>"
      ]
     },
     "metadata": {},
     "output_type": "display_data"
    },
    {
     "data": {
      "text/plain": [
       "<Figure size 1200x600 with 0 Axes>"
      ]
     },
     "metadata": {},
     "output_type": "display_data"
    },
    {
     "data": {
      "text/plain": [
       "<Figure size 1200x600 with 0 Axes>"
      ]
     },
     "metadata": {},
     "output_type": "display_data"
    },
    {
     "data": {
      "text/plain": [
       "<Figure size 1200x600 with 0 Axes>"
      ]
     },
     "metadata": {},
     "output_type": "display_data"
    },
    {
     "data": {
      "text/plain": [
       "<Figure size 1200x600 with 0 Axes>"
      ]
     },
     "metadata": {},
     "output_type": "display_data"
    },
    {
     "data": {
      "text/plain": [
       "<Figure size 1200x600 with 0 Axes>"
      ]
     },
     "metadata": {},
     "output_type": "display_data"
    },
    {
     "data": {
      "text/plain": [
       "<Figure size 1200x600 with 0 Axes>"
      ]
     },
     "metadata": {},
     "output_type": "display_data"
    },
    {
     "data": {
      "text/plain": [
       "<Figure size 1200x600 with 0 Axes>"
      ]
     },
     "metadata": {},
     "output_type": "display_data"
    },
    {
     "data": {
      "text/plain": [
       "<Figure size 1200x600 with 0 Axes>"
      ]
     },
     "metadata": {},
     "output_type": "display_data"
    },
    {
     "data": {
      "text/plain": [
       "<Figure size 1200x600 with 0 Axes>"
      ]
     },
     "metadata": {},
     "output_type": "display_data"
    },
    {
     "data": {
      "text/plain": [
       "<Figure size 1200x600 with 0 Axes>"
      ]
     },
     "metadata": {},
     "output_type": "display_data"
    },
    {
     "data": {
      "text/plain": [
       "<Figure size 1200x600 with 0 Axes>"
      ]
     },
     "metadata": {},
     "output_type": "display_data"
    },
    {
     "data": {
      "text/plain": [
       "<Figure size 1200x600 with 0 Axes>"
      ]
     },
     "metadata": {},
     "output_type": "display_data"
    },
    {
     "data": {
      "text/plain": [
       "<Figure size 1200x600 with 0 Axes>"
      ]
     },
     "metadata": {},
     "output_type": "display_data"
    },
    {
     "data": {
      "text/plain": [
       "<Figure size 1200x600 with 0 Axes>"
      ]
     },
     "metadata": {},
     "output_type": "display_data"
    },
    {
     "data": {
      "text/plain": [
       "<Figure size 1200x600 with 0 Axes>"
      ]
     },
     "metadata": {},
     "output_type": "display_data"
    },
    {
     "data": {
      "text/plain": [
       "<Figure size 1200x600 with 0 Axes>"
      ]
     },
     "metadata": {},
     "output_type": "display_data"
    },
    {
     "data": {
      "text/plain": [
       "<Figure size 1200x600 with 0 Axes>"
      ]
     },
     "metadata": {},
     "output_type": "display_data"
    },
    {
     "data": {
      "text/plain": [
       "<Figure size 1200x600 with 0 Axes>"
      ]
     },
     "metadata": {},
     "output_type": "display_data"
    },
    {
     "data": {
      "text/plain": [
       "<Figure size 1200x600 with 0 Axes>"
      ]
     },
     "metadata": {},
     "output_type": "display_data"
    },
    {
     "data": {
      "text/plain": [
       "<Figure size 1200x600 with 0 Axes>"
      ]
     },
     "metadata": {},
     "output_type": "display_data"
    },
    {
     "data": {
      "text/plain": [
       "<Figure size 1200x600 with 0 Axes>"
      ]
     },
     "metadata": {},
     "output_type": "display_data"
    },
    {
     "data": {
      "text/plain": [
       "<Figure size 1200x600 with 0 Axes>"
      ]
     },
     "metadata": {},
     "output_type": "display_data"
    },
    {
     "data": {
      "text/plain": [
       "<Figure size 1200x600 with 0 Axes>"
      ]
     },
     "metadata": {},
     "output_type": "display_data"
    },
    {
     "data": {
      "text/plain": [
       "<Figure size 1200x600 with 0 Axes>"
      ]
     },
     "metadata": {},
     "output_type": "display_data"
    },
    {
     "data": {
      "text/plain": [
       "<Figure size 1200x600 with 0 Axes>"
      ]
     },
     "metadata": {},
     "output_type": "display_data"
    },
    {
     "data": {
      "text/plain": [
       "<Figure size 1200x600 with 0 Axes>"
      ]
     },
     "metadata": {},
     "output_type": "display_data"
    },
    {
     "data": {
      "text/plain": [
       "<Figure size 1200x600 with 0 Axes>"
      ]
     },
     "metadata": {},
     "output_type": "display_data"
    },
    {
     "data": {
      "text/plain": [
       "<Figure size 1200x600 with 0 Axes>"
      ]
     },
     "metadata": {},
     "output_type": "display_data"
    },
    {
     "data": {
      "text/plain": [
       "<Figure size 1200x600 with 0 Axes>"
      ]
     },
     "metadata": {},
     "output_type": "display_data"
    },
    {
     "data": {
      "text/plain": [
       "<Figure size 1200x600 with 0 Axes>"
      ]
     },
     "metadata": {},
     "output_type": "display_data"
    },
    {
     "data": {
      "text/plain": [
       "<Figure size 1200x600 with 0 Axes>"
      ]
     },
     "metadata": {},
     "output_type": "display_data"
    },
    {
     "data": {
      "text/plain": [
       "<Figure size 1200x600 with 0 Axes>"
      ]
     },
     "metadata": {},
     "output_type": "display_data"
    },
    {
     "data": {
      "text/plain": [
       "<Figure size 1200x600 with 0 Axes>"
      ]
     },
     "metadata": {},
     "output_type": "display_data"
    },
    {
     "data": {
      "text/plain": [
       "<Figure size 1200x600 with 0 Axes>"
      ]
     },
     "metadata": {},
     "output_type": "display_data"
    },
    {
     "data": {
      "text/plain": [
       "<Figure size 1200x600 with 0 Axes>"
      ]
     },
     "metadata": {},
     "output_type": "display_data"
    },
    {
     "data": {
      "text/plain": [
       "<Figure size 1200x600 with 0 Axes>"
      ]
     },
     "metadata": {},
     "output_type": "display_data"
    },
    {
     "data": {
      "text/plain": [
       "<Figure size 1200x600 with 0 Axes>"
      ]
     },
     "metadata": {},
     "output_type": "display_data"
    },
    {
     "data": {
      "text/plain": [
       "<Figure size 1200x600 with 0 Axes>"
      ]
     },
     "metadata": {},
     "output_type": "display_data"
    },
    {
     "data": {
      "text/plain": [
       "<Figure size 1200x600 with 0 Axes>"
      ]
     },
     "metadata": {},
     "output_type": "display_data"
    },
    {
     "data": {
      "text/plain": [
       "<Figure size 1200x600 with 0 Axes>"
      ]
     },
     "metadata": {},
     "output_type": "display_data"
    },
    {
     "data": {
      "text/plain": [
       "<Figure size 1200x600 with 0 Axes>"
      ]
     },
     "metadata": {},
     "output_type": "display_data"
    },
    {
     "data": {
      "text/plain": [
       "<Figure size 1200x600 with 0 Axes>"
      ]
     },
     "metadata": {},
     "output_type": "display_data"
    },
    {
     "data": {
      "text/plain": [
       "<Figure size 1200x600 with 0 Axes>"
      ]
     },
     "metadata": {},
     "output_type": "display_data"
    },
    {
     "data": {
      "text/plain": [
       "<Figure size 1200x600 with 0 Axes>"
      ]
     },
     "metadata": {},
     "output_type": "display_data"
    },
    {
     "data": {
      "text/plain": [
       "<Figure size 1200x600 with 0 Axes>"
      ]
     },
     "metadata": {},
     "output_type": "display_data"
    },
    {
     "data": {
      "text/plain": [
       "<Figure size 1200x600 with 0 Axes>"
      ]
     },
     "metadata": {},
     "output_type": "display_data"
    },
    {
     "data": {
      "text/plain": [
       "<Figure size 1200x600 with 0 Axes>"
      ]
     },
     "metadata": {},
     "output_type": "display_data"
    },
    {
     "data": {
      "text/plain": [
       "<Figure size 1200x600 with 0 Axes>"
      ]
     },
     "metadata": {},
     "output_type": "display_data"
    },
    {
     "data": {
      "text/plain": [
       "<Figure size 1200x600 with 0 Axes>"
      ]
     },
     "metadata": {},
     "output_type": "display_data"
    },
    {
     "data": {
      "text/plain": [
       "<Figure size 1200x600 with 0 Axes>"
      ]
     },
     "metadata": {},
     "output_type": "display_data"
    },
    {
     "data": {
      "text/plain": [
       "<Figure size 1200x600 with 0 Axes>"
      ]
     },
     "metadata": {},
     "output_type": "display_data"
    },
    {
     "data": {
      "text/plain": [
       "<Figure size 1200x600 with 0 Axes>"
      ]
     },
     "metadata": {},
     "output_type": "display_data"
    },
    {
     "data": {
      "text/plain": [
       "<Figure size 1200x600 with 0 Axes>"
      ]
     },
     "metadata": {},
     "output_type": "display_data"
    },
    {
     "data": {
      "text/plain": [
       "<Figure size 1200x600 with 0 Axes>"
      ]
     },
     "metadata": {},
     "output_type": "display_data"
    },
    {
     "data": {
      "text/plain": [
       "<Figure size 1200x600 with 0 Axes>"
      ]
     },
     "metadata": {},
     "output_type": "display_data"
    },
    {
     "data": {
      "text/plain": [
       "<Figure size 1200x600 with 0 Axes>"
      ]
     },
     "metadata": {},
     "output_type": "display_data"
    },
    {
     "data": {
      "text/plain": [
       "<Figure size 1200x600 with 0 Axes>"
      ]
     },
     "metadata": {},
     "output_type": "display_data"
    },
    {
     "data": {
      "text/plain": [
       "<Figure size 1200x600 with 0 Axes>"
      ]
     },
     "metadata": {},
     "output_type": "display_data"
    },
    {
     "data": {
      "text/plain": [
       "<Figure size 1200x600 with 0 Axes>"
      ]
     },
     "metadata": {},
     "output_type": "display_data"
    },
    {
     "data": {
      "text/plain": [
       "<Figure size 1200x600 with 0 Axes>"
      ]
     },
     "metadata": {},
     "output_type": "display_data"
    },
    {
     "data": {
      "text/plain": [
       "<Figure size 1200x600 with 0 Axes>"
      ]
     },
     "metadata": {},
     "output_type": "display_data"
    },
    {
     "data": {
      "text/plain": [
       "<Figure size 1200x600 with 0 Axes>"
      ]
     },
     "metadata": {},
     "output_type": "display_data"
    },
    {
     "data": {
      "text/plain": [
       "<Figure size 1200x600 with 0 Axes>"
      ]
     },
     "metadata": {},
     "output_type": "display_data"
    },
    {
     "data": {
      "text/plain": [
       "<Figure size 1200x600 with 0 Axes>"
      ]
     },
     "metadata": {},
     "output_type": "display_data"
    },
    {
     "data": {
      "text/plain": [
       "<Figure size 1200x600 with 0 Axes>"
      ]
     },
     "metadata": {},
     "output_type": "display_data"
    },
    {
     "data": {
      "text/plain": [
       "<Figure size 1200x600 with 0 Axes>"
      ]
     },
     "metadata": {},
     "output_type": "display_data"
    },
    {
     "data": {
      "text/plain": [
       "<Figure size 1200x600 with 0 Axes>"
      ]
     },
     "metadata": {},
     "output_type": "display_data"
    },
    {
     "data": {
      "text/plain": [
       "<Figure size 1200x600 with 0 Axes>"
      ]
     },
     "metadata": {},
     "output_type": "display_data"
    },
    {
     "data": {
      "text/plain": [
       "<Figure size 1200x600 with 0 Axes>"
      ]
     },
     "metadata": {},
     "output_type": "display_data"
    },
    {
     "data": {
      "text/plain": [
       "<Figure size 1200x600 with 0 Axes>"
      ]
     },
     "metadata": {},
     "output_type": "display_data"
    },
    {
     "data": {
      "text/plain": [
       "<Figure size 1200x600 with 0 Axes>"
      ]
     },
     "metadata": {},
     "output_type": "display_data"
    },
    {
     "data": {
      "text/plain": [
       "<Figure size 1200x600 with 0 Axes>"
      ]
     },
     "metadata": {},
     "output_type": "display_data"
    },
    {
     "data": {
      "text/plain": [
       "<Figure size 1200x600 with 0 Axes>"
      ]
     },
     "metadata": {},
     "output_type": "display_data"
    },
    {
     "data": {
      "text/plain": [
       "<Figure size 1200x600 with 0 Axes>"
      ]
     },
     "metadata": {},
     "output_type": "display_data"
    },
    {
     "data": {
      "text/plain": [
       "<Figure size 1200x600 with 0 Axes>"
      ]
     },
     "metadata": {},
     "output_type": "display_data"
    },
    {
     "data": {
      "text/plain": [
       "<Figure size 1200x600 with 0 Axes>"
      ]
     },
     "metadata": {},
     "output_type": "display_data"
    },
    {
     "data": {
      "text/plain": [
       "<Figure size 1200x600 with 0 Axes>"
      ]
     },
     "metadata": {},
     "output_type": "display_data"
    },
    {
     "data": {
      "text/plain": [
       "<Figure size 1200x600 with 0 Axes>"
      ]
     },
     "metadata": {},
     "output_type": "display_data"
    },
    {
     "data": {
      "text/plain": [
       "<Figure size 1200x600 with 0 Axes>"
      ]
     },
     "metadata": {},
     "output_type": "display_data"
    },
    {
     "data": {
      "text/plain": [
       "<Figure size 1200x600 with 0 Axes>"
      ]
     },
     "metadata": {},
     "output_type": "display_data"
    },
    {
     "data": {
      "text/plain": [
       "<Figure size 1200x600 with 0 Axes>"
      ]
     },
     "metadata": {},
     "output_type": "display_data"
    },
    {
     "data": {
      "text/plain": [
       "<Figure size 1200x600 with 0 Axes>"
      ]
     },
     "metadata": {},
     "output_type": "display_data"
    },
    {
     "data": {
      "text/plain": [
       "<Figure size 1200x600 with 0 Axes>"
      ]
     },
     "metadata": {},
     "output_type": "display_data"
    },
    {
     "data": {
      "text/plain": [
       "<Figure size 1200x600 with 0 Axes>"
      ]
     },
     "metadata": {},
     "output_type": "display_data"
    },
    {
     "data": {
      "text/plain": [
       "<Figure size 1200x600 with 0 Axes>"
      ]
     },
     "metadata": {},
     "output_type": "display_data"
    },
    {
     "data": {
      "text/plain": [
       "<Figure size 1200x600 with 0 Axes>"
      ]
     },
     "metadata": {},
     "output_type": "display_data"
    },
    {
     "data": {
      "text/plain": [
       "<Figure size 1200x600 with 0 Axes>"
      ]
     },
     "metadata": {},
     "output_type": "display_data"
    },
    {
     "data": {
      "text/plain": [
       "<Figure size 1200x600 with 0 Axes>"
      ]
     },
     "metadata": {},
     "output_type": "display_data"
    },
    {
     "data": {
      "text/plain": [
       "<Figure size 1200x600 with 0 Axes>"
      ]
     },
     "metadata": {},
     "output_type": "display_data"
    },
    {
     "data": {
      "text/plain": [
       "<Figure size 1200x600 with 0 Axes>"
      ]
     },
     "metadata": {},
     "output_type": "display_data"
    },
    {
     "data": {
      "text/plain": [
       "<Figure size 1200x600 with 0 Axes>"
      ]
     },
     "metadata": {},
     "output_type": "display_data"
    },
    {
     "data": {
      "text/plain": [
       "<Figure size 1200x600 with 0 Axes>"
      ]
     },
     "metadata": {},
     "output_type": "display_data"
    },
    {
     "data": {
      "text/plain": [
       "<Figure size 1200x600 with 0 Axes>"
      ]
     },
     "metadata": {},
     "output_type": "display_data"
    },
    {
     "data": {
      "text/plain": [
       "<Figure size 1200x600 with 0 Axes>"
      ]
     },
     "metadata": {},
     "output_type": "display_data"
    },
    {
     "data": {
      "text/plain": [
       "<Figure size 1200x600 with 0 Axes>"
      ]
     },
     "metadata": {},
     "output_type": "display_data"
    },
    {
     "data": {
      "text/plain": [
       "<Figure size 1200x600 with 0 Axes>"
      ]
     },
     "metadata": {},
     "output_type": "display_data"
    },
    {
     "data": {
      "text/plain": [
       "<Figure size 1200x600 with 0 Axes>"
      ]
     },
     "metadata": {},
     "output_type": "display_data"
    },
    {
     "data": {
      "text/plain": [
       "<Figure size 1200x600 with 0 Axes>"
      ]
     },
     "metadata": {},
     "output_type": "display_data"
    },
    {
     "data": {
      "text/plain": [
       "<Figure size 1200x600 with 0 Axes>"
      ]
     },
     "metadata": {},
     "output_type": "display_data"
    },
    {
     "data": {
      "text/plain": [
       "<Figure size 1200x600 with 0 Axes>"
      ]
     },
     "metadata": {},
     "output_type": "display_data"
    },
    {
     "data": {
      "text/plain": [
       "<Figure size 1200x600 with 0 Axes>"
      ]
     },
     "metadata": {},
     "output_type": "display_data"
    },
    {
     "data": {
      "text/plain": [
       "<Figure size 1200x600 with 0 Axes>"
      ]
     },
     "metadata": {},
     "output_type": "display_data"
    },
    {
     "data": {
      "text/plain": [
       "<Figure size 1200x600 with 0 Axes>"
      ]
     },
     "metadata": {},
     "output_type": "display_data"
    },
    {
     "data": {
      "text/plain": [
       "<Figure size 1200x600 with 0 Axes>"
      ]
     },
     "metadata": {},
     "output_type": "display_data"
    },
    {
     "data": {
      "text/plain": [
       "<Figure size 1200x600 with 0 Axes>"
      ]
     },
     "metadata": {},
     "output_type": "display_data"
    },
    {
     "data": {
      "text/plain": [
       "<Figure size 1200x600 with 0 Axes>"
      ]
     },
     "metadata": {},
     "output_type": "display_data"
    },
    {
     "data": {
      "text/plain": [
       "<Figure size 1200x600 with 0 Axes>"
      ]
     },
     "metadata": {},
     "output_type": "display_data"
    },
    {
     "data": {
      "text/plain": [
       "<Figure size 1200x600 with 0 Axes>"
      ]
     },
     "metadata": {},
     "output_type": "display_data"
    },
    {
     "data": {
      "text/plain": [
       "<Figure size 1200x600 with 0 Axes>"
      ]
     },
     "metadata": {},
     "output_type": "display_data"
    },
    {
     "data": {
      "text/plain": [
       "<Figure size 1200x600 with 0 Axes>"
      ]
     },
     "metadata": {},
     "output_type": "display_data"
    },
    {
     "data": {
      "text/plain": [
       "<Figure size 1200x600 with 0 Axes>"
      ]
     },
     "metadata": {},
     "output_type": "display_data"
    },
    {
     "data": {
      "text/plain": [
       "<Figure size 1200x600 with 0 Axes>"
      ]
     },
     "metadata": {},
     "output_type": "display_data"
    },
    {
     "data": {
      "text/plain": [
       "<Figure size 1200x600 with 0 Axes>"
      ]
     },
     "metadata": {},
     "output_type": "display_data"
    },
    {
     "data": {
      "text/plain": [
       "<Figure size 1200x600 with 0 Axes>"
      ]
     },
     "metadata": {},
     "output_type": "display_data"
    },
    {
     "data": {
      "text/plain": [
       "<Figure size 1200x600 with 0 Axes>"
      ]
     },
     "metadata": {},
     "output_type": "display_data"
    },
    {
     "data": {
      "text/plain": [
       "<Figure size 1200x600 with 0 Axes>"
      ]
     },
     "metadata": {},
     "output_type": "display_data"
    },
    {
     "data": {
      "text/plain": [
       "<Figure size 1200x600 with 0 Axes>"
      ]
     },
     "metadata": {},
     "output_type": "display_data"
    },
    {
     "data": {
      "text/plain": [
       "<Figure size 1200x600 with 0 Axes>"
      ]
     },
     "metadata": {},
     "output_type": "display_data"
    },
    {
     "data": {
      "text/plain": [
       "<Figure size 1200x600 with 0 Axes>"
      ]
     },
     "metadata": {},
     "output_type": "display_data"
    },
    {
     "data": {
      "text/plain": [
       "<Figure size 1200x600 with 0 Axes>"
      ]
     },
     "metadata": {},
     "output_type": "display_data"
    },
    {
     "data": {
      "text/plain": [
       "<Figure size 1200x600 with 0 Axes>"
      ]
     },
     "metadata": {},
     "output_type": "display_data"
    },
    {
     "data": {
      "text/plain": [
       "<Figure size 1200x600 with 0 Axes>"
      ]
     },
     "metadata": {},
     "output_type": "display_data"
    },
    {
     "data": {
      "text/plain": [
       "<Figure size 1200x600 with 0 Axes>"
      ]
     },
     "metadata": {},
     "output_type": "display_data"
    },
    {
     "data": {
      "text/plain": [
       "<Figure size 1200x600 with 0 Axes>"
      ]
     },
     "metadata": {},
     "output_type": "display_data"
    },
    {
     "data": {
      "text/plain": [
       "<Figure size 1200x600 with 0 Axes>"
      ]
     },
     "metadata": {},
     "output_type": "display_data"
    },
    {
     "data": {
      "text/plain": [
       "<Figure size 1200x600 with 0 Axes>"
      ]
     },
     "metadata": {},
     "output_type": "display_data"
    },
    {
     "data": {
      "text/plain": [
       "<Figure size 1200x600 with 0 Axes>"
      ]
     },
     "metadata": {},
     "output_type": "display_data"
    },
    {
     "data": {
      "text/plain": [
       "<Figure size 1200x600 with 0 Axes>"
      ]
     },
     "metadata": {},
     "output_type": "display_data"
    },
    {
     "data": {
      "text/plain": [
       "<Figure size 1200x600 with 0 Axes>"
      ]
     },
     "metadata": {},
     "output_type": "display_data"
    },
    {
     "data": {
      "text/plain": [
       "<Figure size 1200x600 with 0 Axes>"
      ]
     },
     "metadata": {},
     "output_type": "display_data"
    },
    {
     "data": {
      "text/plain": [
       "<Figure size 1200x600 with 0 Axes>"
      ]
     },
     "metadata": {},
     "output_type": "display_data"
    },
    {
     "data": {
      "text/plain": [
       "<Figure size 1200x600 with 0 Axes>"
      ]
     },
     "metadata": {},
     "output_type": "display_data"
    },
    {
     "data": {
      "text/plain": [
       "<Figure size 1200x600 with 0 Axes>"
      ]
     },
     "metadata": {},
     "output_type": "display_data"
    },
    {
     "data": {
      "text/plain": [
       "<Figure size 1200x600 with 0 Axes>"
      ]
     },
     "metadata": {},
     "output_type": "display_data"
    },
    {
     "data": {
      "text/plain": [
       "<Figure size 1200x600 with 0 Axes>"
      ]
     },
     "metadata": {},
     "output_type": "display_data"
    },
    {
     "data": {
      "text/plain": [
       "<Figure size 1200x600 with 0 Axes>"
      ]
     },
     "metadata": {},
     "output_type": "display_data"
    },
    {
     "data": {
      "text/plain": [
       "<Figure size 1200x600 with 0 Axes>"
      ]
     },
     "metadata": {},
     "output_type": "display_data"
    },
    {
     "data": {
      "text/plain": [
       "<Figure size 1200x600 with 0 Axes>"
      ]
     },
     "metadata": {},
     "output_type": "display_data"
    },
    {
     "data": {
      "text/plain": [
       "<Figure size 1200x600 with 0 Axes>"
      ]
     },
     "metadata": {},
     "output_type": "display_data"
    },
    {
     "data": {
      "text/plain": [
       "<Figure size 1200x600 with 0 Axes>"
      ]
     },
     "metadata": {},
     "output_type": "display_data"
    },
    {
     "data": {
      "text/plain": [
       "<Figure size 1200x600 with 0 Axes>"
      ]
     },
     "metadata": {},
     "output_type": "display_data"
    },
    {
     "data": {
      "text/plain": [
       "<Figure size 1200x600 with 0 Axes>"
      ]
     },
     "metadata": {},
     "output_type": "display_data"
    },
    {
     "data": {
      "text/plain": [
       "<Figure size 1200x600 with 0 Axes>"
      ]
     },
     "metadata": {},
     "output_type": "display_data"
    },
    {
     "data": {
      "text/plain": [
       "<Figure size 1200x600 with 0 Axes>"
      ]
     },
     "metadata": {},
     "output_type": "display_data"
    },
    {
     "data": {
      "text/plain": [
       "<Figure size 1200x600 with 0 Axes>"
      ]
     },
     "metadata": {},
     "output_type": "display_data"
    },
    {
     "data": {
      "text/plain": [
       "<Figure size 1200x600 with 0 Axes>"
      ]
     },
     "metadata": {},
     "output_type": "display_data"
    },
    {
     "data": {
      "text/plain": [
       "<Figure size 1200x600 with 0 Axes>"
      ]
     },
     "metadata": {},
     "output_type": "display_data"
    },
    {
     "data": {
      "text/plain": [
       "<Figure size 1200x600 with 0 Axes>"
      ]
     },
     "metadata": {},
     "output_type": "display_data"
    },
    {
     "data": {
      "text/plain": [
       "<Figure size 1200x600 with 0 Axes>"
      ]
     },
     "metadata": {},
     "output_type": "display_data"
    },
    {
     "data": {
      "text/plain": [
       "<Figure size 1200x600 with 0 Axes>"
      ]
     },
     "metadata": {},
     "output_type": "display_data"
    },
    {
     "data": {
      "text/plain": [
       "<Figure size 1200x600 with 0 Axes>"
      ]
     },
     "metadata": {},
     "output_type": "display_data"
    },
    {
     "data": {
      "text/plain": [
       "<Figure size 1200x600 with 0 Axes>"
      ]
     },
     "metadata": {},
     "output_type": "display_data"
    },
    {
     "data": {
      "text/plain": [
       "<Figure size 1200x600 with 0 Axes>"
      ]
     },
     "metadata": {},
     "output_type": "display_data"
    },
    {
     "data": {
      "text/plain": [
       "<Figure size 1200x600 with 0 Axes>"
      ]
     },
     "metadata": {},
     "output_type": "display_data"
    },
    {
     "data": {
      "text/plain": [
       "<Figure size 1200x600 with 0 Axes>"
      ]
     },
     "metadata": {},
     "output_type": "display_data"
    },
    {
     "data": {
      "text/plain": [
       "<Figure size 1200x600 with 0 Axes>"
      ]
     },
     "metadata": {},
     "output_type": "display_data"
    },
    {
     "data": {
      "text/plain": [
       "<Figure size 1200x600 with 0 Axes>"
      ]
     },
     "metadata": {},
     "output_type": "display_data"
    },
    {
     "data": {
      "text/plain": [
       "<Figure size 1200x600 with 0 Axes>"
      ]
     },
     "metadata": {},
     "output_type": "display_data"
    },
    {
     "data": {
      "text/plain": [
       "<Figure size 1200x600 with 0 Axes>"
      ]
     },
     "metadata": {},
     "output_type": "display_data"
    },
    {
     "data": {
      "text/plain": [
       "<Figure size 1200x600 with 0 Axes>"
      ]
     },
     "metadata": {},
     "output_type": "display_data"
    },
    {
     "data": {
      "text/plain": [
       "<Figure size 1200x600 with 0 Axes>"
      ]
     },
     "metadata": {},
     "output_type": "display_data"
    },
    {
     "data": {
      "text/plain": [
       "<Figure size 1200x600 with 0 Axes>"
      ]
     },
     "metadata": {},
     "output_type": "display_data"
    },
    {
     "data": {
      "text/plain": [
       "<Figure size 1200x600 with 0 Axes>"
      ]
     },
     "metadata": {},
     "output_type": "display_data"
    },
    {
     "data": {
      "text/plain": [
       "<Figure size 1200x600 with 0 Axes>"
      ]
     },
     "metadata": {},
     "output_type": "display_data"
    },
    {
     "data": {
      "text/plain": [
       "<Figure size 1200x600 with 0 Axes>"
      ]
     },
     "metadata": {},
     "output_type": "display_data"
    },
    {
     "data": {
      "text/plain": [
       "<Figure size 1200x600 with 0 Axes>"
      ]
     },
     "metadata": {},
     "output_type": "display_data"
    },
    {
     "data": {
      "text/plain": [
       "<Figure size 1200x600 with 0 Axes>"
      ]
     },
     "metadata": {},
     "output_type": "display_data"
    },
    {
     "data": {
      "text/plain": [
       "<Figure size 1200x600 with 0 Axes>"
      ]
     },
     "metadata": {},
     "output_type": "display_data"
    },
    {
     "data": {
      "text/plain": [
       "<Figure size 1200x600 with 0 Axes>"
      ]
     },
     "metadata": {},
     "output_type": "display_data"
    },
    {
     "data": {
      "text/plain": [
       "<Figure size 1200x600 with 0 Axes>"
      ]
     },
     "metadata": {},
     "output_type": "display_data"
    },
    {
     "data": {
      "text/plain": [
       "<Figure size 1200x600 with 0 Axes>"
      ]
     },
     "metadata": {},
     "output_type": "display_data"
    },
    {
     "data": {
      "text/plain": [
       "<Figure size 1200x600 with 0 Axes>"
      ]
     },
     "metadata": {},
     "output_type": "display_data"
    },
    {
     "data": {
      "text/plain": [
       "<Figure size 1200x600 with 0 Axes>"
      ]
     },
     "metadata": {},
     "output_type": "display_data"
    },
    {
     "data": {
      "text/plain": [
       "<Figure size 1200x600 with 0 Axes>"
      ]
     },
     "metadata": {},
     "output_type": "display_data"
    },
    {
     "data": {
      "text/plain": [
       "<Figure size 1200x600 with 0 Axes>"
      ]
     },
     "metadata": {},
     "output_type": "display_data"
    },
    {
     "data": {
      "text/plain": [
       "<Figure size 1200x600 with 0 Axes>"
      ]
     },
     "metadata": {},
     "output_type": "display_data"
    },
    {
     "data": {
      "text/plain": [
       "<Figure size 1200x600 with 0 Axes>"
      ]
     },
     "metadata": {},
     "output_type": "display_data"
    },
    {
     "data": {
      "text/plain": [
       "<Figure size 1200x600 with 0 Axes>"
      ]
     },
     "metadata": {},
     "output_type": "display_data"
    },
    {
     "data": {
      "text/plain": [
       "<Figure size 1200x600 with 0 Axes>"
      ]
     },
     "metadata": {},
     "output_type": "display_data"
    },
    {
     "data": {
      "text/plain": [
       "<Figure size 1200x600 with 0 Axes>"
      ]
     },
     "metadata": {},
     "output_type": "display_data"
    },
    {
     "data": {
      "text/plain": [
       "<Figure size 1200x600 with 0 Axes>"
      ]
     },
     "metadata": {},
     "output_type": "display_data"
    },
    {
     "data": {
      "text/plain": [
       "<Figure size 1200x600 with 0 Axes>"
      ]
     },
     "metadata": {},
     "output_type": "display_data"
    },
    {
     "data": {
      "text/plain": [
       "<Figure size 1200x600 with 0 Axes>"
      ]
     },
     "metadata": {},
     "output_type": "display_data"
    },
    {
     "data": {
      "text/plain": [
       "<Figure size 1200x600 with 0 Axes>"
      ]
     },
     "metadata": {},
     "output_type": "display_data"
    },
    {
     "data": {
      "text/plain": [
       "<Figure size 1200x600 with 0 Axes>"
      ]
     },
     "metadata": {},
     "output_type": "display_data"
    },
    {
     "data": {
      "text/plain": [
       "<Figure size 1200x600 with 0 Axes>"
      ]
     },
     "metadata": {},
     "output_type": "display_data"
    },
    {
     "data": {
      "text/plain": [
       "<Figure size 1200x600 with 0 Axes>"
      ]
     },
     "metadata": {},
     "output_type": "display_data"
    }
   ],
   "source": [
    "import matplotlib.pyplot as plt\n",
    "import matplotlib.dates as mdates\n",
    "\n",
    "# Create a directory to save the plots\n",
    "os.makedirs('topics_plots', exist_ok=True)\n",
    "\n",
    "# Define the shaded areas for recessions\n",
    "recessions = [\n",
    "    (\"1992-01-01\", \"1993-12-31\"),  # Post-reunification recession\n",
    "    (\"2001-01-01\", \"2001-12-31\"),  # Dot-com recession\n",
    "    (\"2008-01-01\", \"2009-12-31\"),  # Great Recession\n",
    "    (\"2011-01-01\", \"2013-12-31\")   # European sovereign debt crisis\n",
    "]\n",
    "\n",
    "# Calculate the 180-day rolling mean for each series\n",
    "daily_topics_rm = daily_topics.rolling(window=180).mean()\n",
    "sign_adjusted_daily_topics_11_rm = sign_adjusted_daily_topics.rolling(window=180).mean()\n",
    "\n",
    "# Iterate over each topic\n",
    "for i in range(daily_topics.shape[1]):\n",
    "    # Generate the plot\n",
    "    fig, ax = plt.subplots(figsize=(12,6))\n",
    "    \n",
    "    # Plot original and sign-adjusted topics\n",
    "    ax.plot(daily_topics_rm.index, daily_topics_rm.iloc[:, i], label='Original topic', color='black')\n",
    "    ax.plot(sign_adjusted_daily_topics_11_rm.index, sign_adjusted_daily_topics_11_rm.iloc[:, i], label='Sign-adjusted topic', linestyle='--')\n",
    "    \n",
    "    # Add shaded areas for recessions\n",
    "    for start, end in recessions:\n",
    "        ax.axvspan(pd.to_datetime(start), pd.to_datetime(end), color='grey', alpha=0.3)\n",
    "    \n",
    "    # Add title and labels\n",
    "    #ax.set_title('Topic ' + str(i))\n",
    "    ax.set_xlabel('Date')\n",
    "    ax.set_ylabel('Topic Proportion')\n",
    "    ax.legend()\n",
    "    \n",
    "    # Format the x-axis to show every year\n",
    "    ax.xaxis.set_major_locator(mdates.YearLocator())\n",
    "    ax.xaxis.set_major_formatter(mdates.DateFormatter('%Y'))\n",
    "\n",
    "    # Rotate date labels for better visibility\n",
    "    plt.xticks(rotation=45)\n",
    "    \n",
    "    # Save the plot in the 'topics_plots' directory\n",
    "    plt.savefig('topics_plots/Topic_' + str(i) + '.png')\n",
    "    \n",
    "    # Clear the current figure to free memory\n",
    "    plt.clf()"
   ]
  },
  {
   "cell_type": "markdown",
   "id": "064a4d97",
   "metadata": {},
   "source": [
    "We then repeat the process for the topics selected for the out-of-sample forecasting experiment, allowing for easier access."
   ]
  },
  {
   "cell_type": "code",
   "execution_count": 10,
   "id": "e7642bc8",
   "metadata": {},
   "outputs": [
    {
     "data": {
      "text/plain": [
       "<Figure size 1200x600 with 0 Axes>"
      ]
     },
     "metadata": {},
     "output_type": "display_data"
    },
    {
     "data": {
      "text/plain": [
       "<Figure size 1200x600 with 0 Axes>"
      ]
     },
     "metadata": {},
     "output_type": "display_data"
    },
    {
     "data": {
      "text/plain": [
       "<Figure size 1200x600 with 0 Axes>"
      ]
     },
     "metadata": {},
     "output_type": "display_data"
    },
    {
     "data": {
      "text/plain": [
       "<Figure size 1200x600 with 0 Axes>"
      ]
     },
     "metadata": {},
     "output_type": "display_data"
    },
    {
     "data": {
      "text/plain": [
       "<Figure size 1200x600 with 0 Axes>"
      ]
     },
     "metadata": {},
     "output_type": "display_data"
    },
    {
     "data": {
      "text/plain": [
       "<Figure size 1200x600 with 0 Axes>"
      ]
     },
     "metadata": {},
     "output_type": "display_data"
    },
    {
     "data": {
      "text/plain": [
       "<Figure size 1200x600 with 0 Axes>"
      ]
     },
     "metadata": {},
     "output_type": "display_data"
    },
    {
     "data": {
      "text/plain": [
       "<Figure size 1200x600 with 0 Axes>"
      ]
     },
     "metadata": {},
     "output_type": "display_data"
    },
    {
     "data": {
      "text/plain": [
       "<Figure size 1200x600 with 0 Axes>"
      ]
     },
     "metadata": {},
     "output_type": "display_data"
    },
    {
     "data": {
      "text/plain": [
       "<Figure size 1200x600 with 0 Axes>"
      ]
     },
     "metadata": {},
     "output_type": "display_data"
    }
   ],
   "source": [
    "# Create a directory to save the plots\n",
    "os.makedirs('selected_topics_plots', exist_ok=True)\n",
    "\n",
    "# List of selected topics\n",
    "selected_topics = [11, 27, 52, 127, 81, 77, 74, 131, 138, 100]\n",
    "\n",
    "# Iterate over the selected topics\n",
    "for topic in selected_topics:\n",
    "    # Generate the plot\n",
    "    fig, ax = plt.subplots(figsize=(12,6))\n",
    "    \n",
    "    # Plot original and sign-adjusted topics\n",
    "    ax.plot(daily_topics_rm.index, daily_topics_rm.iloc[:, topic], label='Original topic', color='black')\n",
    "    ax.plot(sign_adjusted_daily_topics_11_rm.index, sign_adjusted_daily_topics_11_rm.iloc[:, topic], label='Sign-adjusted topic', linestyle='--')\n",
    "    \n",
    "    # Add shaded areas for recessions\n",
    "    for start, end in recessions:\n",
    "        ax.axvspan(pd.to_datetime(start), pd.to_datetime(end), color='grey', alpha=0.3)\n",
    "    \n",
    "    # Add title and labels\n",
    "    #ax.set_title('Topic ' + str(topic))\n",
    "    ax.set_xlabel('Date')\n",
    "    ax.set_ylabel('Topic Proportion')\n",
    "    ax.legend()\n",
    "    \n",
    "    # Format the x-axis to show every year\n",
    "    ax.xaxis.set_major_locator(mdates.YearLocator())\n",
    "    ax.xaxis.set_major_formatter(mdates.DateFormatter('%Y'))\n",
    "\n",
    "    # Rotate date labels for better visibility\n",
    "    plt.xticks(rotation=45)\n",
    "    \n",
    "    # Save the plot in the 'selected_topics_plots' directory\n",
    "    plt.savefig('selected_topics_plots/Topic_' + str(topic) + '.png')\n",
    "    \n",
    "    # Clear the current figure to free memory\n",
    "    plt.clf()"
   ]
  },
  {
   "cell_type": "markdown",
   "id": "b4de0b80",
   "metadata": {},
   "source": [
    "To check the robustness of our results to the choice of the number of top articles used to determine sentiment, we calculate the sign-adjusted topics for 7, 9, and 11 articles. We then standardize these daily series and plot them together for the selected topics."
   ]
  },
  {
   "cell_type": "code",
   "execution_count": 11,
   "id": "82086611",
   "metadata": {},
   "outputs": [
    {
     "data": {
      "text/plain": [
       "<Figure size 1200x600 with 0 Axes>"
      ]
     },
     "metadata": {},
     "output_type": "display_data"
    },
    {
     "data": {
      "text/plain": [
       "<Figure size 1200x600 with 0 Axes>"
      ]
     },
     "metadata": {},
     "output_type": "display_data"
    },
    {
     "data": {
      "text/plain": [
       "<Figure size 1200x600 with 0 Axes>"
      ]
     },
     "metadata": {},
     "output_type": "display_data"
    },
    {
     "data": {
      "text/plain": [
       "<Figure size 1200x600 with 0 Axes>"
      ]
     },
     "metadata": {},
     "output_type": "display_data"
    },
    {
     "data": {
      "text/plain": [
       "<Figure size 1200x600 with 0 Axes>"
      ]
     },
     "metadata": {},
     "output_type": "display_data"
    },
    {
     "data": {
      "text/plain": [
       "<Figure size 1200x600 with 0 Axes>"
      ]
     },
     "metadata": {},
     "output_type": "display_data"
    },
    {
     "data": {
      "text/plain": [
       "<Figure size 1200x600 with 0 Axes>"
      ]
     },
     "metadata": {},
     "output_type": "display_data"
    },
    {
     "data": {
      "text/plain": [
       "<Figure size 1200x600 with 0 Axes>"
      ]
     },
     "metadata": {},
     "output_type": "display_data"
    },
    {
     "data": {
      "text/plain": [
       "<Figure size 1200x600 with 0 Axes>"
      ]
     },
     "metadata": {},
     "output_type": "display_data"
    },
    {
     "data": {
      "text/plain": [
       "<Figure size 1200x600 with 0 Axes>"
      ]
     },
     "metadata": {},
     "output_type": "display_data"
    }
   ],
   "source": [
    "# Standardize the sentiment series\n",
    "def standardize_series(series):\n",
    "    return (series - series.mean()) / series.std()\n",
    "\n",
    "# Calculate the 180-day rolling mean for each series\n",
    "sign_adjusted_daily_topics_9_rm = daily_topics.multiply(daily_sentiment_signs_9).rolling(window=180).mean()\n",
    "sign_adjusted_daily_topics_7_rm = daily_topics.multiply(daily_sentiment_signs_7).rolling(window=180).mean()\n",
    "\n",
    "# Standardize the sentiment series\n",
    "sign_adjusted_11_rm_standardized = sign_adjusted_daily_topics_11_rm.apply(standardize_series, axis=0)\n",
    "sign_adjusted_9_rm_standardized = sign_adjusted_daily_topics_9_rm.apply(standardize_series, axis=0)\n",
    "sign_adjusted_7_rm_standardized = sign_adjusted_daily_topics_7_rm.apply(standardize_series, axis=0)\n",
    "\n",
    "# Create a directory to save the plots\n",
    "os.makedirs('selected_topics_plots_number_of_articles', exist_ok=True)\n",
    "\n",
    "# Iterate over the selected topics\n",
    "for topic in selected_topics:\n",
    "    # Generate the plot\n",
    "    fig, ax = plt.subplots(figsize=(12,6))\n",
    "    \n",
    "    # Plot sign-adjusted topics for 11, 9, and 7 articles\n",
    "    ax.plot(sign_adjusted_11_rm_standardized.index, sign_adjusted_11_rm_standardized.iloc[:, topic], label='Sign-adjusted topic (11 articles)', linestyle='--', color='black')\n",
    "    ax.plot(sign_adjusted_9_rm_standardized.index, sign_adjusted_9_rm_standardized.iloc[:, topic], label='Sign-adjusted topic (9 articles)', linestyle=':')\n",
    "    ax.plot(sign_adjusted_7_rm_standardized.index, sign_adjusted_7_rm_standardized.iloc[:, topic], label='Sign-adjusted topic (7 articles)', linestyle='-.', color='green')\n",
    "    \n",
    "    # Add a horizontal line at zero to indicate the mean\n",
    "    ax.axhline(0, color='gray', linewidth=1, linestyle='--')\n",
    "    \n",
    "    # Add title and labels\n",
    "    ax.set_xlabel('Date')\n",
    "    ax.set_ylabel('Standardized Sign-Adjusted Topic Proportion')\n",
    "    ax.legend()\n",
    "\n",
    "    # Shade the recession periods\n",
    "    for start, end in recessions:\n",
    "        ax.axvspan(pd.to_datetime(start), pd.to_datetime(end), color='grey', alpha=0.3)\n",
    "        \n",
    "    # Format the x-axis to show every year\n",
    "    ax.xaxis.set_major_locator(mdates.YearLocator())\n",
    "    ax.xaxis.set_major_formatter(mdates.DateFormatter('%Y'))\n",
    "\n",
    "    # Rotate date labels for better visibility\n",
    "    plt.xticks(rotation=45)\n",
    "\n",
    "    # Save the plot in the 'selected_topics_plots_number_of_articles' directory\n",
    "    plt.savefig(f'selected_topics_plots_number_of_articles/Topic_{topic}.png')\n",
    "\n",
    "    # Clear the current figure to free memory\n",
    "    plt.clf()"
   ]
  },
  {
   "cell_type": "markdown",
   "id": "3051add4",
   "metadata": {},
   "source": [
    "Another robustness check we perform is to determine whether sign adjustment and sentiment adjustment produce similar results. To do this, we calculate the average sentiment for each topic on each day, based on the 11 articles with the highest topic proportions. We then multiply this average sentiment by the daily topic proportions, resulting in sentiment-adjusted topics for each day. Finally, we standardize both the sign-adjusted and sentiment-adjusted topic series, and plot them together for the selected topics to compare their behavior."
   ]
  },
  {
   "cell_type": "code",
   "execution_count": 12,
   "id": "ce530c5a",
   "metadata": {},
   "outputs": [],
   "source": [
    "from process_chunk_average_sentiment import process_chunk_average_sentiment\n",
    "\n",
    "def calculate_average_sentiment(data, n_articles):\n",
    "    \"\"\"\n",
    "    Function to calculate average sentiment for topics based on a specified number of articles.\n",
    "    \"\"\"\n",
    "    # Group data by 'date' to ensure each day stays together\n",
    "    grouped_by_date = [group for _, group in data.groupby('date')]\n",
    "    \n",
    "    # Prepare arguments for starmap (pair each chunk with the value of n_articles)\n",
    "    args = [(chunk, n_articles) for chunk in grouped_by_date]\n",
    "    \n",
    "    if __name__ == \"__main__\":\n",
    "        # Create a multiprocessing pool\n",
    "        pool = mp.Pool(NUM_CORE)\n",
    "\n",
    "        # Process each group (one day of data) in parallel\n",
    "        results = pool.starmap(process_chunk_average_sentiment, args)\n",
    "\n",
    "        # Concatenate the results into a single DataFrame\n",
    "        daily_average_sentiment = pd.concat(results)\n",
    "\n",
    "        # Close and join the pool\n",
    "        pool.close()\n",
    "        pool.join()\n",
    "\n",
    "    return daily_average_sentiment"
   ]
  },
  {
   "cell_type": "code",
   "execution_count": 13,
   "id": "4dc9eb65",
   "metadata": {},
   "outputs": [
    {
     "name": "stdout",
     "output_type": "stream",
     "text": [
      "0:01:25.519267\n"
     ]
    }
   ],
   "source": [
    "startTime = datetime.now() \n",
    "\n",
    "# Generate average sentiment for 11 articles\n",
    "daily_average_sentiment_11 = calculate_average_sentiment(data, n_articles=11)\n",
    "\n",
    "print(datetime.now()-startTime)"
   ]
  },
  {
   "cell_type": "code",
   "execution_count": 14,
   "id": "0249e22c",
   "metadata": {},
   "outputs": [
    {
     "data": {
      "text/plain": [
       "<Figure size 1200x600 with 0 Axes>"
      ]
     },
     "metadata": {},
     "output_type": "display_data"
    },
    {
     "data": {
      "text/plain": [
       "<Figure size 1200x600 with 0 Axes>"
      ]
     },
     "metadata": {},
     "output_type": "display_data"
    },
    {
     "data": {
      "text/plain": [
       "<Figure size 1200x600 with 0 Axes>"
      ]
     },
     "metadata": {},
     "output_type": "display_data"
    },
    {
     "data": {
      "text/plain": [
       "<Figure size 1200x600 with 0 Axes>"
      ]
     },
     "metadata": {},
     "output_type": "display_data"
    },
    {
     "data": {
      "text/plain": [
       "<Figure size 1200x600 with 0 Axes>"
      ]
     },
     "metadata": {},
     "output_type": "display_data"
    },
    {
     "data": {
      "text/plain": [
       "<Figure size 1200x600 with 0 Axes>"
      ]
     },
     "metadata": {},
     "output_type": "display_data"
    },
    {
     "data": {
      "text/plain": [
       "<Figure size 1200x600 with 0 Axes>"
      ]
     },
     "metadata": {},
     "output_type": "display_data"
    },
    {
     "data": {
      "text/plain": [
       "<Figure size 1200x600 with 0 Axes>"
      ]
     },
     "metadata": {},
     "output_type": "display_data"
    },
    {
     "data": {
      "text/plain": [
       "<Figure size 1200x600 with 0 Axes>"
      ]
     },
     "metadata": {},
     "output_type": "display_data"
    },
    {
     "data": {
      "text/plain": [
       "<Figure size 1200x600 with 0 Axes>"
      ]
     },
     "metadata": {},
     "output_type": "display_data"
    }
   ],
   "source": [
    "# Calculate the 180-day rolling mean for the series\n",
    "sentiment_adjusted_daily_topics_11_rm = daily_topics.multiply(daily_average_sentiment_11).rolling(window=180).mean()\n",
    "\n",
    "# Standardize the sentiment series\n",
    "sentiment_adjusted_11_rm_standardized = sentiment_adjusted_daily_topics_11_rm.apply(standardize_series, axis=0)\n",
    "\n",
    "# Create a directory to save the plots\n",
    "os.makedirs('selected_topics_plots_sentiment_adjustment', exist_ok=True)\n",
    "\n",
    "# Iterate over the selected topics\n",
    "for topic in selected_topics:\n",
    "    # Generate the plot\n",
    "    fig, ax = plt.subplots(figsize=(12,6))\n",
    "    \n",
    "    # Plot sign-adjusted and sentiment-adjusted topics for 11 top articles\n",
    "    ax.plot(sign_adjusted_11_rm_standardized.index, sign_adjusted_11_rm_standardized.iloc[:, topic], label='Sign-adjusted topic', linestyle=':', color = 'black')\n",
    "    ax.plot(sentiment_adjusted_11_rm_standardized.index, sentiment_adjusted_11_rm_standardized.iloc[:, topic], label='Sentiment-adjusted topic', linestyle='--')\n",
    "    \n",
    "    # Add a horizontal line at zero to indicate the mean\n",
    "    ax.axhline(0, color='gray', linewidth=1, linestyle='--')\n",
    "\n",
    "    # Add title and labels\n",
    "    ax.set_xlabel('Date')\n",
    "    ax.set_ylabel('Standardized Sign- or Sentiment-Adjusted Topic Proportion')\n",
    "    ax.legend()\n",
    "\n",
    "    # Shade the recession periods\n",
    "    for start, end in recessions:\n",
    "        ax.axvspan(pd.to_datetime(start), pd.to_datetime(end), color='grey', alpha=0.3)\n",
    "        \n",
    "    # Format the x-axis to show every year\n",
    "    ax.xaxis.set_major_locator(mdates.YearLocator())\n",
    "    ax.xaxis.set_major_formatter(mdates.DateFormatter('%Y'))\n",
    "\n",
    "    # Rotate date labels for better visibility\n",
    "    plt.xticks(rotation=45)\n",
    "\n",
    "    # Save the plot in the 'selected_topics_plots_sentiment_adjustment' directory\n",
    "    plt.savefig(f'selected_topics_plots_sentiment_adjustment/Topic_{topic}.png')\n",
    "\n",
    "    # Clear the current figure to free memory\n",
    "    plt.clf()"
   ]
  },
  {
   "cell_type": "markdown",
   "id": "0ee954fa",
   "metadata": {},
   "source": [
    "Finally, we reformat the `sign_adjusted_daily_topics` DataFrame to include separate 'year', 'month', and 'day' columns, and save the reformatted DataFrame to a CSV file for further analysis."
   ]
  },
  {
   "cell_type": "code",
   "execution_count": 15,
   "id": "7632561a",
   "metadata": {},
   "outputs": [],
   "source": [
    "# Reset the index\n",
    "sign_adjusted_daily_topics = sign_adjusted_daily_topics.reset_index()\n",
    "\n",
    "# Create 'year', 'month', and 'day' columns\n",
    "sign_adjusted_daily_topics['year'] = sign_adjusted_daily_topics['date'].dt.year\n",
    "sign_adjusted_daily_topics['month'] = sign_adjusted_daily_topics['date'].dt.month\n",
    "sign_adjusted_daily_topics['day'] = sign_adjusted_daily_topics['date'].dt.day\n",
    "\n",
    "# Drop the old 'index' column which holds the date\n",
    "sign_adjusted_daily_topics = sign_adjusted_daily_topics.drop(columns=['date'])\n",
    "\n",
    "# Reorder the columns to have 'year', 'month', 'day' as the first three columns\n",
    "cols = ['year', 'month', 'day'] + [col for col in sign_adjusted_daily_topics if col not in ['year', 'month', 'day']]\n",
    "sign_adjusted_daily_topics_format = sign_adjusted_daily_topics[cols]\n",
    "\n",
    "# Save to CSV\n",
    "sign_adjusted_daily_topics_format.to_csv('sign_adjusted_daily_topics_format.csv', index=False)"
   ]
  }
 ],
 "metadata": {
  "kernelspec": {
   "display_name": "py3_env_gpu",
   "language": "python",
   "name": "py3_env_gpu"
  },
  "language_info": {
   "codemirror_mode": {
    "name": "ipython",
    "version": 3
   },
   "file_extension": ".py",
   "mimetype": "text/x-python",
   "name": "python",
   "nbconvert_exporter": "python",
   "pygments_lexer": "ipython3",
   "version": "3.8.15"
  }
 },
 "nbformat": 4,
 "nbformat_minor": 5
}
