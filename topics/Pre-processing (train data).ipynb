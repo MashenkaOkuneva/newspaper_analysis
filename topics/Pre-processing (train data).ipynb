{
 "cells": [
  {
   "cell_type": "markdown",
   "metadata": {},
   "source": [
    "In this notebook, we will be focusing on pre-processing the training portion of our dataset, specifically the articles published before 2010, for the purpose of topic modeling. First, we load the datasets from Handelsblatt, SZ, Welt, and dpa."
   ]
  },
  {
   "cell_type": "code",
   "execution_count": 1,
   "metadata": {},
   "outputs": [
    {
     "name": "stdout",
     "output_type": "stream",
     "text": [
      "3336299\n"
     ]
    },
    {
     "data": {
      "text/html": [
       "<div>\n",
       "<style scoped>\n",
       "    .dataframe tbody tr th:only-of-type {\n",
       "        vertical-align: middle;\n",
       "    }\n",
       "\n",
       "    .dataframe tbody tr th {\n",
       "        vertical-align: top;\n",
       "    }\n",
       "\n",
       "    .dataframe thead th {\n",
       "        text-align: right;\n",
       "    }\n",
       "</style>\n",
       "<table border=\"1\" class=\"dataframe\">\n",
       "  <thead>\n",
       "    <tr style=\"text-align: right;\">\n",
       "      <th></th>\n",
       "      <th>texts</th>\n",
       "      <th>day</th>\n",
       "      <th>month</th>\n",
       "      <th>year</th>\n",
       "    </tr>\n",
       "  </thead>\n",
       "  <tbody>\n",
       "    <tr>\n",
       "      <th>0</th>\n",
       "      <td>Schalck: Milliardenkredit sicherte Zahlungsfäh...</td>\n",
       "      <td>1</td>\n",
       "      <td>1</td>\n",
       "      <td>1991</td>\n",
       "    </tr>\n",
       "    <tr>\n",
       "      <th>1</th>\n",
       "      <td>Welajati: Iran bleibt bei einem Krieg am Golf ...</td>\n",
       "      <td>1</td>\n",
       "      <td>1</td>\n",
       "      <td>1991</td>\n",
       "    </tr>\n",
       "    <tr>\n",
       "      <th>2</th>\n",
       "      <td>Bush will offenbar seinen Außenminister erneut...</td>\n",
       "      <td>1</td>\n",
       "      <td>1</td>\n",
       "      <td>1991</td>\n",
       "    </tr>\n",
       "    <tr>\n",
       "      <th>3</th>\n",
       "      <td>Sperrfrist 1. Januar 1000 HBV fordert umfassen...</td>\n",
       "      <td>1</td>\n",
       "      <td>1</td>\n",
       "      <td>1991</td>\n",
       "    </tr>\n",
       "    <tr>\n",
       "      <th>4</th>\n",
       "      <td>Schamir weist Nahost-Äußerungen des neuen EG-P...</td>\n",
       "      <td>1</td>\n",
       "      <td>1</td>\n",
       "      <td>1991</td>\n",
       "    </tr>\n",
       "  </tbody>\n",
       "</table>\n",
       "</div>"
      ],
      "text/plain": [
       "                                               texts  day  month  year\n",
       "0  Schalck: Milliardenkredit sicherte Zahlungsfäh...    1      1  1991\n",
       "1  Welajati: Iran bleibt bei einem Krieg am Golf ...    1      1  1991\n",
       "2  Bush will offenbar seinen Außenminister erneut...    1      1  1991\n",
       "3  Sperrfrist 1. Januar 1000 HBV fordert umfassen...    1      1  1991\n",
       "4  Schamir weist Nahost-Äußerungen des neuen EG-P...    1      1  1991"
      ]
     },
     "execution_count": 1,
     "metadata": {},
     "output_type": "execute_result"
    }
   ],
   "source": [
    "import os\n",
    "import pandas as pd\n",
    "from ast import literal_eval\n",
    "from datetime import datetime\n",
    "startTime = datetime.now()\n",
    "\n",
    "# Set the path variable to point to the 'newspaper_data_processing' directory.\n",
    "path = os.getcwd().replace('\\\\newspaper_analysis\\\\topics', '\\\\newspaper_data_processing')\n",
    "\n",
    "# Load pre-processed 'dpa' dataset from a CSV file.\n",
    "dpa = pd.read_csv(path + '\\\\dpa\\\\' + 'dpa_prepro_final.csv', encoding = 'utf-8', sep=';', index_col = 0,  keep_default_na=False,\n",
    "                   dtype = {'rubrics': 'str', \n",
    "                            'source': 'str',\n",
    "                            'keywords': 'str',\n",
    "                            'title': 'str',\n",
    "                            'city': 'str',\n",
    "                            'genre': 'str',\n",
    "                            'wordcount': 'str'},\n",
    "                  converters = {'paragraphs': literal_eval})\n",
    "\n",
    "# Keep only the article texts and their respective publication dates.\n",
    "dpa = dpa[['texts', 'day', 'month', 'year']]\n",
    "\n",
    "# Load pre-processed 'SZ' dataset from a CSV file.\n",
    "sz = pd.read_csv(path + '\\\\SZ\\\\' + 'sz_prepro_final.csv', encoding = 'utf-8-sig', sep=';', index_col = 0, dtype = {'newspaper': 'str',\n",
    "                                                                                                 'newspaper_2': 'str',\n",
    "                                                                                                 'quelle_texts': 'str',\n",
    "                                                                                                 'page': 'str',\n",
    "                                                                                                 'rubrics': 'str'})\n",
    "sz.page = sz.page.fillna('')\n",
    "sz.newspaper = sz.newspaper.fillna('')\n",
    "sz.newspaper_2 = sz.newspaper_2.fillna('')\n",
    "sz.rubrics = sz.rubrics.fillna('')\n",
    "sz.quelle_texts = sz.quelle_texts.fillna('')\n",
    "\n",
    "# Keep only the article texts and their respective publication dates.\n",
    "sz = sz[['texts', 'day', 'month', 'year']]\n",
    "\n",
    "# Load pre-processed 'Handelsblatt' dataset from a CSV file.\n",
    "hb = pd.read_csv(path + '\\\\Handelsblatt\\\\' + 'hb_prepro_final.csv', encoding = 'utf-8-sig', sep=';', index_col = 0, dtype = {'kicker': 'str',\n",
    "                                                                                                 'page': 'str',\n",
    "                                                                                                 'series_title': 'str',\n",
    "                                                                                                 'rubrics': 'str'})\n",
    "hb.page = hb.page.fillna('')\n",
    "hb.series_title = hb.series_title.fillna('')\n",
    "hb.kicker = hb.kicker.fillna('')\n",
    "hb.rubrics = hb.rubrics.fillna('')\n",
    "\n",
    "# Keep only the article texts and their respective publication dates.\n",
    "hb = hb[['texts', 'day', 'month', 'year']]\n",
    "\n",
    "# Load pre-processed 'Welt' dataset from a CSV file.\n",
    "welt = pd.read_csv(path + '\\\\Welt\\\\' + 'welt_prepro_final.csv', encoding = 'utf-8-sig', sep=';', index_col = 0, dtype = {'newspaper': 'str',\n",
    "                                                                                                 'rubrics': 'str',\n",
    "                                                                                                 'title': 'str'})\n",
    "welt.title = welt.title.fillna('')\n",
    "welt.rubrics = welt.rubrics.fillna('')\n",
    "\n",
    "# Keep only the article texts and their respective publication dates.\n",
    "welt = welt[['texts', 'day', 'month', 'year']]\n",
    "\n",
    "# Concatenate the 'dpa', 'sz', 'hb', and 'welt' DataFrames into a single DataFrame 'data'.\n",
    "data = pd.concat([dpa, sz, hb, welt])\n",
    "\n",
    "# The number of articles in the final dataset.\n",
    "print(len(data))\n",
    "\n",
    "# Sort the data in chronological order.\n",
    "data = data.sort_values(['year', 'month', 'day'], ascending=[True, True, True])\n",
    "# Reset the index of the DataFrame\n",
    "data.reset_index(inplace=True, drop=True)\n",
    "data.head()"
   ]
  },
  {
   "cell_type": "markdown",
   "metadata": {},
   "source": [
    "Next, we import sentiment scores, previously computed using an LSTM model for each article in the corpus."
   ]
  },
  {
   "cell_type": "code",
   "execution_count": 2,
   "metadata": {},
   "outputs": [],
   "source": [
    "import csv\n",
    "import codecs\n",
    "\n",
    "# Set the path variable to point to the 'sentiment' directory.\n",
    "path = os.getcwd().replace('\\\\topics', '') + '\\\\sentiment'\n",
    "\n",
    "with codecs.open(path + \"\\\\scores_lstm.csv\", \"r\", encoding='utf-8-sig') as f:\n",
    "    reader = csv.reader(f)\n",
    "    scores = [None if row[0] == '' else float(row[0]) for row in reader]"
   ]
  },
  {
   "cell_type": "markdown",
   "metadata": {},
   "source": [
    "We add sentiment scores as a new column to the `data` DataFrame and discard any rows with missing sentiment scores."
   ]
  },
  {
   "cell_type": "code",
   "execution_count": 3,
   "metadata": {},
   "outputs": [],
   "source": [
    "# Add the sentiment scores as a new column in the data DataFrame\n",
    "data['scores'] = scores\n",
    "\n",
    "# Remove any rows in the DataFrame where a sentiment score is missing (NaN). In this context, \n",
    "# NaN corresponds to the model's inability to predict sentiment for certain \n",
    "# articles due to formatting issues or because the article is too short (less than 20 tokens).\n",
    "data = data.dropna(subset=['scores'])\n",
    "\n",
    "# Reset the index of the DataFrame\n",
    "data.reset_index(inplace=True, drop=True)"
   ]
  },
  {
   "cell_type": "markdown",
   "metadata": {},
   "source": [
    "In this project, we limit our training dataset to include only articles published from 1991 through 2009, inclusive. This decision is driven by our later goal of performing an out-of-sample forecast of GDP growth for the years 2010 to 2018. By excluding data from 2010 onward during the model training phase, we ensure that our forecast does not incorporate information that was not yet available."
   ]
  },
  {
   "cell_type": "code",
   "execution_count": 4,
   "metadata": {},
   "outputs": [],
   "source": [
    "# Filter the dataset to include only articles published before 2010.\n",
    "data = data[data.year < 2010]"
   ]
  },
  {
   "cell_type": "markdown",
   "metadata": {},
   "source": [
    "To pre-process the data for topic modeling, we use the `RawDocs` class from Stephen Hansen's [`topic-modelling-tools`](https://www.dropbox.com/s/gxkqgjwc50qjtg5/topic-modelling-tools-with_gsl.zip?dl=0). We adapt the pre-processing steps to meet the specific requirements of our current project. \n",
    "\n",
    "Here's what we do:\n",
    "\n",
    "1. We create single terms out of two-word (and three-word) collocations. This involves combining the words in each collocation into a single term, using an underscore. This can help the model to understand and use the combined meaning of the collocations better, rather than treating each word individually. Nonetheless, to alleviate computational load, we limit our focus to the 2,000 most frequent two-word collocations and the 1,000 most frequent three-word collocations.\n",
    "\n",
    "2. We convert all upper-case to lower-case letters.\n",
    "\n",
    "3. We remove all apostrophes.\n",
    "\n",
    "4. We tokenize a text. A token is the technical name for a sequence of characters that we want to treat as a group."
   ]
  },
  {
   "cell_type": "code",
   "execution_count": 5,
   "metadata": {},
   "outputs": [],
   "source": [
    "import topicmodels\n",
    "docsobj = topicmodels.RawDocs(data.texts)"
   ]
  },
  {
   "cell_type": "markdown",
   "metadata": {},
   "source": [
    "5. We remove non-alphabetic characters (including numbers, punctuation, and currency symbols) and single-character words. However, we retain words that include an underscore, as these represent collocations."
   ]
  },
  {
   "cell_type": "code",
   "execution_count": 6,
   "metadata": {},
   "outputs": [
    {
     "name": "stdout",
     "output_type": "stream",
     "text": [
      "[u'schalck', u'milliardenkredit', u'sicherte', u'zahlungsf\\xe4higkeit', u'der', u'ex', u'ddr', u'berlin', u'nach', u'darstellung', u'des', u'fr\\xfcheren', u'devisenbeschaffers', u'der', u'ehemaligen_ddr', u'alexander', u'schalck', u'golodkowski', u'hat', u'der', u'von', u'franz', u'josef_strau\\xdf', u'eingef\\xe4delte', u'milliardenkredit', u'von', u'erstmals', u'die', u'zahlungsf\\xe4higkeit', u'der', u'ddr', u'aufrechterhalten', u'in', u'einem', u'interview', u'der', u'ard', u'das', u'am', u'mittwoch', u'abend', u'ausgestrahlt', u'wird', u'sagte', u'schalck', u'nach', u'angaben_des_senders', u'freies', u'berlin', u'sfb', u'vom', u'dienstag', u'damals', u'sei', u'es', u'bereits', u'um', u'sein', u'oder', u'nichtsein', u'der', u'ddr', u'gegangen', u'ende', u'sei', u'dann', u'deutlich', u'geworden', u'da\\xdf', u'die', u'damalige', u'ddr', u'nur', u'noch', u'in', u'enger', u'wirtschaftlicher', u'kooperation', u'mit', u'der', u'bundesrepublik', u'\\xfcberleben', u'k\\xf6nnte', u'dies', u'sei', u'aber', u'von', u'staats', u'und', u'parteichef', u'erich_honecker', u'und', u'seinen', u'beratern', u'als', u'konterrevolution\\xe4r', u'zur\\xfcckgewiesen', u'worden', u'entscheidend', u'zum', u'wirtschaftlichen', u'aus', u'habe', u'die', u'ablehnung', u'der', u'politik', u'des', u'sowjetischen', u'staatspr\\xe4sidenten', u'michail_gorbatschows', u'beigetragen', u'damit', u'seien', u'die', u'lebenswichtigen', u'adern', u'zur', u'sowjetunion', u'durchschnitten', u'worden', u'eine', u'\\xe4nderung', u'der', u'alten', u'politik', u'sei', u'aber', u'auch', u'von', u'ihm', u'nicht', u'angeregt', u'worden', u'so', u'schalck', u'golodkowski', u'nach', u'angaben', u'des', u'sfb', u'ich', u'habe', u'bedingungslos', u'diesem', u'system', u'gedient', u'schalck', u'wies', u'in', u'dem', u'interview', u'vorw\\xfcrfe', u'zur\\xfcck', u'im', u'rahmen', u'seiner', u'jahrzehntelangen', u'arbeit', u'als', u'leiter_der_abteilung', u'kommerzielle', u'koordinierung', u'koko', u'kriminelle', u't\\xe4tigkeiten', u'begangen', u'zu', u'haben', u'schalck', u'der', u'auch', u'im', u'sold', u'des', u'staatssicherheitsdienstes', u'stand', u'nannte', u'als', u'grund', u'f\\xfcr', u'seine', u'flucht', u'vor', u'einem', u'jahr', u'er', u'habe', u'angst', u'vor', u'der', u'f\\xfchrungsspitze', u'des', u'politb\\xfcros', u'gehabt', u'das', u'ihn', u'fallengelassen', u'habe', u'f\\xfcr', u'kurze_zeit', u'sei', u'er', u'sogar', u'zum', u'selbstmord', u'entschlossen', u'gewesen', u'der', u'beitrag', u'wurde', u'dpa', u'vorab', u'in', u'redaktioneller_fassung', u'\\xfcbermittelt']\n"
     ]
    }
   ],
   "source": [
    "docsobj.token_clean(1)\n",
    "print docsobj.tokens[0]"
   ]
  },
  {
   "cell_type": "markdown",
   "metadata": {},
   "source": [
    "6. We remove stop words. Stop words are a set of very frequently used words that do not convey meaning by themselves, like ‘aber’, ‘alle’, ‘allem’. "
   ]
  },
  {
   "cell_type": "code",
   "execution_count": 7,
   "metadata": {},
   "outputs": [
    {
     "name": "stdout",
     "output_type": "stream",
     "text": [
      "[u'schalck', u'milliardenkredit', u'sicherte', u'zahlungsf\\xe4higkeit', u'ex', u'ddr', u'berlin', u'darstellung', u'fr\\xfcheren', u'devisenbeschaffers', u'ehemaligen_ddr', u'alexander', u'schalck', u'golodkowski', u'franz', u'josef_strau\\xdf', u'eingef\\xe4delte', u'milliardenkredit', u'erstmals', u'zahlungsf\\xe4higkeit', u'ddr', u'aufrechterhalten', u'interview', u'ard', u'mittwoch', u'abend', u'ausgestrahlt', u'sagte', u'schalck', u'angaben_des_senders', u'freies', u'berlin', u'sfb', u'dienstag', u'damals', u'sei', u'bereits', u'nichtsein', u'ddr', u'gegangen', u'ende', u'sei', u'deutlich', u'geworden', u'damalige', u'ddr', u'enger', u'wirtschaftlicher', u'kooperation', u'bundesrepublik', u'\\xfcberleben', u'sei', u'staats', u'parteichef', u'erich_honecker', u'beratern', u'konterrevolution\\xe4r', u'zur\\xfcckgewiesen', u'worden', u'entscheidend', u'wirtschaftlichen', u'ablehnung', u'politik', u'sowjetischen', u'staatspr\\xe4sidenten', u'michail_gorbatschows', u'beigetragen', u'seien', u'lebenswichtigen', u'adern', u'sowjetunion', u'durchschnitten', u'worden', u'\\xe4nderung', u'alten', u'politik', u'sei', u'angeregt', u'worden', u'schalck', u'golodkowski', u'angaben', u'sfb', u'bedingungslos', u'system', u'gedient', u'schalck', u'wies', u'interview', u'vorw\\xfcrfe', u'zur\\xfcck', u'rahmen', u'jahrzehntelangen', u'arbeit', u'leiter_der_abteilung', u'kommerzielle', u'koordinierung', u'koko', u'kriminelle', u't\\xe4tigkeiten', u'begangen', u'schalck', u'sold', u'staatssicherheitsdienstes', u'stand', u'nannte', u'grund', u'flucht', u'jahr', u'angst', u'f\\xfchrungsspitze', u'politb\\xfcros', u'gehabt', u'fallengelassen', u'kurze_zeit', u'sei', u'sogar', u'selbstmord', u'entschlossen', u'beitrag', u'wurde', u'dpa', u'vorab', u'redaktioneller_fassung', u'\\xfcbermittelt']\n"
     ]
    }
   ],
   "source": [
    "docsobj.stopword_remove(\"tokens\")\n",
    "print docsobj.tokens[0]"
   ]
  },
  {
   "cell_type": "markdown",
   "metadata": {},
   "source": [
    "7. We remove common German first names and surnames. The former are retrieved from [Script](https://script.byu.edu/german-handwriting/tools/given-names) and [beliebte-vornamen.de](https://www.beliebte-vornamen.de/). We get the list of surnames from [Digital Dictionary of Surnames in Germany](http://www.namenforschung.net/en/dfd/dictionary/list-of-all-published-entries/).\n",
    "\n",
    "The rationale behind this step is to prevent the creation of topics where names or surnames become the most probable words. Topics dominated by names or surnames do not provide valuable insights for our research objectives. Furthermore, the removal of common names and surnames is a standard practice in text processing within the field of topic modeling."
   ]
  },
  {
   "cell_type": "code",
   "execution_count": 8,
   "metadata": {},
   "outputs": [
    {
     "name": "stdout",
     "output_type": "stream",
     "text": [
      "[u'schalck', u'milliardenkredit', u'sicherte', u'zahlungsf\\xe4higkeit', u'ex', u'ddr', u'berlin', u'darstellung', u'fr\\xfcheren', u'devisenbeschaffers', u'ehemaligen_ddr', u'schalck', u'golodkowski', u'josef_strau\\xdf', u'eingef\\xe4delte', u'milliardenkredit', u'erstmals', u'zahlungsf\\xe4higkeit', u'ddr', u'aufrechterhalten', u'interview', u'ard', u'mittwoch', u'abend', u'ausgestrahlt', u'sagte', u'schalck', u'angaben_des_senders', u'freies', u'berlin', u'sfb', u'dienstag', u'damals', u'sei', u'bereits', u'nichtsein', u'ddr', u'gegangen', u'ende', u'sei', u'deutlich', u'geworden', u'damalige', u'ddr', u'wirtschaftlicher', u'kooperation', u'bundesrepublik', u'\\xfcberleben', u'sei', u'staats', u'parteichef', u'erich_honecker', u'beratern', u'konterrevolution\\xe4r', u'zur\\xfcckgewiesen', u'worden', u'entscheidend', u'wirtschaftlichen', u'ablehnung', u'politik', u'sowjetischen', u'staatspr\\xe4sidenten', u'michail_gorbatschows', u'beigetragen', u'seien', u'lebenswichtigen', u'adern', u'sowjetunion', u'durchschnitten', u'worden', u'\\xe4nderung', u'alten', u'politik', u'sei', u'angeregt', u'worden', u'schalck', u'golodkowski', u'angaben', u'sfb', u'bedingungslos', u'system', u'gedient', u'schalck', u'wies', u'interview', u'vorw\\xfcrfe', u'zur\\xfcck', u'rahmen', u'jahrzehntelangen', u'arbeit', u'leiter_der_abteilung', u'kommerzielle', u'koordinierung', u'koko', u'kriminelle', u't\\xe4tigkeiten', u'begangen', u'schalck', u'sold', u'staatssicherheitsdienstes', u'stand', u'nannte', u'grund', u'flucht', u'jahr', u'angst', u'f\\xfchrungsspitze', u'politb\\xfcros', u'gehabt', u'fallengelassen', u'kurze_zeit', u'sei', u'sogar', u'selbstmord', u'entschlossen', u'beitrag', u'wurde', u'dpa', u'vorab', u'redaktioneller_fassung', u'\\xfcbermittelt']\n"
     ]
    }
   ],
   "source": [
    "docsobj.words_remove(docsobj.names)\n",
    "print docsobj.tokens[0]"
   ]
  },
  {
   "cell_type": "markdown",
   "metadata": {},
   "source": [
    "8. We stem the tokens. Stemming is the process of reducing words that have different grammatical forms but share a common meaning to their word stem. For instance, all words ‘kategorisch’, ‘kategorische’, ‘kategorischen’ have the same stem ‘kategor’. We use a Porter Stemmer for German language which is the most popular algorithm for stemming. Details on the Porter Stemmer can be found [here](http://snowball.tartarus.org/algorithms/german/stemmer.html)."
   ]
  },
  {
   "cell_type": "code",
   "execution_count": 9,
   "metadata": {},
   "outputs": [
    {
     "name": "stdout",
     "output_type": "stream",
     "text": [
      "[u'schalck', u'milliardenkredit', u'sichert', u'zahlungsfah', u'ex', u'ddr', u'berlin', u'darstell', u'fruh', u'devisenbeschaff', u'ehemaligen_ddr', u'schalck', u'golodkowski', u'josef_strau\\xdf', u'eingefadelt', u'milliardenkredit', u'erstmal', u'zahlungsfah', u'ddr', u'aufrechterhalt', u'interview', u'ard', u'mittwoch', u'abend', u'ausgestrahlt', u'sagt', u'schalck', u'angaben_des_senders', u'freies', u'berlin', u'sfb', u'dienstag', u'damal', u'sei', u'bereit', u'nichtsein', u'ddr', u'gegang', u'end', u'sei', u'deutlich', u'geword', u'damal', u'ddr', u'wirtschaft', u'kooperation', u'bundesrepubl', u'uberleb', u'sei', u'staat', u'parteichef', u'erich_honecker', u'berat', u'konterrevolutionar', u'zuruckgewies', u'word', u'entscheid', u'wirtschaft', u'ablehn', u'polit', u'sowjet', u'staatsprasident', u'michail_gorbatschows', u'beigetrag', u'seien', u'lebenswicht', u'adern', u'sowjetunion', u'durchschnitt', u'word', u'ander', u'alt', u'polit', u'sei', u'angeregt', u'word', u'schalck', u'golodkowski', u'angab', u'sfb', u'bedingungslos', u'syst', u'gedient', u'schalck', u'wies', u'interview', u'vorwurf', u'zuruck', u'rahm', u'jahrzehntelang', u'arbeit', u'leiter_der_abteilung', u'kommerziell', u'koordinier', u'koko', u'kriminell', u'tatig', u'begang', u'schalck', u'sold', u'staatssicherheitsdien', u'stand', u'nannt', u'grund', u'flucht', u'jahr', u'angst', u'fuhrungsspitz', u'politburos', u'gehabt', u'fallengelass', u'kurze_zeit', u'sei', u'sogar', u'selbstmord', u'entschloss', u'beitrag', u'wurd', u'dpa', u'vorab', u'redaktioneller_fassung', u'ubermittelt']\n"
     ]
    }
   ],
   "source": [
    "docsobj.stem()\n",
    "print docsobj.stems[0]"
   ]
  },
  {
   "cell_type": "markdown",
   "metadata": {},
   "source": [
    "9. To ensure that all stopwords are fully eliminated, especially after the stemming process which might have transformed some words into stopwords, we conduct an additional removal of stopwords. "
   ]
  },
  {
   "cell_type": "code",
   "execution_count": 10,
   "metadata": {},
   "outputs": [
    {
     "name": "stdout",
     "output_type": "stream",
     "text": [
      "[u'schalck', u'milliardenkredit', u'sichert', u'zahlungsfah', u'ex', u'ddr', u'berlin', u'darstell', u'fruh', u'devisenbeschaff', u'ehemaligen_ddr', u'schalck', u'golodkowski', u'josef_strau\\xdf', u'eingefadelt', u'milliardenkredit', u'erstmal', u'zahlungsfah', u'ddr', u'aufrechterhalt', u'interview', u'ard', u'mittwoch', u'abend', u'ausgestrahlt', u'sagt', u'schalck', u'angaben_des_senders', u'freies', u'berlin', u'sfb', u'dienstag', u'damal', u'sei', u'bereit', u'nichtsein', u'ddr', u'gegang', u'end', u'sei', u'deutlich', u'geword', u'damal', u'ddr', u'wirtschaft', u'kooperation', u'bundesrepubl', u'uberleb', u'sei', u'staat', u'parteichef', u'erich_honecker', u'berat', u'konterrevolutionar', u'zuruckgewies', u'word', u'entscheid', u'wirtschaft', u'ablehn', u'polit', u'sowjet', u'staatsprasident', u'michail_gorbatschows', u'beigetrag', u'seien', u'lebenswicht', u'adern', u'sowjetunion', u'durchschnitt', u'word', u'alt', u'polit', u'sei', u'angeregt', u'word', u'schalck', u'golodkowski', u'angab', u'sfb', u'bedingungslos', u'syst', u'gedient', u'schalck', u'wies', u'interview', u'vorwurf', u'zuruck', u'rahm', u'jahrzehntelang', u'arbeit', u'leiter_der_abteilung', u'kommerziell', u'koordinier', u'koko', u'kriminell', u'tatig', u'begang', u'schalck', u'sold', u'staatssicherheitsdien', u'stand', u'nannt', u'grund', u'flucht', u'jahr', u'angst', u'fuhrungsspitz', u'politburos', u'gehabt', u'fallengelass', u'kurze_zeit', u'sei', u'sogar', u'selbstmord', u'entschloss', u'beitrag', u'wurd', u'dpa', u'vorab', u'redaktioneller_fassung', u'ubermittelt']\n"
     ]
    }
   ],
   "source": [
    "docsobj.stopword_remove('stems')\n",
    "print docsobj.stems[0]"
   ]
  },
  {
   "cell_type": "markdown",
   "metadata": {},
   "source": [
    "10. Discard the tokens with the lowest tf-idf score. tf-idf stands for term frequency – inverse document frequency and is defined by the following formula for each token $v$:\n",
    "\n",
    "$$\\text{tf-idf}_v = \\log(1+N_v)× \\log⁡\\left(\\frac{D}{D_v}\\right)$$\n",
    "\n",
    "where\n",
    "$N_v$ – the count of the token $v$ in the corpus,\n",
    "$D_v$ – the number of documents that contain the term $v$,\n",
    "$D$ - the number of documents.\n",
    "\n",
    "This numerical statistic is lower for those tokens that appear in the documents very rarely or very frequently. Dimensionality reduction is the main goal of the step. "
   ]
  },
  {
   "cell_type": "code",
   "execution_count": 11,
   "metadata": {},
   "outputs": [
    {
     "name": "stdout",
     "output_type": "stream",
     "text": [
      "4:23:59.507000\n"
     ]
    }
   ],
   "source": [
    "docsobj.term_rank(\"stems\")\n",
    "print(datetime.now()-startTime)"
   ]
  },
  {
   "cell_type": "code",
   "execution_count": 12,
   "metadata": {},
   "outputs": [
    {
     "data": {
      "image/png": "[encoded data removed]",
      "text/plain": [
       "<Figure size 720x432 with 1 Axes>"
      ]
     },
     "metadata": {
      "needs_background": "light"
     },
     "output_type": "display_data"
    }
   ],
   "source": [
    "import matplotlib.pyplot as plt\n",
    "plt.figure(figsize=(10, 6))\n",
    "plt.plot([x[1] for x in docsobj.tfidf_ranking])\n",
    "plt.axvline(x=300000, color='r', linestyle='--')  # Add vertical line at index 300000\n",
    "plt.show()"
   ]
  },
  {
   "cell_type": "code",
   "execution_count": 13,
   "metadata": {},
   "outputs": [
    {
     "name": "stdout",
     "output_type": "stream",
     "text": [
      "number of unique stems = 292319\n",
      "number of total stems = 94617131\n"
     ]
    }
   ],
   "source": [
    "docsobj.rank_remove(\"tfidf\",\"stems\",docsobj.tfidf_ranking[300000][1])\n",
    "all_stems = [s for d in docsobj.stems for s in d]\n",
    "print(\"number of unique stems = %d\" % len(set(all_stems)))\n",
    "print(\"number of total stems = %d\" % len(all_stems))"
   ]
  },
  {
   "cell_type": "code",
   "execution_count": 14,
   "metadata": {},
   "outputs": [
    {
     "name": "stdout",
     "output_type": "stream",
     "text": [
      "[u'schalck', u'milliardenkredit', u'sichert', u'zahlungsfah', u'ex', u'ddr', u'darstell', u'devisenbeschaff', u'ehemaligen_ddr', u'schalck', u'golodkowski', u'josef_strau\\xdf', u'eingefadelt', u'milliardenkredit', u'erstmal', u'zahlungsfah', u'ddr', u'aufrechterhalt', u'interview', u'ard', u'abend', u'ausgestrahlt', u'schalck', u'angaben_des_senders', u'freies', u'sfb', u'damal', u'nichtsein', u'ddr', u'gegang', u'geword', u'damal', u'ddr', u'kooperation', u'bundesrepubl', u'uberleb', u'parteichef', u'erich_honecker', u'berat', u'konterrevolutionar', u'zuruckgewies', u'ablehn', u'sowjet', u'staatsprasident', u'michail_gorbatschows', u'beigetrag', u'lebenswicht', u'adern', u'sowjetunion', u'durchschnitt', u'angeregt', u'schalck', u'golodkowski', u'sfb', u'bedingungslos', u'syst', u'gedient', u'schalck', u'wies', u'interview', u'vorwurf', u'rahm', u'jahrzehntelang', u'leiter_der_abteilung', u'kommerziell', u'koordinier', u'koko', u'kriminell', u'tatig', u'begang', u'schalck', u'sold', u'staatssicherheitsdien', u'stand', u'nannt', u'flucht', u'angst', u'fuhrungsspitz', u'politburos', u'gehabt', u'fallengelass', u'kurze_zeit', u'selbstmord', u'entschloss', u'beitrag', u'vorab', u'redaktioneller_fassung', u'ubermittelt']\n"
     ]
    }
   ],
   "source": [
    "print docsobj.stems[0]"
   ]
  },
  {
   "cell_type": "code",
   "execution_count": 15,
   "metadata": {},
   "outputs": [],
   "source": [
    "import pickle\n",
    "\n",
    "with open('stems_for_lda_train.pkl', 'wb') as f:\n",
    "    pickle.dump(docsobj.stems, f)"
   ]
  },
  {
   "cell_type": "code",
   "execution_count": 16,
   "metadata": {},
   "outputs": [
    {
     "data": {
      "application/javascript": [
       "IPython.notebook.save_checkpoint();"
      ],
      "text/plain": [
       "<IPython.core.display.Javascript object>"
      ]
     },
     "metadata": {},
     "output_type": "display_data"
    }
   ],
   "source": [
    "from IPython.display import display, Javascript\n",
    "display(Javascript('IPython.notebook.save_checkpoint();'))"
   ]
  }
 ],
 "metadata": {
  "kernelspec": {
   "display_name": "Python 2",
   "language": "python",
   "name": "python2"
  },
  "language_info": {
   "codemirror_mode": {
    "name": "ipython",
    "version": 2
   },
   "file_extension": ".py",
   "mimetype": "text/x-python",
   "name": "python",
   "nbconvert_exporter": "python",
   "pygments_lexer": "ipython2",
   "version": "2.7.15"
  }
 },
 "nbformat": 4,
 "nbformat_minor": 4
}
