{
 "cells": [
  {
   "cell_type": "markdown",
   "id": "893ab9fb",
   "metadata": {},
   "source": [
    "In this notebook, our goal is to select the top N articles with the highest proportion of each distinct topic. This allows us to explore the key discussions associated with each topic."
   ]
  },
  {
   "cell_type": "markdown",
   "id": "35fe7ba2",
   "metadata": {},
   "source": [
    "First, we load the datasets from Handelsblatt, SZ, Welt, and dpa."
   ]
  },
  {
   "cell_type": "code",
   "execution_count": 1,
   "id": "2d723d39",
   "metadata": {},
   "outputs": [
    {
     "name": "stdout",
     "output_type": "stream",
     "text": [
      "3336299\n"
     ]
    },
    {
     "data": {
      "text/html": [
       "<div>\n",
       "<style scoped>\n",
       "    .dataframe tbody tr th:only-of-type {\n",
       "        vertical-align: middle;\n",
       "    }\n",
       "\n",
       "    .dataframe tbody tr th {\n",
       "        vertical-align: top;\n",
       "    }\n",
       "\n",
       "    .dataframe thead th {\n",
       "        text-align: right;\n",
       "    }\n",
       "</style>\n",
       "<table border=\"1\" class=\"dataframe\">\n",
       "  <thead>\n",
       "    <tr style=\"text-align: right;\">\n",
       "      <th></th>\n",
       "      <th>texts</th>\n",
       "      <th>day</th>\n",
       "      <th>month</th>\n",
       "      <th>year</th>\n",
       "    </tr>\n",
       "  </thead>\n",
       "  <tbody>\n",
       "    <tr>\n",
       "      <th>0</th>\n",
       "      <td>Schalck: Milliardenkredit sicherte Zahlungsfäh...</td>\n",
       "      <td>1</td>\n",
       "      <td>1</td>\n",
       "      <td>1991</td>\n",
       "    </tr>\n",
       "    <tr>\n",
       "      <th>1</th>\n",
       "      <td>Welajati: Iran bleibt bei einem Krieg am Golf ...</td>\n",
       "      <td>1</td>\n",
       "      <td>1</td>\n",
       "      <td>1991</td>\n",
       "    </tr>\n",
       "    <tr>\n",
       "      <th>2</th>\n",
       "      <td>Bush will offenbar seinen Außenminister erneut...</td>\n",
       "      <td>1</td>\n",
       "      <td>1</td>\n",
       "      <td>1991</td>\n",
       "    </tr>\n",
       "    <tr>\n",
       "      <th>3</th>\n",
       "      <td>Sperrfrist 1. Januar 1000 HBV fordert umfassen...</td>\n",
       "      <td>1</td>\n",
       "      <td>1</td>\n",
       "      <td>1991</td>\n",
       "    </tr>\n",
       "    <tr>\n",
       "      <th>4</th>\n",
       "      <td>Schamir weist Nahost-Äußerungen des neuen EG-P...</td>\n",
       "      <td>1</td>\n",
       "      <td>1</td>\n",
       "      <td>1991</td>\n",
       "    </tr>\n",
       "  </tbody>\n",
       "</table>\n",
       "</div>"
      ],
      "text/plain": [
       "                                               texts  day  month  year\n",
       "0  Schalck: Milliardenkredit sicherte Zahlungsfäh...    1      1  1991\n",
       "1  Welajati: Iran bleibt bei einem Krieg am Golf ...    1      1  1991\n",
       "2  Bush will offenbar seinen Außenminister erneut...    1      1  1991\n",
       "3  Sperrfrist 1. Januar 1000 HBV fordert umfassen...    1      1  1991\n",
       "4  Schamir weist Nahost-Äußerungen des neuen EG-P...    1      1  1991"
      ]
     },
     "execution_count": 1,
     "metadata": {},
     "output_type": "execute_result"
    }
   ],
   "source": [
    "import os\n",
    "import pandas as pd\n",
    "from ast import literal_eval\n",
    "from datetime import datetime\n",
    "startTime = datetime.now()\n",
    "\n",
    "# Set the path variable to point to the 'newspaper_data_processing' directory\n",
    "path = os.getcwd().replace('\\\\newspaper_analysis\\\\topics', '\\\\newspaper_data_processing')\n",
    "\n",
    "# Load pre-processed 'dpa' dataset from a CSV file\n",
    "dpa = pd.read_csv(path + '\\\\dpa\\\\' + 'dpa_prepro_final.csv', encoding = 'utf-8', sep=';', index_col = 0,  keep_default_na=False,\n",
    "                   dtype = {'rubrics': 'str', \n",
    "                            'source': 'str',\n",
    "                            'keywords': 'str',\n",
    "                            'title': 'str',\n",
    "                            'city': 'str',\n",
    "                            'genre': 'str',\n",
    "                            'wordcount': 'str'},\n",
    "                  converters = {'paragraphs': literal_eval})\n",
    "\n",
    "# Keep only the article texts and their respective publication dates\n",
    "dpa = dpa[['texts', 'day', 'month', 'year']]\n",
    "\n",
    "# Load pre-processed 'SZ' dataset from a CSV file\n",
    "sz = pd.read_csv(path + '\\\\SZ\\\\' + 'sz_prepro_final.csv', encoding = 'utf-8-sig', sep=';', index_col = 0, dtype = {'newspaper': 'str',\n",
    "                                                                                                 'newspaper_2': 'str',\n",
    "                                                                                                 'quelle_texts': 'str',\n",
    "                                                                                                 'page': 'str',\n",
    "                                                                                                 'rubrics': 'str'})\n",
    "sz.page = sz.page.fillna('')\n",
    "sz.newspaper = sz.newspaper.fillna('')\n",
    "sz.newspaper_2 = sz.newspaper_2.fillna('')\n",
    "sz.rubrics = sz.rubrics.fillna('')\n",
    "sz.quelle_texts = sz.quelle_texts.fillna('')\n",
    "\n",
    "# Keep only the article texts and their respective publication dates\n",
    "sz = sz[['texts', 'day', 'month', 'year']]\n",
    "\n",
    "# Load pre-processed 'Handelsblatt' dataset from a CSV file\n",
    "hb = pd.read_csv(path + '\\\\Handelsblatt\\\\' + 'hb_prepro_final.csv', encoding = 'utf-8-sig', sep=';', index_col = 0, dtype = {'kicker': 'str',\n",
    "                                                                                                 'page': 'str',\n",
    "                                                                                                 'series_title': 'str',\n",
    "                                                                                                 'rubrics': 'str'})\n",
    "hb.page = hb.page.fillna('')\n",
    "hb.series_title = hb.series_title.fillna('')\n",
    "hb.kicker = hb.kicker.fillna('')\n",
    "hb.rubrics = hb.rubrics.fillna('')\n",
    "\n",
    "# Keep only the article texts and their respective publication dates\n",
    "hb = hb[['texts', 'day', 'month', 'year']]\n",
    "\n",
    "# Load pre-processed 'Welt' dataset from a CSV file\n",
    "welt = pd.read_csv(path + '\\\\Welt\\\\' + 'welt_prepro_final.csv', encoding = 'utf-8-sig', sep=';', index_col = 0, dtype = {'newspaper': 'str',\n",
    "                                                                                                 'rubrics': 'str',\n",
    "                                                                                                 'title': 'str'})\n",
    "welt.title = welt.title.fillna('')\n",
    "welt.rubrics = welt.rubrics.fillna('')\n",
    "\n",
    "# Keep only the article texts and their respective publication dates\n",
    "welt = welt[['texts', 'day', 'month', 'year']]\n",
    "\n",
    "# Concatenate the 'dpa', 'sz', 'hb', and 'welt' DataFrames into a single DataFrame 'data'\n",
    "data = pd.concat([dpa, sz, hb, welt])\n",
    "\n",
    "# The number of articles in the final dataset\n",
    "print(len(data))\n",
    "\n",
    "# Sort the data in chronological order\n",
    "data = data.sort_values(['year', 'month', 'day'], ascending=[True, True, True])\n",
    "# Reset the index of the DataFrame\n",
    "data.reset_index(inplace=True, drop=True)\n",
    "data.head()"
   ]
  },
  {
   "cell_type": "markdown",
   "id": "f2379565",
   "metadata": {},
   "source": [
    "Next, we import sentiment scores, previously computed using an LSTM model for each article in the corpus."
   ]
  },
  {
   "cell_type": "code",
   "execution_count": 2,
   "id": "b350a05e",
   "metadata": {},
   "outputs": [],
   "source": [
    "import csv\n",
    "import codecs\n",
    "\n",
    "# Set the path variable to point to the 'sentiment' directory\n",
    "path = os.getcwd().replace('\\\\topics', '') + '\\\\sentiment'\n",
    "\n",
    "with codecs.open(path + \"\\\\scores_lstm.csv\", \"r\", encoding='utf-8-sig') as f:\n",
    "    reader = csv.reader(f)\n",
    "    scores = [None if row[0] == '' else float(row[0]) for row in reader]   "
   ]
  },
  {
   "cell_type": "markdown",
   "id": "a954087e",
   "metadata": {},
   "source": [
    "We add sentiment scores as a new column to the `data` DataFrame and discard any rows with missing sentiment scores."
   ]
  },
  {
   "cell_type": "code",
   "execution_count": 3,
   "id": "29e83c91",
   "metadata": {},
   "outputs": [],
   "source": [
    "# Add the sentiment scores as a new column in the data DataFrame\n",
    "data['scores'] = scores\n",
    "\n",
    "# Remove any rows in the DataFrame where a sentiment score is missing (NaN). In this context, \n",
    "# NaN corresponds to the model's inability to predict sentiment for certain \n",
    "# articles due to formatting issues or because the article is too short (less than 20 tokens).\n",
    "data = data.dropna(subset=['scores'])\n",
    "\n",
    "# Reset the index of the DataFrame\n",
    "data.reset_index(inplace=True, drop=True)"
   ]
  },
  {
   "cell_type": "markdown",
   "id": "3b661838",
   "metadata": {},
   "source": [
    "Afterward, we are incorporating the topic distributions for each article, which were previously computed using the Latent Dirichlet Allocation (LDA) algorithm in the notebook named `Topic model estimation`. "
   ]
  },
  {
   "cell_type": "code",
   "execution_count": 4,
   "id": "24930f6a",
   "metadata": {},
   "outputs": [],
   "source": [
    "# Load the article topics from a CSV file.\n",
    "article_topics = pd.read_csv('article_topic.csv', encoding='utf-8', index_col=0)\n",
    "\n",
    "# Merge the `data` DataFrame with the `article_topics` DataFrame\n",
    "data = pd.concat([data, article_topics], axis=1)"
   ]
  },
  {
   "cell_type": "markdown",
   "id": "5fcf5218",
   "metadata": {},
   "source": [
    "Now we identify the top `n` articles with the highest proportion of a certain topic, and for each of these articles, we print the date of publication, the text, the proportion of this topic in the article, the sentiment score, and the sentiment sign (which is '+1' for scores greater than or equal to 0.5, and '-1' otherwise)."
   ]
  },
  {
   "cell_type": "code",
   "execution_count": 5,
   "id": "d9b50339",
   "metadata": {},
   "outputs": [
    {
     "name": "stdout",
     "output_type": "stream",
     "text": [
      "Article 592093:\n",
      "Date of Publication: 15-5-2009\n",
      "Text: Deutsche Wirtschaft abgestürzt - Tiefpunkt erreicht?   (Mit Grafik 10829 und Bildern). Wiesbaden Dieser Absturz ist beispiellos: Nach fünf Boomjahren in Folge hat die globale Wirtschaftskrise deutlich spürbare Kratzer an Deutschlands Wirtschaft hinterlassen. Das Land steckt in der tiefsten Rezession der Nachkriegsgeschichte. Noch nie seit Beginn der Quartals-Erhebungen durch das Statistische Bundesamt im Jahr 1970 brach das Bruttoinlandsprodukt (BIP) so rasant ein wie im ersten Quartal 2009. «Das Bruttoinlandsprodukt ist gegenüber dem vierten Quartal 2008 um 3,8 Prozent kollabiert», schreibt Commerzbank-Chefvolkswirt Jörg Krämer. Volkswirt Stefan Bielmeier von der Deutschen Bank stellt fest: «Einen solchen Einbruch, der sich über vier Quartale beschleunigt, gab es noch nie. Nicht mal bei der letzten Ölkrise.» Schon ist von einer «Schockstarre» der Wirtschaft die Rede, die NordLB spricht von «Horrorzahlen». So schnell wird der Wachstumsmotor in Deutschland und weltweit nach einhelliger Expertenmeinung nicht wieder anspringen. Aber immerhin: Der Tiefpunkt der Wirtschaftskrise scheint überstanden. «Die hässlichen BIP-Zahlen sollten die Talsohle der aktuellen \"Großen Rezession\" markieren», prognostiziert UniCredit-Volkswirt Alexander Koch. Bielmeier stimmt zu: «Wir gehen davon aus, dass das erste Quartal das schwächste sein wird.» Ein nachhaltiges Wachstum sei allerdings frühestens im zweiten Quartal 2010 zu erwarten. Der kräftige Einbruch der Wirtschaftsleistung von besorgniserregenden 6,7 Prozent im Vergleich zum ersten Quartal 2008 hat alle großen Industriebranchen schmerzhaft getroffen. Die chemische Industrie berichtete von einem desaströsen ersten Vierteljahr 2009. Automobilhersteller erleiden am Weltmarkt teils kräftige Absatzeinbrüche und fahren in die roten Zahlen. Und auch der erfolgsverwöhnte deutsche Maschinenbau durchlebt eine dramatische Talfahrt. Über all dem schwebt das Damoklesschwert der Weltkonjunktur, denn Deutschland ist als langjähriger Exportweltmeister wesentlich stärker von der Krise betroffen als andere: Wenn die globale Nachfrage einbricht, bekommen die heimischen Unternehmen das unmittelbar zu spüren. Deshalb erstaunt es nicht, dass die Wirtschaft in europäischen Nachbarländern wie Italien, Frankreich oder Spanien weniger stark absackte als die deutsche: Das BIP im Eurogebiet sowie in der EU mit 27 Staaten schrumpfte zu Jahresbeginn im Vergleich zu den drei Vormonaten um 2,5 Prozent. Den Rekord hält allerdings nicht Deutschland, sondern die Slowakei und Lettland mit minus 11,2 Prozent. Umgekehrt lässt sich aber auch größere Hoffnung schöpfen, wenn US- Notenbankchef Ben Bernanke ein Ende der Abschussfahrt vorhersagt: «Wir rechnen weiterhin damit, dass die Wirtschaftsaktivität gegen Ende des Jahres wieder nach oben zeigt», erklärte er Anfang Mai. Besserung für die Wirtschaft versprechen der zuletzt leicht angezogene Export, die weltweiten Konjunkturprogramme und die Niedrigzinspolitik der Notenbanken. Experten rechnen im Gesamtjahr dennoch mit einem BIP-Minus von mehr als sechs Prozent. Die Deutsche Bank hält vorerst die frühere Prognose von minus fünf Prozent für realistisch. «Aber es gibt jede Menge Risiken», sagt Bielmeier. So könnten etwa der Welthandel nicht wie erwartet anspringen oder die Konjunkturprogramme sich weniger stark auswirken. Zudem bestehe die Gefahr, dass die privaten Haushalte ihren Konsum drosseln. Denn am Arbeitsmarkt ist die Krise noch nicht in voller Wucht angekommen.\n",
      "Topic proportion: 0.2279735682819383\n",
      "Score: 0.2244638204574585\n",
      "Sign: -1\n",
      "\n",
      "---\n",
      "\n"
     ]
    }
   ],
   "source": [
    "# Set the number of articles you want to pick\n",
    "n = 1\n",
    "\n",
    "# Set the topic of interest\n",
    "topic = 'T27'\n",
    "\n",
    "# Sort the dataframe by the topic in descending order and pick the top n articles\n",
    "top_articles = data.sort_values(by=[topic], ascending=False).head(n)\n",
    "\n",
    "# Print the texts of the top articles for the topic, their proportion for that topic, and their score\n",
    "for i, row in top_articles.iterrows():\n",
    "    print(f'Article {i}:')\n",
    "    print('Date of Publication:', f\"{row['day']}-{row['month']}-{row['year']}\")\n",
    "    print('Text:', row['texts'])\n",
    "    print('Topic proportion:', row[topic])\n",
    "    print('Score:', row['scores'])\n",
    "    print('Sign:', '+1' if row['scores'] >= 0.5 else '-1')\n",
    "    print('\\n---\\n')"
   ]
  },
  {
   "cell_type": "markdown",
   "id": "d34d1ef8",
   "metadata": {},
   "source": [
    "We also identify the top `n` articles that have a sentiment score less than 0.2 (indicating negative sentiment) and the highest proportion of a certain topic. This allows us to explore articles that extensively discuss this topic and convey a negative sentiment."
   ]
  },
  {
   "cell_type": "code",
   "execution_count": 6,
   "id": "8abc44c9",
   "metadata": {},
   "outputs": [
    {
     "name": "stdout",
     "output_type": "stream",
     "text": [
      "Article 611481:\n",
      "Date of Publication: 26-11-2009\n",
      "Text: (Zusammenfassung 1900) Länder fordern Klarheit über Opel-Stellenabbau (Mit Bildern). Rüsselsheim Scharfe Kritik aus den Bundesländern mit Opel- Standorten an General Motors: Die derzeitigen Spekulationen über den Stellenabbau seien «unerträglich», klagte Hessens Ministerpräsident Roland Koch (CDU) am Donnerstag in Wiesbaden. GM solle endlich Klarheit über die Stellenstreichungen in den Opel-Werken schaffen. Koch bezog sich vor allem auf die Zahl von 2500 wegfallenden Stellen im Rüsselsheimer Stammwerk, die inakzeptabel sei. Er habe sie nur «aus der Zeitung erfahren». Thüringens Ministerpräsidentin Christine Lieberknecht (CDU) forderte ein schriftliches Sanierungskonzept von GM. Vorher habe es keinen Sinn, über öffentliche Hilfen zu diskutieren. «Wir wollen detailliert wissen, was passiert.» Lieberknecht will Garantien von General Motors (GM) für den Erhalt der vier deutschen Opel-Werke. Die Zusagen, die GM gemacht hat, müssten «schwarz auf weiß» vorliegen. «Das ist normales Geschäftsgebaren», sagte Lieberknecht am Donnerstag in einem Gespräch mit der Deutschen Presse-Agentur dpa. Mit einem GM-Konzept für Opel rechne sie erst Mitte Dezember. GM hatte am Vortag bekanntgegeben, zur Kostensenkung in Europa 9000 Stellen bei Opel zu streichen. Am schlimmsten soll es Deutschland treffen, wo bis zu 5400 Arbeitsplätze an den vier Standorten Rüsselsheim, Bochum, Eisenach und Kaiserslautern wegfallen, die Werke aber erhalten bleiben. Detaillierte Zahlen hatte danach der Opel-Betriebsrat zu den GM-Plänen vorgelegt. Dabei geht es neben Rüsselsheim in Bochum um 1800 wegfallende Jobs, in Eisenach und Kaiserslautern um jeweils 300. Nach den jüngsten Zahlen, die Opel am Donnerstag veröffentlichte, beschäftigt Opel in Deutschland noch 24 300 Mitarbeiter, zuvor waren 25 500 genannt worden. Europaweit seien es bei Opel zusammen mit der Schwestermarke Vauxhall noch 48 000 Mitarbeiter, zuvor waren knapp 55 000 genannt worden. Die Bundesregierung sandte trotz des geplanten massiven Stellenabbaus erste positive Signale für eine staatliche Unterstützung. Bundeskanzlerin Angela Merkel (CDU) nannte das GM- Konzept mit dem Erhalt aller vier deutschen Standorte eine gute Perspektive. Am Vortag bei einem Treffen mit Spaniens Regierungschef José Luis Rodríguez Zapatero in Meseberg bei Berlin zeigte sie sich zuversichtlich für die kommenden Verhandlungen. Laut Informationen aus Berliner Regierungskreisen verdichteten sich Hinweise, dass Bund und Länder GM beim Opel-Umbau letztlich doch unter die Arme greifen würden. Allerdings ist Wirtschaftsminister Rainer Brüderle (FDP) weiter strikt gegen Staatshilfen. Die IG Metall geht auf klaren Konfrontationskurs zu GM und lehnt einen Beitrag der Beschäftigten zur Sanierung rundweg ab. Man werde nicht zulassen, dass die Beschäftigten auf Teile ihres Tariflohnes verzichteten und damit ihren eigenen Arbeitsplatzabbau mitfinanzierten, sagte der Frankfurter Bezirksvorsitzende der Gewerkschaft, Armin Schild. Er machte die Hilfe davon abhängig, dass GM Pläne für neue Modelle, Investitionen und Markterschließung vorlegt. Schild, der als Arbeitnehmervertreter im Opel-Aufsichtsrat sitzt, ging mit GM hart ins Gericht: «Kein Konzept, keine finanzielle Ausstattung, kein einziger innovativer Gedanke, sondern kurzsichtiger Kahlschlag.» Das US-Unternehmen sei weder finanziell noch konzeptionell in der Lage, für einen Neuanfang zu sorgen. Die Opel-Restrukturierung wird GM nach eigenen Angaben rund 3,3 Milliarden Euro kosten - diese Summe kann der Konzern nicht aus eigener Kraft aufbringen. Die Staatshilfen müssen von der EU- Kommission als oberster Wettbewerbsaufsicht Europas genehmigt werden. Darüber sprach Lieberknecht (CDU) am Donnerstag mit EU- Industriekommissar Günter Verheugen in Brüssel. Im thüringischen Eisenach produzieren rund 1700 Mitarbeiter den Kleinwagen Corsa. Koch klagte, die Zahl von 2500 wegfallenden Stellen widerspreche den Zusagen, die GM Europe-Chef Reilly ihm noch am Mittwochmorgen gegeben habe. Ohne konkrete Zahlen zu nennen, hat Reilly nach Wort Kochs zugesichert, dass sich GM nahe an das Magna-Konzept halten werde. Dieses sah einen Abbau von 1400 bis 1600 Arbeitsplätzen im Stammwerk vor. Das Bochumer Opel-Werk ist weit weniger vom Stellenabbau betroffen als befürchtet. Es seien bis zu 700 Stellen weniger als im schlimmsten Fall angenommen. «Die Befürchtungen reichten bis zum Wegfall von 2500 der 6000 Stellen», sagte der Bochumer Betriebsratschef Rainer Einenkel der dpa. Der Kürzungsplan für Bochum schließt laut Betriebsrat auch die Getriebeproduktion mit knapp 700 Mitarbeitern ein, die verlagert werden soll. Ebenso wie die IG Metall sind auch die Opel-Händler nicht mehr zu einem finanziellen Beitrag bereit. «Wir haben unsere Unterstützung zur Sanierung immer davon abhängig gemacht, dass Opel an einen Dritten verkauft wird», sagte der Vorstand des deutschen Opel- Händlerverbands VDOH, Thomas Bieling, der dpa. «Wir bieten GM nichts an.» Die europäischen Händler wollten Opel im Falle einer Trennung von GM mit bis zu 500 Millionen Euro unter die Arme greifen.\n",
      "Topic proportion: 0.4196745562130178\n",
      "Score: 0.1950039118528366\n",
      "Sign: -1\n",
      "\n",
      "---\n",
      "\n"
     ]
    }
   ],
   "source": [
    "# Set the number of articles you want to pick\n",
    "n = 1\n",
    "\n",
    "# Set the topic of interest\n",
    "topic = 'T81'\n",
    "\n",
    "# Filter articles with score less than 0.2\n",
    "filtered_data = data[data['scores'] < 0.2]\n",
    "\n",
    "# Sort the filtered dataframe by the topic in descending order and pick the top n articles\n",
    "top_articles = filtered_data.sort_values(by=[topic], ascending=False).head(n)\n",
    "\n",
    "# Print the texts of the top articles for the topic, their proportion for that topic, and their score\n",
    "for i, row in top_articles.iterrows():\n",
    "    print(f'Article {i + 1}:')\n",
    "    print('Date of Publication:', f\"{row['day']}-{row['month']}-{row['year']}\")\n",
    "    print('Text:', row['texts'])\n",
    "    print('Topic proportion:', row[topic])\n",
    "    print('Score:', row['scores'])\n",
    "    print('Sign:', '+1' if row['scores'] >= 0.5 else '-1')\n",
    "    print('\\n---\\n')"
   ]
  },
  {
   "cell_type": "markdown",
   "id": "694a5b46",
   "metadata": {},
   "source": [
    "Moreover, it can be insightful to identify articles from a specific year (e.g., a crisis year like 2008) that have the highest share of a selected topic and a negative sentiment (score less than 0.2)."
   ]
  },
  {
   "cell_type": "code",
   "execution_count": 7,
   "id": "dae6c1df",
   "metadata": {},
   "outputs": [
    {
     "name": "stdout",
     "output_type": "stream",
     "text": [
      "Article 552228:\n",
      "Date of Publication: 16-5-2008\n",
      "Text: US-ZENTRALBANK. Blasenleiden. TORSTEN RIECKE Als Alan Greenspan 2002 gefragt wurde, ob das Platzen der Internetblase ein heilsamer Schock gewesen sei, versicherte der damalige US-Notenbankchef, dass es lange dauern würde, bevor sich die Anleger wieder von einem derartigen irrationalen Überschwang fortreißen ließen. Ein folgenschwerer Irrtum des Maestros der Geldpolitik. Nur wenige Jahre später bildete sich in den USA die nächste Spekulationsblase, diesmal auf dem Immobilienmarkt. Die Folgen bezeichnet der inzwischen pensionierte Greenspan als größtes Finanzdesaster seit dem Ende des Zweiten Weltkriegs. Dass seine lockere Geldpolitik zwischen 2001 und 2006 die Blase erst aufgepumpt hat, bestreitet er energisch. Dennoch hat die schnelle Folge von zwei riesigen Spekulationswellen die Notenbanker weltweit nachdenklich gemacht. Sogar bei der Fed in Washington wird jetzt darüber diskutiert, ob die Zentralbanker nicht aktiver gegen Exzesse auf den Finanzmärkten vorgehen müssen. Es sind noch erste Überlegungen, die vor allem auf die Frage zielen, ob regulatorische Schritte frühzeitig der Blasenbildung entgegenwirken können. Sollte die Fed zu einer positiven Antwort kommen, wäre das eine radikale Abkehr von der noch immer geltenden Greenspan-Doktrin. Der Notenbanker a.D. behauptet bis heute, dass sich Spekulationsblasen erst erkennen lassen, wenn sie bereits geplatzt sind. Der Zentralbank bleibe deshalb nichts anderes übrig, als die negativen Folgen für die reale Wirtschaft durch Zinssenkungen zu mildern. Eine Meinung, die mit Greenspans Nachfolger Ben Bernanke auch die Mehrheit der US-Ökonomen bislang geteilt hat. Ohne Zweifel ist es enorm schwierig, den Punkt zu bestimmen, ab dem ein fundamentaler wirtschaftlicher Fortschritt in eine irrationale Hysterie umschlägt. Die Internetblase ist dafür ein gutes Beispiel. Der verstärkte Einsatz von Hochtechnologien hatte zu Beginn der 90er-Jahre das Wachstumspotenzial der US-Wirtschaft gesteigert. Die damals stark gestiegene Zunahme der Produktivität belegt das. In der zweiten Hälfte der neunziger Jahre löste sich das Geschehen auf den Finanzmärkten jedoch von der wirtschaftlichen Realität. Greenspan spürte das und warnte in seiner berühmten Rede 1996 vor dem \"irrationalen Überschwang\" an den Märkten. Ein deutliches Zeichen dafür, dass die Notenbanker zwar nicht allwissend sein können, aber auch nicht ahnungslos sind. Leider ließ Greenspan seiner Warnung keine Taten folgen, sondern kehrte die Scherben der Dotcom-Party mit Zinssenkungen zusammen. Auch in der aktuellen Immobilienkrise hat es an frühzeitigen Warnungen innerhalb der US-Notenbank nicht gefehlt. So drängte der kürzlich verstorbene Fed-Gouverneur Edward Gramlich Greenspan bereits im Jahr 2000, gegen die lockere Kreditvergabe der amerikanischen Baufinanzierer vorzugehen. Der ließ sich nicht überzeugen. Stattdessen senkte er den Leitzins auf ein Prozent und steigerte noch die Gier auf dem Immobilienmarkt. Interessanterweise widerspricht die Greenspan-Doktrin beim Umgang mit Spekulationsblasen dem ebenfalls von ihm maßgeblich bestimmten Risikomanagement der US-Notenbank. Greenspan und auch sein Nachfolger Bernanke sind überzeugt, dass die Notenbanker die Pflicht haben, die Wirtschaft vor gravierenden Risiken zu schützen, selbst wenn deren Eintrittswahrscheinlichkeit gering ist. In diesem Sinne müsste die Fed auch dann gegen Übertreibungen auf den Finanzmärkten einschreiten, wenn sie noch nicht überzeugt davon ist, dass es sich um eine Spekulationsblase handelt. Bleibt die Frage, ob die Notenbanker überhaupt die richtigen Mittel haben, um Exzesse auf den Finanzmärkten zu verhindern. Die Zinspolitik als stärkste Waffe der Zentralbank eignet sich nur bedingt. Dreht die Notenbank aus Furcht vor Marktübertreibungen zu früh den Kredithahn zu, läuft sie Gefahr, den wirtschaftlichen Fortschritt abzuwürgen. Besser geeignet ist es dagegen, die Finanzaufsicht zu stärken und gegen Exzesse mit regulatorischen Mitteln vorzugehen. Dazu gab es bei beiden Spekulationsblasen der vergangenen zehn Jahre Gelegenheit. Während der Interneteuphorie hätte die Fed frühzeitig die Mindestsicherheiten (margin requirements) für den Handel auf den Finanzmärkten anheben können. Auch darüber wurde während der 90er-Jahre diskutiert. Im Fall der Subprime-Krise hat es die US-Notenbank versäumt, frühzeitig die dubiosen Praktiken bei der Vergabe von riskanten Hypotheken zu unterbinden. Entscheidet sich die Fed, künftig aktiver gegen Marktexzesse vorzugehen, sollte sie deshalb zunächst ihren Pflichten in der Finanzaufsicht nachkommen. Erst danach kann man über den Einsatz der Zinspolitik nachdenken. Notenbanker sind nicht allwissend, aber auch nicht ahnungslos bei Marktexzessen.\n",
      "Topic proportion: 0.1869774919614147\n",
      "Score: 0.17828597128391266\n",
      "Sign: -1\n",
      "\n",
      "---\n",
      "\n"
     ]
    }
   ],
   "source": [
    "# Set the number of articles you want to pick\n",
    "n = 1\n",
    "\n",
    "# Set the topic of interest\n",
    "topic = 'T74'\n",
    "\n",
    "# Filter articles from the year 2008 with a sentiment score less than 0.2 (indicating negative sentiment)\n",
    "filtered_data = data[(data['year']==2008) & (data['scores'] < 0.2)]\n",
    "\n",
    "# Sort the filtered dataframe by the topic in descending order and pick the top n articles\n",
    "top_articles = filtered_data.sort_values(by=[topic], ascending=False).head(n)\n",
    "\n",
    "# Print the texts of the top articles for the topic, their proportion for that topic, and their score\n",
    "for i, row in top_articles.iterrows():\n",
    "    print(f'Article {i + 1}:')\n",
    "    print('Date of Publication:', f\"{row['day']}-{row['month']}-{row['year']}\")\n",
    "    print('Text:', row['texts'])\n",
    "    print('Topic proportion:', row[topic])\n",
    "    print('Score:', row['scores'])\n",
    "    print('Sign:', '+1' if row['scores'] >= 0.5 else '-1')\n",
    "    print('\\n---\\n')"
   ]
  },
  {
   "cell_type": "markdown",
   "id": "5553bf05",
   "metadata": {},
   "source": [
    "Or, we can identify articles from a specific year with the highest share of a selected topic to understand the key events covered at that time within the context of that topic."
   ]
  },
  {
   "cell_type": "code",
   "execution_count": 8,
   "id": "e3cbf529",
   "metadata": {},
   "outputs": [
    {
     "name": "stdout",
     "output_type": "stream",
     "text": [
      "Article 530762:\n",
      "Date of Publication: 8-10-2007\n",
      "Text: Rezessionsgefahr in den USA sinkt. Überraschend positive Nachrichten vom Arbeitsmarkt dämpfen Konjunktursorgen. FRANKFURT.Der amerikanische Arbeitsmarkt hat im September für eine positive Überraschung gesorgt. Zum einen sind im vergangenen Monat in den USA deutlich mehr neue Stellen entstanden als erwartet, zum anderen revidierten die Statistiker die bislang schwachen August-Zahlen stark nach oben. Die Finanzmärkte reagierten überaus positiv auf diese Nachrichten, weil die Sorgen vor einer Rezession in der US-Wirtschaft einen deutlichen Dämpfer erhielten. Als die Zahlen bekannt gegeben wurden, \"ging ein Raunen durch den Händlersaal der Commerzbank\", schreibt Jörg Krämer, Chefökonom des Finanzhauses, in seinem Handelsblatt-Weblog. Die Zahl der Beschäftigten außerhalb der Landwirtschaft stieg nach Angaben des US-Arbeitsministeriums im September um 110 000. Zudem entwickelte sich der Arbeitsmarkt in den Vormonaten deutlich besser als bislang gedacht. Im August kletterte die Zahl der Beschäftigten revidierten Zahlen zufolge um 89 000. Bislang hatten die Statistiker ein Minus von 4 000 Stellen gemeldet. Und im Juli steig die Zahl um 93 000 statt nur um 68 000. US-Präsident George W. Bush betrachtet die neue Arbeitsmarktdaten als Hinweis auf die Stärke der Wirtschaft. Die Daten bewiesen, dass die US-Konjunktur \"dynamisch und stark\" sei. Die Beschäftigung steige seit 49 Monaten in Folge. Dies sei der längste Zeitraum eines ununterbrochenen Stellenanstiegs seit Beginn der Aufzeichnungen. Volkswirte interpretierten die Zahlen als Signal dafür, dass die Konjunkturrisiken für die US-Wirtschaft abgenommen haben. Trotz der Aufwärtsrevisionen stelle sich die Lage am Arbeitsmarkt aber keineswegs positiv dar, betont Commerzbank-Ökonom Krämer. Die US-Unternehmen hätten in den vergangenen drei Monaten im Schnitt nur 97 000 neue Stellen geschaffen. \"Die US-Wirtschaft schafft also bereits nicht mehr genügend Stellen. Und die seit dem Herbst stagnierenden Ausrüstungsinvestitionen deuten darauf hin, dass sich der Stellenzuwachs in den kommenden Monaten weiter abschwächt\", schreibt er in seinem Handelsblatt-Blog. Trotz des Stellenzuwachses legte die Arbeitslosenquote im September um 0,1 Prozentpunkt auf 4,7 Prozent zu. Bankvolkswirte erklärten das mit dem starken Wachstum der Zahl der den Erwerbspersonen, mit der die Beschäftigungsentwicklung nicht Schritt halten konnte. doh\n",
      "Topic proportion: 0.0990566037735849\n",
      "Score: 0.8192870616912842\n",
      "Sign: +1\n",
      "\n",
      "---\n",
      "\n"
     ]
    }
   ],
   "source": [
    "# Set the number of articles you want to pick\n",
    "n = 1\n",
    "\n",
    "# Set the topic of interest\n",
    "topic = 'T100'\n",
    "\n",
    "# Filter articles from the year 2007\n",
    "filtered_data = data[data['year']==2007]\n",
    "\n",
    "# Sort the filtered dataframe by the topic in descending order and pick the top n articles\n",
    "top_articles = filtered_data.sort_values(by=[topic], ascending=False).head(n)\n",
    "\n",
    "# Print the texts of the top articles for the topic, their proportion for that topic, and their score\n",
    "for i, row in top_articles.iterrows():\n",
    "    print(f'Article {i + 1}:')\n",
    "    print('Date of Publication:', f\"{row['day']}-{row['month']}-{row['year']}\")\n",
    "    print('Text:', row['texts'])\n",
    "    print('Topic proportion:', row[topic])\n",
    "    print('Score:', row['scores'])\n",
    "    print('Sign:', '+1' if row['scores'] >= 0.5 else '-1')\n",
    "    print('\\n---\\n')"
   ]
  }
 ],
 "metadata": {
  "kernelspec": {
   "display_name": "py3_env_gpu",
   "language": "python",
   "name": "py3_env_gpu"
  },
  "language_info": {
   "codemirror_mode": {
    "name": "ipython",
    "version": 3
   },
   "file_extension": ".py",
   "mimetype": "text/x-python",
   "name": "python",
   "nbconvert_exporter": "python",
   "pygments_lexer": "ipython3",
   "version": "3.8.15"
  }
 },
 "nbformat": 4,
 "nbformat_minor": 5
}
